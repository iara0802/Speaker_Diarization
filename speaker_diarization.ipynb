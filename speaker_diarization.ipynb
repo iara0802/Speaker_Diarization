{
 "metadata": {
  "kernelspec": {
   "language": "python",
   "display_name": "Python 3",
   "name": "python3"
  },
  "language_info": {
   "name": "python",
   "version": "3.10.13",
   "mimetype": "text/x-python",
   "codemirror_mode": {
    "name": "ipython",
    "version": 3
   },
   "pygments_lexer": "ipython3",
   "nbconvert_exporter": "python",
   "file_extension": ".py"
  },
  "kaggle": {
   "accelerator": "nvidiaTeslaT4",
   "dataSources": [
    {
     "sourceId": 8345169,
     "sourceType": "datasetVersion",
     "datasetId": 4878596
    }
   ],
   "dockerImageVersionId": 30698,
   "isInternetEnabled": true,
   "language": "python",
   "sourceType": "notebook",
   "isGpuEnabled": true
  },
  "colab": {
   "provenance": []
  },
  "widgets": {
   "application/vnd.jupyter.widget-state+json": {
    "ef74ba45e7924e0085dbf3d1b72b8db7": {
     "model_module": "@jupyter-widgets/controls",
     "model_name": "HBoxModel",
     "model_module_version": "1.5.0",
     "state": {
      "_dom_classes": [],
      "_model_module": "@jupyter-widgets/controls",
      "_model_module_version": "1.5.0",
      "_model_name": "HBoxModel",
      "_view_count": null,
      "_view_module": "@jupyter-widgets/controls",
      "_view_module_version": "1.5.0",
      "_view_name": "HBoxView",
      "box_style": "",
      "children": [
       "IPY_MODEL_9815f6ebdcf54fd9ad13859d371d06d3",
       "IPY_MODEL_7638f3c1355e4810a0ad435412a8b299",
       "IPY_MODEL_05080407cb1345a981a454867292d658"
      ],
      "layout": "IPY_MODEL_573618a5c01b46c9a55fe09b3f67b35b"
     }
    },
    "9815f6ebdcf54fd9ad13859d371d06d3": {
     "model_module": "@jupyter-widgets/controls",
     "model_name": "HTMLModel",
     "model_module_version": "1.5.0",
     "state": {
      "_dom_classes": [],
      "_model_module": "@jupyter-widgets/controls",
      "_model_module_version": "1.5.0",
      "_model_name": "HTMLModel",
      "_view_count": null,
      "_view_module": "@jupyter-widgets/controls",
      "_view_module_version": "1.5.0",
      "_view_name": "HTMLView",
      "description": "",
      "description_tooltip": null,
      "layout": "IPY_MODEL_34efbf224aa24a1097e89dcc0699adfd",
      "placeholder": "​",
      "style": "IPY_MODEL_17febec68e8e49ecb9caf0adddc2f03e",
      "value": "pytorch_model.bin: 100%"
     }
    },
    "7638f3c1355e4810a0ad435412a8b299": {
     "model_module": "@jupyter-widgets/controls",
     "model_name": "FloatProgressModel",
     "model_module_version": "1.5.0",
     "state": {
      "_dom_classes": [],
      "_model_module": "@jupyter-widgets/controls",
      "_model_module_version": "1.5.0",
      "_model_name": "FloatProgressModel",
      "_view_count": null,
      "_view_module": "@jupyter-widgets/controls",
      "_view_module_version": "1.5.0",
      "_view_name": "ProgressView",
      "bar_style": "success",
      "description": "",
      "description_tooltip": null,
      "layout": "IPY_MODEL_a4e594e6773641abbcf83c993fa127b7",
      "max": 17719103,
      "min": 0,
      "orientation": "horizontal",
      "style": "IPY_MODEL_6e9ca084f2114d819757e3c985689c49",
      "value": 17719103
     }
    },
    "05080407cb1345a981a454867292d658": {
     "model_module": "@jupyter-widgets/controls",
     "model_name": "HTMLModel",
     "model_module_version": "1.5.0",
     "state": {
      "_dom_classes": [],
      "_model_module": "@jupyter-widgets/controls",
      "_model_module_version": "1.5.0",
      "_model_name": "HTMLModel",
      "_view_count": null,
      "_view_module": "@jupyter-widgets/controls",
      "_view_module_version": "1.5.0",
      "_view_name": "HTMLView",
      "description": "",
      "description_tooltip": null,
      "layout": "IPY_MODEL_c8a42f00412b404abf487a4b7c6799a4",
      "placeholder": "​",
      "style": "IPY_MODEL_ad27325b1d7244fdbac87f2217d1e9f0",
      "value": " 17.7M/17.7M [00:00&lt;00:00, 52.9MB/s]"
     }
    },
    "573618a5c01b46c9a55fe09b3f67b35b": {
     "model_module": "@jupyter-widgets/base",
     "model_name": "LayoutModel",
     "model_module_version": "1.2.0",
     "state": {
      "_model_module": "@jupyter-widgets/base",
      "_model_module_version": "1.2.0",
      "_model_name": "LayoutModel",
      "_view_count": null,
      "_view_module": "@jupyter-widgets/base",
      "_view_module_version": "1.2.0",
      "_view_name": "LayoutView",
      "align_content": null,
      "align_items": null,
      "align_self": null,
      "border": null,
      "bottom": null,
      "display": null,
      "flex": null,
      "flex_flow": null,
      "grid_area": null,
      "grid_auto_columns": null,
      "grid_auto_flow": null,
      "grid_auto_rows": null,
      "grid_column": null,
      "grid_gap": null,
      "grid_row": null,
      "grid_template_areas": null,
      "grid_template_columns": null,
      "grid_template_rows": null,
      "height": null,
      "justify_content": null,
      "justify_items": null,
      "left": null,
      "margin": null,
      "max_height": null,
      "max_width": null,
      "min_height": null,
      "min_width": null,
      "object_fit": null,
      "object_position": null,
      "order": null,
      "overflow": null,
      "overflow_x": null,
      "overflow_y": null,
      "padding": null,
      "right": null,
      "top": null,
      "visibility": null,
      "width": null
     }
    },
    "34efbf224aa24a1097e89dcc0699adfd": {
     "model_module": "@jupyter-widgets/base",
     "model_name": "LayoutModel",
     "model_module_version": "1.2.0",
     "state": {
      "_model_module": "@jupyter-widgets/base",
      "_model_module_version": "1.2.0",
      "_model_name": "LayoutModel",
      "_view_count": null,
      "_view_module": "@jupyter-widgets/base",
      "_view_module_version": "1.2.0",
      "_view_name": "LayoutView",
      "align_content": null,
      "align_items": null,
      "align_self": null,
      "border": null,
      "bottom": null,
      "display": null,
      "flex": null,
      "flex_flow": null,
      "grid_area": null,
      "grid_auto_columns": null,
      "grid_auto_flow": null,
      "grid_auto_rows": null,
      "grid_column": null,
      "grid_gap": null,
      "grid_row": null,
      "grid_template_areas": null,
      "grid_template_columns": null,
      "grid_template_rows": null,
      "height": null,
      "justify_content": null,
      "justify_items": null,
      "left": null,
      "margin": null,
      "max_height": null,
      "max_width": null,
      "min_height": null,
      "min_width": null,
      "object_fit": null,
      "object_position": null,
      "order": null,
      "overflow": null,
      "overflow_x": null,
      "overflow_y": null,
      "padding": null,
      "right": null,
      "top": null,
      "visibility": null,
      "width": null
     }
    },
    "17febec68e8e49ecb9caf0adddc2f03e": {
     "model_module": "@jupyter-widgets/controls",
     "model_name": "DescriptionStyleModel",
     "model_module_version": "1.5.0",
     "state": {
      "_model_module": "@jupyter-widgets/controls",
      "_model_module_version": "1.5.0",
      "_model_name": "DescriptionStyleModel",
      "_view_count": null,
      "_view_module": "@jupyter-widgets/base",
      "_view_module_version": "1.2.0",
      "_view_name": "StyleView",
      "description_width": ""
     }
    },
    "a4e594e6773641abbcf83c993fa127b7": {
     "model_module": "@jupyter-widgets/base",
     "model_name": "LayoutModel",
     "model_module_version": "1.2.0",
     "state": {
      "_model_module": "@jupyter-widgets/base",
      "_model_module_version": "1.2.0",
      "_model_name": "LayoutModel",
      "_view_count": null,
      "_view_module": "@jupyter-widgets/base",
      "_view_module_version": "1.2.0",
      "_view_name": "LayoutView",
      "align_content": null,
      "align_items": null,
      "align_self": null,
      "border": null,
      "bottom": null,
      "display": null,
      "flex": null,
      "flex_flow": null,
      "grid_area": null,
      "grid_auto_columns": null,
      "grid_auto_flow": null,
      "grid_auto_rows": null,
      "grid_column": null,
      "grid_gap": null,
      "grid_row": null,
      "grid_template_areas": null,
      "grid_template_columns": null,
      "grid_template_rows": null,
      "height": null,
      "justify_content": null,
      "justify_items": null,
      "left": null,
      "margin": null,
      "max_height": null,
      "max_width": null,
      "min_height": null,
      "min_width": null,
      "object_fit": null,
      "object_position": null,
      "order": null,
      "overflow": null,
      "overflow_x": null,
      "overflow_y": null,
      "padding": null,
      "right": null,
      "top": null,
      "visibility": null,
      "width": null
     }
    },
    "6e9ca084f2114d819757e3c985689c49": {
     "model_module": "@jupyter-widgets/controls",
     "model_name": "ProgressStyleModel",
     "model_module_version": "1.5.0",
     "state": {
      "_model_module": "@jupyter-widgets/controls",
      "_model_module_version": "1.5.0",
      "_model_name": "ProgressStyleModel",
      "_view_count": null,
      "_view_module": "@jupyter-widgets/base",
      "_view_module_version": "1.2.0",
      "_view_name": "StyleView",
      "bar_color": null,
      "description_width": ""
     }
    },
    "c8a42f00412b404abf487a4b7c6799a4": {
     "model_module": "@jupyter-widgets/base",
     "model_name": "LayoutModel",
     "model_module_version": "1.2.0",
     "state": {
      "_model_module": "@jupyter-widgets/base",
      "_model_module_version": "1.2.0",
      "_model_name": "LayoutModel",
      "_view_count": null,
      "_view_module": "@jupyter-widgets/base",
      "_view_module_version": "1.2.0",
      "_view_name": "LayoutView",
      "align_content": null,
      "align_items": null,
      "align_self": null,
      "border": null,
      "bottom": null,
      "display": null,
      "flex": null,
      "flex_flow": null,
      "grid_area": null,
      "grid_auto_columns": null,
      "grid_auto_flow": null,
      "grid_auto_rows": null,
      "grid_column": null,
      "grid_gap": null,
      "grid_row": null,
      "grid_template_areas": null,
      "grid_template_columns": null,
      "grid_template_rows": null,
      "height": null,
      "justify_content": null,
      "justify_items": null,
      "left": null,
      "margin": null,
      "max_height": null,
      "max_width": null,
      "min_height": null,
      "min_width": null,
      "object_fit": null,
      "object_position": null,
      "order": null,
      "overflow": null,
      "overflow_x": null,
      "overflow_y": null,
      "padding": null,
      "right": null,
      "top": null,
      "visibility": null,
      "width": null
     }
    },
    "ad27325b1d7244fdbac87f2217d1e9f0": {
     "model_module": "@jupyter-widgets/controls",
     "model_name": "DescriptionStyleModel",
     "model_module_version": "1.5.0",
     "state": {
      "_model_module": "@jupyter-widgets/controls",
      "_model_module_version": "1.5.0",
      "_model_name": "DescriptionStyleModel",
      "_view_count": null,
      "_view_module": "@jupyter-widgets/base",
      "_view_module_version": "1.2.0",
      "_view_name": "StyleView",
      "description_width": ""
     }
    },
    "7fdedc063c19409faa8ffe77950b0031": {
     "model_module": "@jupyter-widgets/controls",
     "model_name": "HBoxModel",
     "model_module_version": "1.5.0",
     "state": {
      "_dom_classes": [],
      "_model_module": "@jupyter-widgets/controls",
      "_model_module_version": "1.5.0",
      "_model_name": "HBoxModel",
      "_view_count": null,
      "_view_module": "@jupyter-widgets/controls",
      "_view_module_version": "1.5.0",
      "_view_name": "HBoxView",
      "box_style": "",
      "children": [
       "IPY_MODEL_e9ee604247c74084a7b42e842a25d923",
       "IPY_MODEL_982628d13ec349c89d8e29b79e481f13",
       "IPY_MODEL_62e2c97143ba4801bc30a3cebe743296"
      ],
      "layout": "IPY_MODEL_888fc6d8eaf9452dba8093b3cf16dddc"
     }
    },
    "e9ee604247c74084a7b42e842a25d923": {
     "model_module": "@jupyter-widgets/controls",
     "model_name": "HTMLModel",
     "model_module_version": "1.5.0",
     "state": {
      "_dom_classes": [],
      "_model_module": "@jupyter-widgets/controls",
      "_model_module_version": "1.5.0",
      "_model_name": "HTMLModel",
      "_view_count": null,
      "_view_module": "@jupyter-widgets/controls",
      "_view_module_version": "1.5.0",
      "_view_name": "HTMLView",
      "description": "",
      "description_tooltip": null,
      "layout": "IPY_MODEL_e993e071e611420983a6029723d3ca93",
      "placeholder": "​",
      "style": "IPY_MODEL_a504ea279661433daee81f4ecf40aa09",
      "value": "config.yaml: 100%"
     }
    },
    "982628d13ec349c89d8e29b79e481f13": {
     "model_module": "@jupyter-widgets/controls",
     "model_name": "FloatProgressModel",
     "model_module_version": "1.5.0",
     "state": {
      "_dom_classes": [],
      "_model_module": "@jupyter-widgets/controls",
      "_model_module_version": "1.5.0",
      "_model_name": "FloatProgressModel",
      "_view_count": null,
      "_view_module": "@jupyter-widgets/controls",
      "_view_module_version": "1.5.0",
      "_view_name": "ProgressView",
      "bar_style": "success",
      "description": "",
      "description_tooltip": null,
      "layout": "IPY_MODEL_216bbe056d3940dfbb0179fc4d40b630",
      "max": 318,
      "min": 0,
      "orientation": "horizontal",
      "style": "IPY_MODEL_de6dd34ee7ed4f1c95ad9cecd81ad998",
      "value": 318
     }
    },
    "62e2c97143ba4801bc30a3cebe743296": {
     "model_module": "@jupyter-widgets/controls",
     "model_name": "HTMLModel",
     "model_module_version": "1.5.0",
     "state": {
      "_dom_classes": [],
      "_model_module": "@jupyter-widgets/controls",
      "_model_module_version": "1.5.0",
      "_model_name": "HTMLModel",
      "_view_count": null,
      "_view_module": "@jupyter-widgets/controls",
      "_view_module_version": "1.5.0",
      "_view_name": "HTMLView",
      "description": "",
      "description_tooltip": null,
      "layout": "IPY_MODEL_378b92730d584b1994d91f73496badd0",
      "placeholder": "​",
      "style": "IPY_MODEL_010510598fed495ca757d2f09899a355",
      "value": " 318/318 [00:00&lt;00:00, 16.1kB/s]"
     }
    },
    "888fc6d8eaf9452dba8093b3cf16dddc": {
     "model_module": "@jupyter-widgets/base",
     "model_name": "LayoutModel",
     "model_module_version": "1.2.0",
     "state": {
      "_model_module": "@jupyter-widgets/base",
      "_model_module_version": "1.2.0",
      "_model_name": "LayoutModel",
      "_view_count": null,
      "_view_module": "@jupyter-widgets/base",
      "_view_module_version": "1.2.0",
      "_view_name": "LayoutView",
      "align_content": null,
      "align_items": null,
      "align_self": null,
      "border": null,
      "bottom": null,
      "display": null,
      "flex": null,
      "flex_flow": null,
      "grid_area": null,
      "grid_auto_columns": null,
      "grid_auto_flow": null,
      "grid_auto_rows": null,
      "grid_column": null,
      "grid_gap": null,
      "grid_row": null,
      "grid_template_areas": null,
      "grid_template_columns": null,
      "grid_template_rows": null,
      "height": null,
      "justify_content": null,
      "justify_items": null,
      "left": null,
      "margin": null,
      "max_height": null,
      "max_width": null,
      "min_height": null,
      "min_width": null,
      "object_fit": null,
      "object_position": null,
      "order": null,
      "overflow": null,
      "overflow_x": null,
      "overflow_y": null,
      "padding": null,
      "right": null,
      "top": null,
      "visibility": null,
      "width": null
     }
    },
    "e993e071e611420983a6029723d3ca93": {
     "model_module": "@jupyter-widgets/base",
     "model_name": "LayoutModel",
     "model_module_version": "1.2.0",
     "state": {
      "_model_module": "@jupyter-widgets/base",
      "_model_module_version": "1.2.0",
      "_model_name": "LayoutModel",
      "_view_count": null,
      "_view_module": "@jupyter-widgets/base",
      "_view_module_version": "1.2.0",
      "_view_name": "LayoutView",
      "align_content": null,
      "align_items": null,
      "align_self": null,
      "border": null,
      "bottom": null,
      "display": null,
      "flex": null,
      "flex_flow": null,
      "grid_area": null,
      "grid_auto_columns": null,
      "grid_auto_flow": null,
      "grid_auto_rows": null,
      "grid_column": null,
      "grid_gap": null,
      "grid_row": null,
      "grid_template_areas": null,
      "grid_template_columns": null,
      "grid_template_rows": null,
      "height": null,
      "justify_content": null,
      "justify_items": null,
      "left": null,
      "margin": null,
      "max_height": null,
      "max_width": null,
      "min_height": null,
      "min_width": null,
      "object_fit": null,
      "object_position": null,
      "order": null,
      "overflow": null,
      "overflow_x": null,
      "overflow_y": null,
      "padding": null,
      "right": null,
      "top": null,
      "visibility": null,
      "width": null
     }
    },
    "a504ea279661433daee81f4ecf40aa09": {
     "model_module": "@jupyter-widgets/controls",
     "model_name": "DescriptionStyleModel",
     "model_module_version": "1.5.0",
     "state": {
      "_model_module": "@jupyter-widgets/controls",
      "_model_module_version": "1.5.0",
      "_model_name": "DescriptionStyleModel",
      "_view_count": null,
      "_view_module": "@jupyter-widgets/base",
      "_view_module_version": "1.2.0",
      "_view_name": "StyleView",
      "description_width": ""
     }
    },
    "216bbe056d3940dfbb0179fc4d40b630": {
     "model_module": "@jupyter-widgets/base",
     "model_name": "LayoutModel",
     "model_module_version": "1.2.0",
     "state": {
      "_model_module": "@jupyter-widgets/base",
      "_model_module_version": "1.2.0",
      "_model_name": "LayoutModel",
      "_view_count": null,
      "_view_module": "@jupyter-widgets/base",
      "_view_module_version": "1.2.0",
      "_view_name": "LayoutView",
      "align_content": null,
      "align_items": null,
      "align_self": null,
      "border": null,
      "bottom": null,
      "display": null,
      "flex": null,
      "flex_flow": null,
      "grid_area": null,
      "grid_auto_columns": null,
      "grid_auto_flow": null,
      "grid_auto_rows": null,
      "grid_column": null,
      "grid_gap": null,
      "grid_row": null,
      "grid_template_areas": null,
      "grid_template_columns": null,
      "grid_template_rows": null,
      "height": null,
      "justify_content": null,
      "justify_items": null,
      "left": null,
      "margin": null,
      "max_height": null,
      "max_width": null,
      "min_height": null,
      "min_width": null,
      "object_fit": null,
      "object_position": null,
      "order": null,
      "overflow": null,
      "overflow_x": null,
      "overflow_y": null,
      "padding": null,
      "right": null,
      "top": null,
      "visibility": null,
      "width": null
     }
    },
    "de6dd34ee7ed4f1c95ad9cecd81ad998": {
     "model_module": "@jupyter-widgets/controls",
     "model_name": "ProgressStyleModel",
     "model_module_version": "1.5.0",
     "state": {
      "_model_module": "@jupyter-widgets/controls",
      "_model_module_version": "1.5.0",
      "_model_name": "ProgressStyleModel",
      "_view_count": null,
      "_view_module": "@jupyter-widgets/base",
      "_view_module_version": "1.2.0",
      "_view_name": "StyleView",
      "bar_color": null,
      "description_width": ""
     }
    },
    "378b92730d584b1994d91f73496badd0": {
     "model_module": "@jupyter-widgets/base",
     "model_name": "LayoutModel",
     "model_module_version": "1.2.0",
     "state": {
      "_model_module": "@jupyter-widgets/base",
      "_model_module_version": "1.2.0",
      "_model_name": "LayoutModel",
      "_view_count": null,
      "_view_module": "@jupyter-widgets/base",
      "_view_module_version": "1.2.0",
      "_view_name": "LayoutView",
      "align_content": null,
      "align_items": null,
      "align_self": null,
      "border": null,
      "bottom": null,
      "display": null,
      "flex": null,
      "flex_flow": null,
      "grid_area": null,
      "grid_auto_columns": null,
      "grid_auto_flow": null,
      "grid_auto_rows": null,
      "grid_column": null,
      "grid_gap": null,
      "grid_row": null,
      "grid_template_areas": null,
      "grid_template_columns": null,
      "grid_template_rows": null,
      "height": null,
      "justify_content": null,
      "justify_items": null,
      "left": null,
      "margin": null,
      "max_height": null,
      "max_width": null,
      "min_height": null,
      "min_width": null,
      "object_fit": null,
      "object_position": null,
      "order": null,
      "overflow": null,
      "overflow_x": null,
      "overflow_y": null,
      "padding": null,
      "right": null,
      "top": null,
      "visibility": null,
      "width": null
     }
    },
    "010510598fed495ca757d2f09899a355": {
     "model_module": "@jupyter-widgets/controls",
     "model_name": "DescriptionStyleModel",
     "model_module_version": "1.5.0",
     "state": {
      "_model_module": "@jupyter-widgets/controls",
      "_model_module_version": "1.5.0",
      "_model_name": "DescriptionStyleModel",
      "_view_count": null,
      "_view_module": "@jupyter-widgets/base",
      "_view_module_version": "1.2.0",
      "_view_name": "StyleView",
      "description_width": ""
     }
    },
    "0b7e96d9a17748eeb5080344ae37c1e1": {
     "model_module": "@jupyter-widgets/controls",
     "model_name": "HBoxModel",
     "model_module_version": "1.5.0",
     "state": {
      "_dom_classes": [],
      "_model_module": "@jupyter-widgets/controls",
      "_model_module_version": "1.5.0",
      "_model_name": "HBoxModel",
      "_view_count": null,
      "_view_module": "@jupyter-widgets/controls",
      "_view_module_version": "1.5.0",
      "_view_name": "HBoxView",
      "box_style": "",
      "children": [
       "IPY_MODEL_c6513fedb9554baa862c9e5ddded8445",
       "IPY_MODEL_695668d6be624263abe0121f95659383",
       "IPY_MODEL_8be1453e846c406d8151b7fd3faa34e1"
      ],
      "layout": "IPY_MODEL_fd38061812ff43c4a39bf63d328758d3"
     }
    },
    "c6513fedb9554baa862c9e5ddded8445": {
     "model_module": "@jupyter-widgets/controls",
     "model_name": "HTMLModel",
     "model_module_version": "1.5.0",
     "state": {
      "_dom_classes": [],
      "_model_module": "@jupyter-widgets/controls",
      "_model_module_version": "1.5.0",
      "_model_name": "HTMLModel",
      "_view_count": null,
      "_view_module": "@jupyter-widgets/controls",
      "_view_module_version": "1.5.0",
      "_view_name": "HTMLView",
      "description": "",
      "description_tooltip": null,
      "layout": "IPY_MODEL_60bb9ee400884873aa6b68f924598ea4",
      "placeholder": "​",
      "style": "IPY_MODEL_53f48626bbce477db07aa159462dbc36",
      "value": "pytorch_model.bin: 100%"
     }
    },
    "695668d6be624263abe0121f95659383": {
     "model_module": "@jupyter-widgets/controls",
     "model_name": "FloatProgressModel",
     "model_module_version": "1.5.0",
     "state": {
      "_dom_classes": [],
      "_model_module": "@jupyter-widgets/controls",
      "_model_module_version": "1.5.0",
      "_model_name": "FloatProgressModel",
      "_view_count": null,
      "_view_module": "@jupyter-widgets/controls",
      "_view_module_version": "1.5.0",
      "_view_name": "ProgressView",
      "bar_style": "success",
      "description": "",
      "description_tooltip": null,
      "layout": "IPY_MODEL_01f33e1facae4d12a701a4a8c58b732b",
      "max": 96383626,
      "min": 0,
      "orientation": "horizontal",
      "style": "IPY_MODEL_8e95f11c1b5d4a4dbb312310e51be4de",
      "value": 96383626
     }
    },
    "8be1453e846c406d8151b7fd3faa34e1": {
     "model_module": "@jupyter-widgets/controls",
     "model_name": "HTMLModel",
     "model_module_version": "1.5.0",
     "state": {
      "_dom_classes": [],
      "_model_module": "@jupyter-widgets/controls",
      "_model_module_version": "1.5.0",
      "_model_name": "HTMLModel",
      "_view_count": null,
      "_view_module": "@jupyter-widgets/controls",
      "_view_module_version": "1.5.0",
      "_view_name": "HTMLView",
      "description": "",
      "description_tooltip": null,
      "layout": "IPY_MODEL_112806eaaca347a890f636bb4243bcf6",
      "placeholder": "​",
      "style": "IPY_MODEL_7ce4275c288b40f2b9f3988e9f960fca",
      "value": " 96.4M/96.4M [00:01&lt;00:00, 90.7MB/s]"
     }
    },
    "fd38061812ff43c4a39bf63d328758d3": {
     "model_module": "@jupyter-widgets/base",
     "model_name": "LayoutModel",
     "model_module_version": "1.2.0",
     "state": {
      "_model_module": "@jupyter-widgets/base",
      "_model_module_version": "1.2.0",
      "_model_name": "LayoutModel",
      "_view_count": null,
      "_view_module": "@jupyter-widgets/base",
      "_view_module_version": "1.2.0",
      "_view_name": "LayoutView",
      "align_content": null,
      "align_items": null,
      "align_self": null,
      "border": null,
      "bottom": null,
      "display": null,
      "flex": null,
      "flex_flow": null,
      "grid_area": null,
      "grid_auto_columns": null,
      "grid_auto_flow": null,
      "grid_auto_rows": null,
      "grid_column": null,
      "grid_gap": null,
      "grid_row": null,
      "grid_template_areas": null,
      "grid_template_columns": null,
      "grid_template_rows": null,
      "height": null,
      "justify_content": null,
      "justify_items": null,
      "left": null,
      "margin": null,
      "max_height": null,
      "max_width": null,
      "min_height": null,
      "min_width": null,
      "object_fit": null,
      "object_position": null,
      "order": null,
      "overflow": null,
      "overflow_x": null,
      "overflow_y": null,
      "padding": null,
      "right": null,
      "top": null,
      "visibility": null,
      "width": null
     }
    },
    "60bb9ee400884873aa6b68f924598ea4": {
     "model_module": "@jupyter-widgets/base",
     "model_name": "LayoutModel",
     "model_module_version": "1.2.0",
     "state": {
      "_model_module": "@jupyter-widgets/base",
      "_model_module_version": "1.2.0",
      "_model_name": "LayoutModel",
      "_view_count": null,
      "_view_module": "@jupyter-widgets/base",
      "_view_module_version": "1.2.0",
      "_view_name": "LayoutView",
      "align_content": null,
      "align_items": null,
      "align_self": null,
      "border": null,
      "bottom": null,
      "display": null,
      "flex": null,
      "flex_flow": null,
      "grid_area": null,
      "grid_auto_columns": null,
      "grid_auto_flow": null,
      "grid_auto_rows": null,
      "grid_column": null,
      "grid_gap": null,
      "grid_row": null,
      "grid_template_areas": null,
      "grid_template_columns": null,
      "grid_template_rows": null,
      "height": null,
      "justify_content": null,
      "justify_items": null,
      "left": null,
      "margin": null,
      "max_height": null,
      "max_width": null,
      "min_height": null,
      "min_width": null,
      "object_fit": null,
      "object_position": null,
      "order": null,
      "overflow": null,
      "overflow_x": null,
      "overflow_y": null,
      "padding": null,
      "right": null,
      "top": null,
      "visibility": null,
      "width": null
     }
    },
    "53f48626bbce477db07aa159462dbc36": {
     "model_module": "@jupyter-widgets/controls",
     "model_name": "DescriptionStyleModel",
     "model_module_version": "1.5.0",
     "state": {
      "_model_module": "@jupyter-widgets/controls",
      "_model_module_version": "1.5.0",
      "_model_name": "DescriptionStyleModel",
      "_view_count": null,
      "_view_module": "@jupyter-widgets/base",
      "_view_module_version": "1.2.0",
      "_view_name": "StyleView",
      "description_width": ""
     }
    },
    "01f33e1facae4d12a701a4a8c58b732b": {
     "model_module": "@jupyter-widgets/base",
     "model_name": "LayoutModel",
     "model_module_version": "1.2.0",
     "state": {
      "_model_module": "@jupyter-widgets/base",
      "_model_module_version": "1.2.0",
      "_model_name": "LayoutModel",
      "_view_count": null,
      "_view_module": "@jupyter-widgets/base",
      "_view_module_version": "1.2.0",
      "_view_name": "LayoutView",
      "align_content": null,
      "align_items": null,
      "align_self": null,
      "border": null,
      "bottom": null,
      "display": null,
      "flex": null,
      "flex_flow": null,
      "grid_area": null,
      "grid_auto_columns": null,
      "grid_auto_flow": null,
      "grid_auto_rows": null,
      "grid_column": null,
      "grid_gap": null,
      "grid_row": null,
      "grid_template_areas": null,
      "grid_template_columns": null,
      "grid_template_rows": null,
      "height": null,
      "justify_content": null,
      "justify_items": null,
      "left": null,
      "margin": null,
      "max_height": null,
      "max_width": null,
      "min_height": null,
      "min_width": null,
      "object_fit": null,
      "object_position": null,
      "order": null,
      "overflow": null,
      "overflow_x": null,
      "overflow_y": null,
      "padding": null,
      "right": null,
      "top": null,
      "visibility": null,
      "width": null
     }
    },
    "8e95f11c1b5d4a4dbb312310e51be4de": {
     "model_module": "@jupyter-widgets/controls",
     "model_name": "ProgressStyleModel",
     "model_module_version": "1.5.0",
     "state": {
      "_model_module": "@jupyter-widgets/controls",
      "_model_module_version": "1.5.0",
      "_model_name": "ProgressStyleModel",
      "_view_count": null,
      "_view_module": "@jupyter-widgets/base",
      "_view_module_version": "1.2.0",
      "_view_name": "StyleView",
      "bar_color": null,
      "description_width": ""
     }
    },
    "112806eaaca347a890f636bb4243bcf6": {
     "model_module": "@jupyter-widgets/base",
     "model_name": "LayoutModel",
     "model_module_version": "1.2.0",
     "state": {
      "_model_module": "@jupyter-widgets/base",
      "_model_module_version": "1.2.0",
      "_model_name": "LayoutModel",
      "_view_count": null,
      "_view_module": "@jupyter-widgets/base",
      "_view_module_version": "1.2.0",
      "_view_name": "LayoutView",
      "align_content": null,
      "align_items": null,
      "align_self": null,
      "border": null,
      "bottom": null,
      "display": null,
      "flex": null,
      "flex_flow": null,
      "grid_area": null,
      "grid_auto_columns": null,
      "grid_auto_flow": null,
      "grid_auto_rows": null,
      "grid_column": null,
      "grid_gap": null,
      "grid_row": null,
      "grid_template_areas": null,
      "grid_template_columns": null,
      "grid_template_rows": null,
      "height": null,
      "justify_content": null,
      "justify_items": null,
      "left": null,
      "margin": null,
      "max_height": null,
      "max_width": null,
      "min_height": null,
      "min_width": null,
      "object_fit": null,
      "object_position": null,
      "order": null,
      "overflow": null,
      "overflow_x": null,
      "overflow_y": null,
      "padding": null,
      "right": null,
      "top": null,
      "visibility": null,
      "width": null
     }
    },
    "7ce4275c288b40f2b9f3988e9f960fca": {
     "model_module": "@jupyter-widgets/controls",
     "model_name": "DescriptionStyleModel",
     "model_module_version": "1.5.0",
     "state": {
      "_model_module": "@jupyter-widgets/controls",
      "_model_module_version": "1.5.0",
      "_model_name": "DescriptionStyleModel",
      "_view_count": null,
      "_view_module": "@jupyter-widgets/base",
      "_view_module_version": "1.2.0",
      "_view_name": "StyleView",
      "description_width": ""
     }
    },
    "0ca35fb3dedc4ede84a3c214579854f6": {
     "model_module": "@jupyter-widgets/controls",
     "model_name": "HBoxModel",
     "model_module_version": "1.5.0",
     "state": {
      "_dom_classes": [],
      "_model_module": "@jupyter-widgets/controls",
      "_model_module_version": "1.5.0",
      "_model_name": "HBoxModel",
      "_view_count": null,
      "_view_module": "@jupyter-widgets/controls",
      "_view_module_version": "1.5.0",
      "_view_name": "HBoxView",
      "box_style": "",
      "children": [
       "IPY_MODEL_8ecddc94a4da4a9b94bbd1f08317bf58",
       "IPY_MODEL_f630d7806b894919a1c1528adc972fb4",
       "IPY_MODEL_788ad0ac0645492f9cbc0c9f0b63a812"
      ],
      "layout": "IPY_MODEL_87f5b5205a244419b3fcab6039700f1f"
     }
    },
    "8ecddc94a4da4a9b94bbd1f08317bf58": {
     "model_module": "@jupyter-widgets/controls",
     "model_name": "HTMLModel",
     "model_module_version": "1.5.0",
     "state": {
      "_dom_classes": [],
      "_model_module": "@jupyter-widgets/controls",
      "_model_module_version": "1.5.0",
      "_model_name": "HTMLModel",
      "_view_count": null,
      "_view_module": "@jupyter-widgets/controls",
      "_view_module_version": "1.5.0",
      "_view_name": "HTMLView",
      "description": "",
      "description_tooltip": null,
      "layout": "IPY_MODEL_e44060df6a6d40beb6e854aabfaeefe3",
      "placeholder": "​",
      "style": "IPY_MODEL_49a18b9b827b4c27bc2d43e4452c69a7",
      "value": "config.yaml: 100%"
     }
    },
    "f630d7806b894919a1c1528adc972fb4": {
     "model_module": "@jupyter-widgets/controls",
     "model_name": "FloatProgressModel",
     "model_module_version": "1.5.0",
     "state": {
      "_dom_classes": [],
      "_model_module": "@jupyter-widgets/controls",
      "_model_module_version": "1.5.0",
      "_model_name": "FloatProgressModel",
      "_view_count": null,
      "_view_module": "@jupyter-widgets/controls",
      "_view_module_version": "1.5.0",
      "_view_name": "ProgressView",
      "bar_style": "success",
      "description": "",
      "description_tooltip": null,
      "layout": "IPY_MODEL_2934bb57d5064149be5d9ed6b6a6bc1e",
      "max": 1996,
      "min": 0,
      "orientation": "horizontal",
      "style": "IPY_MODEL_f472e6b962b1408aa451da0e6c42576a",
      "value": 1996
     }
    },
    "788ad0ac0645492f9cbc0c9f0b63a812": {
     "model_module": "@jupyter-widgets/controls",
     "model_name": "HTMLModel",
     "model_module_version": "1.5.0",
     "state": {
      "_dom_classes": [],
      "_model_module": "@jupyter-widgets/controls",
      "_model_module_version": "1.5.0",
      "_model_name": "HTMLModel",
      "_view_count": null,
      "_view_module": "@jupyter-widgets/controls",
      "_view_module_version": "1.5.0",
      "_view_name": "HTMLView",
      "description": "",
      "description_tooltip": null,
      "layout": "IPY_MODEL_7dfcf6f5cc144851acf59208cac4199f",
      "placeholder": "​",
      "style": "IPY_MODEL_7ab85e42e2694c4e9c945b3594b1c3e8",
      "value": " 2.00k/2.00k [00:00&lt;00:00, 106kB/s]"
     }
    },
    "87f5b5205a244419b3fcab6039700f1f": {
     "model_module": "@jupyter-widgets/base",
     "model_name": "LayoutModel",
     "model_module_version": "1.2.0",
     "state": {
      "_model_module": "@jupyter-widgets/base",
      "_model_module_version": "1.2.0",
      "_model_name": "LayoutModel",
      "_view_count": null,
      "_view_module": "@jupyter-widgets/base",
      "_view_module_version": "1.2.0",
      "_view_name": "LayoutView",
      "align_content": null,
      "align_items": null,
      "align_self": null,
      "border": null,
      "bottom": null,
      "display": null,
      "flex": null,
      "flex_flow": null,
      "grid_area": null,
      "grid_auto_columns": null,
      "grid_auto_flow": null,
      "grid_auto_rows": null,
      "grid_column": null,
      "grid_gap": null,
      "grid_row": null,
      "grid_template_areas": null,
      "grid_template_columns": null,
      "grid_template_rows": null,
      "height": null,
      "justify_content": null,
      "justify_items": null,
      "left": null,
      "margin": null,
      "max_height": null,
      "max_width": null,
      "min_height": null,
      "min_width": null,
      "object_fit": null,
      "object_position": null,
      "order": null,
      "overflow": null,
      "overflow_x": null,
      "overflow_y": null,
      "padding": null,
      "right": null,
      "top": null,
      "visibility": null,
      "width": null
     }
    },
    "e44060df6a6d40beb6e854aabfaeefe3": {
     "model_module": "@jupyter-widgets/base",
     "model_name": "LayoutModel",
     "model_module_version": "1.2.0",
     "state": {
      "_model_module": "@jupyter-widgets/base",
      "_model_module_version": "1.2.0",
      "_model_name": "LayoutModel",
      "_view_count": null,
      "_view_module": "@jupyter-widgets/base",
      "_view_module_version": "1.2.0",
      "_view_name": "LayoutView",
      "align_content": null,
      "align_items": null,
      "align_self": null,
      "border": null,
      "bottom": null,
      "display": null,
      "flex": null,
      "flex_flow": null,
      "grid_area": null,
      "grid_auto_columns": null,
      "grid_auto_flow": null,
      "grid_auto_rows": null,
      "grid_column": null,
      "grid_gap": null,
      "grid_row": null,
      "grid_template_areas": null,
      "grid_template_columns": null,
      "grid_template_rows": null,
      "height": null,
      "justify_content": null,
      "justify_items": null,
      "left": null,
      "margin": null,
      "max_height": null,
      "max_width": null,
      "min_height": null,
      "min_width": null,
      "object_fit": null,
      "object_position": null,
      "order": null,
      "overflow": null,
      "overflow_x": null,
      "overflow_y": null,
      "padding": null,
      "right": null,
      "top": null,
      "visibility": null,
      "width": null
     }
    },
    "49a18b9b827b4c27bc2d43e4452c69a7": {
     "model_module": "@jupyter-widgets/controls",
     "model_name": "DescriptionStyleModel",
     "model_module_version": "1.5.0",
     "state": {
      "_model_module": "@jupyter-widgets/controls",
      "_model_module_version": "1.5.0",
      "_model_name": "DescriptionStyleModel",
      "_view_count": null,
      "_view_module": "@jupyter-widgets/base",
      "_view_module_version": "1.2.0",
      "_view_name": "StyleView",
      "description_width": ""
     }
    },
    "2934bb57d5064149be5d9ed6b6a6bc1e": {
     "model_module": "@jupyter-widgets/base",
     "model_name": "LayoutModel",
     "model_module_version": "1.2.0",
     "state": {
      "_model_module": "@jupyter-widgets/base",
      "_model_module_version": "1.2.0",
      "_model_name": "LayoutModel",
      "_view_count": null,
      "_view_module": "@jupyter-widgets/base",
      "_view_module_version": "1.2.0",
      "_view_name": "LayoutView",
      "align_content": null,
      "align_items": null,
      "align_self": null,
      "border": null,
      "bottom": null,
      "display": null,
      "flex": null,
      "flex_flow": null,
      "grid_area": null,
      "grid_auto_columns": null,
      "grid_auto_flow": null,
      "grid_auto_rows": null,
      "grid_column": null,
      "grid_gap": null,
      "grid_row": null,
      "grid_template_areas": null,
      "grid_template_columns": null,
      "grid_template_rows": null,
      "height": null,
      "justify_content": null,
      "justify_items": null,
      "left": null,
      "margin": null,
      "max_height": null,
      "max_width": null,
      "min_height": null,
      "min_width": null,
      "object_fit": null,
      "object_position": null,
      "order": null,
      "overflow": null,
      "overflow_x": null,
      "overflow_y": null,
      "padding": null,
      "right": null,
      "top": null,
      "visibility": null,
      "width": null
     }
    },
    "f472e6b962b1408aa451da0e6c42576a": {
     "model_module": "@jupyter-widgets/controls",
     "model_name": "ProgressStyleModel",
     "model_module_version": "1.5.0",
     "state": {
      "_model_module": "@jupyter-widgets/controls",
      "_model_module_version": "1.5.0",
      "_model_name": "ProgressStyleModel",
      "_view_count": null,
      "_view_module": "@jupyter-widgets/base",
      "_view_module_version": "1.2.0",
      "_view_name": "StyleView",
      "bar_color": null,
      "description_width": ""
     }
    },
    "7dfcf6f5cc144851acf59208cac4199f": {
     "model_module": "@jupyter-widgets/base",
     "model_name": "LayoutModel",
     "model_module_version": "1.2.0",
     "state": {
      "_model_module": "@jupyter-widgets/base",
      "_model_module_version": "1.2.0",
      "_model_name": "LayoutModel",
      "_view_count": null,
      "_view_module": "@jupyter-widgets/base",
      "_view_module_version": "1.2.0",
      "_view_name": "LayoutView",
      "align_content": null,
      "align_items": null,
      "align_self": null,
      "border": null,
      "bottom": null,
      "display": null,
      "flex": null,
      "flex_flow": null,
      "grid_area": null,
      "grid_auto_columns": null,
      "grid_auto_flow": null,
      "grid_auto_rows": null,
      "grid_column": null,
      "grid_gap": null,
      "grid_row": null,
      "grid_template_areas": null,
      "grid_template_columns": null,
      "grid_template_rows": null,
      "height": null,
      "justify_content": null,
      "justify_items": null,
      "left": null,
      "margin": null,
      "max_height": null,
      "max_width": null,
      "min_height": null,
      "min_width": null,
      "object_fit": null,
      "object_position": null,
      "order": null,
      "overflow": null,
      "overflow_x": null,
      "overflow_y": null,
      "padding": null,
      "right": null,
      "top": null,
      "visibility": null,
      "width": null
     }
    },
    "7ab85e42e2694c4e9c945b3594b1c3e8": {
     "model_module": "@jupyter-widgets/controls",
     "model_name": "DescriptionStyleModel",
     "model_module_version": "1.5.0",
     "state": {
      "_model_module": "@jupyter-widgets/controls",
      "_model_module_version": "1.5.0",
      "_model_name": "DescriptionStyleModel",
      "_view_count": null,
      "_view_module": "@jupyter-widgets/base",
      "_view_module_version": "1.2.0",
      "_view_name": "StyleView",
      "description_width": ""
     }
    },
    "5a1407207f444b4197c6a5faea5b3525": {
     "model_module": "@jupyter-widgets/controls",
     "model_name": "HBoxModel",
     "model_module_version": "1.5.0",
     "state": {
      "_dom_classes": [],
      "_model_module": "@jupyter-widgets/controls",
      "_model_module_version": "1.5.0",
      "_model_name": "HBoxModel",
      "_view_count": null,
      "_view_module": "@jupyter-widgets/controls",
      "_view_module_version": "1.5.0",
      "_view_name": "HBoxView",
      "box_style": "",
      "children": [
       "IPY_MODEL_dc82d3082a6a4882a53eed7bf49febab",
       "IPY_MODEL_40ce5f4b8d0f4120aaaecc856de2c693",
       "IPY_MODEL_d63b5292c2d3467dad62e4949a8955b2"
      ],
      "layout": "IPY_MODEL_b521a3d175b647bf89cd5da49c3097e4"
     }
    },
    "dc82d3082a6a4882a53eed7bf49febab": {
     "model_module": "@jupyter-widgets/controls",
     "model_name": "HTMLModel",
     "model_module_version": "1.5.0",
     "state": {
      "_dom_classes": [],
      "_model_module": "@jupyter-widgets/controls",
      "_model_module_version": "1.5.0",
      "_model_name": "HTMLModel",
      "_view_count": null,
      "_view_module": "@jupyter-widgets/controls",
      "_view_module_version": "1.5.0",
      "_view_name": "HTMLView",
      "description": "",
      "description_tooltip": null,
      "layout": "IPY_MODEL_2e6d1e4492154d4098d928dcb1a5a627",
      "placeholder": "​",
      "style": "IPY_MODEL_0f4ae1a28b204594804bb57fd82da22d",
      "value": "pytorch_model.bin: 100%"
     }
    },
    "40ce5f4b8d0f4120aaaecc856de2c693": {
     "model_module": "@jupyter-widgets/controls",
     "model_name": "FloatProgressModel",
     "model_module_version": "1.5.0",
     "state": {
      "_dom_classes": [],
      "_model_module": "@jupyter-widgets/controls",
      "_model_module_version": "1.5.0",
      "_model_name": "FloatProgressModel",
      "_view_count": null,
      "_view_module": "@jupyter-widgets/controls",
      "_view_module_version": "1.5.0",
      "_view_name": "ProgressView",
      "bar_style": "success",
      "description": "",
      "description_tooltip": null,
      "layout": "IPY_MODEL_d5f60be52d244fad9dd360ee0189a769",
      "max": 17719103,
      "min": 0,
      "orientation": "horizontal",
      "style": "IPY_MODEL_98cdd6a469de4e7eb250afa4d5d461e8",
      "value": 17719103
     }
    },
    "d63b5292c2d3467dad62e4949a8955b2": {
     "model_module": "@jupyter-widgets/controls",
     "model_name": "HTMLModel",
     "model_module_version": "1.5.0",
     "state": {
      "_dom_classes": [],
      "_model_module": "@jupyter-widgets/controls",
      "_model_module_version": "1.5.0",
      "_model_name": "HTMLModel",
      "_view_count": null,
      "_view_module": "@jupyter-widgets/controls",
      "_view_module_version": "1.5.0",
      "_view_name": "HTMLView",
      "description": "",
      "description_tooltip": null,
      "layout": "IPY_MODEL_898f2bf4a0a846788c60f5897fc4f321",
      "placeholder": "​",
      "style": "IPY_MODEL_ea495457328e488cb09b623150958d31",
      "value": " 17.7M/17.7M [00:00&lt;00:00, 40.1MB/s]"
     }
    },
    "b521a3d175b647bf89cd5da49c3097e4": {
     "model_module": "@jupyter-widgets/base",
     "model_name": "LayoutModel",
     "model_module_version": "1.2.0",
     "state": {
      "_model_module": "@jupyter-widgets/base",
      "_model_module_version": "1.2.0",
      "_model_name": "LayoutModel",
      "_view_count": null,
      "_view_module": "@jupyter-widgets/base",
      "_view_module_version": "1.2.0",
      "_view_name": "LayoutView",
      "align_content": null,
      "align_items": null,
      "align_self": null,
      "border": null,
      "bottom": null,
      "display": null,
      "flex": null,
      "flex_flow": null,
      "grid_area": null,
      "grid_auto_columns": null,
      "grid_auto_flow": null,
      "grid_auto_rows": null,
      "grid_column": null,
      "grid_gap": null,
      "grid_row": null,
      "grid_template_areas": null,
      "grid_template_columns": null,
      "grid_template_rows": null,
      "height": null,
      "justify_content": null,
      "justify_items": null,
      "left": null,
      "margin": null,
      "max_height": null,
      "max_width": null,
      "min_height": null,
      "min_width": null,
      "object_fit": null,
      "object_position": null,
      "order": null,
      "overflow": null,
      "overflow_x": null,
      "overflow_y": null,
      "padding": null,
      "right": null,
      "top": null,
      "visibility": null,
      "width": null
     }
    },
    "2e6d1e4492154d4098d928dcb1a5a627": {
     "model_module": "@jupyter-widgets/base",
     "model_name": "LayoutModel",
     "model_module_version": "1.2.0",
     "state": {
      "_model_module": "@jupyter-widgets/base",
      "_model_module_version": "1.2.0",
      "_model_name": "LayoutModel",
      "_view_count": null,
      "_view_module": "@jupyter-widgets/base",
      "_view_module_version": "1.2.0",
      "_view_name": "LayoutView",
      "align_content": null,
      "align_items": null,
      "align_self": null,
      "border": null,
      "bottom": null,
      "display": null,
      "flex": null,
      "flex_flow": null,
      "grid_area": null,
      "grid_auto_columns": null,
      "grid_auto_flow": null,
      "grid_auto_rows": null,
      "grid_column": null,
      "grid_gap": null,
      "grid_row": null,
      "grid_template_areas": null,
      "grid_template_columns": null,
      "grid_template_rows": null,
      "height": null,
      "justify_content": null,
      "justify_items": null,
      "left": null,
      "margin": null,
      "max_height": null,
      "max_width": null,
      "min_height": null,
      "min_width": null,
      "object_fit": null,
      "object_position": null,
      "order": null,
      "overflow": null,
      "overflow_x": null,
      "overflow_y": null,
      "padding": null,
      "right": null,
      "top": null,
      "visibility": null,
      "width": null
     }
    },
    "0f4ae1a28b204594804bb57fd82da22d": {
     "model_module": "@jupyter-widgets/controls",
     "model_name": "DescriptionStyleModel",
     "model_module_version": "1.5.0",
     "state": {
      "_model_module": "@jupyter-widgets/controls",
      "_model_module_version": "1.5.0",
      "_model_name": "DescriptionStyleModel",
      "_view_count": null,
      "_view_module": "@jupyter-widgets/base",
      "_view_module_version": "1.2.0",
      "_view_name": "StyleView",
      "description_width": ""
     }
    },
    "d5f60be52d244fad9dd360ee0189a769": {
     "model_module": "@jupyter-widgets/base",
     "model_name": "LayoutModel",
     "model_module_version": "1.2.0",
     "state": {
      "_model_module": "@jupyter-widgets/base",
      "_model_module_version": "1.2.0",
      "_model_name": "LayoutModel",
      "_view_count": null,
      "_view_module": "@jupyter-widgets/base",
      "_view_module_version": "1.2.0",
      "_view_name": "LayoutView",
      "align_content": null,
      "align_items": null,
      "align_self": null,
      "border": null,
      "bottom": null,
      "display": null,
      "flex": null,
      "flex_flow": null,
      "grid_area": null,
      "grid_auto_columns": null,
      "grid_auto_flow": null,
      "grid_auto_rows": null,
      "grid_column": null,
      "grid_gap": null,
      "grid_row": null,
      "grid_template_areas": null,
      "grid_template_columns": null,
      "grid_template_rows": null,
      "height": null,
      "justify_content": null,
      "justify_items": null,
      "left": null,
      "margin": null,
      "max_height": null,
      "max_width": null,
      "min_height": null,
      "min_width": null,
      "object_fit": null,
      "object_position": null,
      "order": null,
      "overflow": null,
      "overflow_x": null,
      "overflow_y": null,
      "padding": null,
      "right": null,
      "top": null,
      "visibility": null,
      "width": null
     }
    },
    "98cdd6a469de4e7eb250afa4d5d461e8": {
     "model_module": "@jupyter-widgets/controls",
     "model_name": "ProgressStyleModel",
     "model_module_version": "1.5.0",
     "state": {
      "_model_module": "@jupyter-widgets/controls",
      "_model_module_version": "1.5.0",
      "_model_name": "ProgressStyleModel",
      "_view_count": null,
      "_view_module": "@jupyter-widgets/base",
      "_view_module_version": "1.2.0",
      "_view_name": "StyleView",
      "bar_color": null,
      "description_width": ""
     }
    },
    "898f2bf4a0a846788c60f5897fc4f321": {
     "model_module": "@jupyter-widgets/base",
     "model_name": "LayoutModel",
     "model_module_version": "1.2.0",
     "state": {
      "_model_module": "@jupyter-widgets/base",
      "_model_module_version": "1.2.0",
      "_model_name": "LayoutModel",
      "_view_count": null,
      "_view_module": "@jupyter-widgets/base",
      "_view_module_version": "1.2.0",
      "_view_name": "LayoutView",
      "align_content": null,
      "align_items": null,
      "align_self": null,
      "border": null,
      "bottom": null,
      "display": null,
      "flex": null,
      "flex_flow": null,
      "grid_area": null,
      "grid_auto_columns": null,
      "grid_auto_flow": null,
      "grid_auto_rows": null,
      "grid_column": null,
      "grid_gap": null,
      "grid_row": null,
      "grid_template_areas": null,
      "grid_template_columns": null,
      "grid_template_rows": null,
      "height": null,
      "justify_content": null,
      "justify_items": null,
      "left": null,
      "margin": null,
      "max_height": null,
      "max_width": null,
      "min_height": null,
      "min_width": null,
      "object_fit": null,
      "object_position": null,
      "order": null,
      "overflow": null,
      "overflow_x": null,
      "overflow_y": null,
      "padding": null,
      "right": null,
      "top": null,
      "visibility": null,
      "width": null
     }
    },
    "ea495457328e488cb09b623150958d31": {
     "model_module": "@jupyter-widgets/controls",
     "model_name": "DescriptionStyleModel",
     "model_module_version": "1.5.0",
     "state": {
      "_model_module": "@jupyter-widgets/controls",
      "_model_module_version": "1.5.0",
      "_model_name": "DescriptionStyleModel",
      "_view_count": null,
      "_view_module": "@jupyter-widgets/base",
      "_view_module_version": "1.2.0",
      "_view_name": "StyleView",
      "description_width": ""
     }
    },
    "0c9cf22f93df4bee8720f943c5e4fdbb": {
     "model_module": "@jupyter-widgets/controls",
     "model_name": "HBoxModel",
     "model_module_version": "1.5.0",
     "state": {
      "_dom_classes": [],
      "_model_module": "@jupyter-widgets/controls",
      "_model_module_version": "1.5.0",
      "_model_name": "HBoxModel",
      "_view_count": null,
      "_view_module": "@jupyter-widgets/controls",
      "_view_module_version": "1.5.0",
      "_view_name": "HBoxView",
      "box_style": "",
      "children": [
       "IPY_MODEL_101709020ff741979b26c6d07d854985",
       "IPY_MODEL_0a4c10949aa94b8f90feef5df9cebdb0",
       "IPY_MODEL_56b59a6f2a9841c2b1c6725f15e86708"
      ],
      "layout": "IPY_MODEL_6467aab8ae014b2d9377b43b7da7e9bf"
     }
    },
    "101709020ff741979b26c6d07d854985": {
     "model_module": "@jupyter-widgets/controls",
     "model_name": "HTMLModel",
     "model_module_version": "1.5.0",
     "state": {
      "_dom_classes": [],
      "_model_module": "@jupyter-widgets/controls",
      "_model_module_version": "1.5.0",
      "_model_name": "HTMLModel",
      "_view_count": null,
      "_view_module": "@jupyter-widgets/controls",
      "_view_module_version": "1.5.0",
      "_view_name": "HTMLView",
      "description": "",
      "description_tooltip": null,
      "layout": "IPY_MODEL_e4b1966476c245e4b58ce95fa898d08c",
      "placeholder": "​",
      "style": "IPY_MODEL_5f8b02d22a9844d583040c7295994d50",
      "value": "config.yaml: 100%"
     }
    },
    "0a4c10949aa94b8f90feef5df9cebdb0": {
     "model_module": "@jupyter-widgets/controls",
     "model_name": "FloatProgressModel",
     "model_module_version": "1.5.0",
     "state": {
      "_dom_classes": [],
      "_model_module": "@jupyter-widgets/controls",
      "_model_module_version": "1.5.0",
      "_model_name": "FloatProgressModel",
      "_view_count": null,
      "_view_module": "@jupyter-widgets/controls",
      "_view_module_version": "1.5.0",
      "_view_name": "ProgressView",
      "bar_style": "success",
      "description": "",
      "description_tooltip": null,
      "layout": "IPY_MODEL_31b5fe642f3a44e0b48e82fde0d0feaa",
      "max": 318,
      "min": 0,
      "orientation": "horizontal",
      "style": "IPY_MODEL_0f6918f97e7b49289bb620f3c6cf1db2",
      "value": 318
     }
    },
    "56b59a6f2a9841c2b1c6725f15e86708": {
     "model_module": "@jupyter-widgets/controls",
     "model_name": "HTMLModel",
     "model_module_version": "1.5.0",
     "state": {
      "_dom_classes": [],
      "_model_module": "@jupyter-widgets/controls",
      "_model_module_version": "1.5.0",
      "_model_name": "HTMLModel",
      "_view_count": null,
      "_view_module": "@jupyter-widgets/controls",
      "_view_module_version": "1.5.0",
      "_view_name": "HTMLView",
      "description": "",
      "description_tooltip": null,
      "layout": "IPY_MODEL_c6db82325ebd461786b2c3a822f20d5b",
      "placeholder": "​",
      "style": "IPY_MODEL_7de1467e6b4e43c8a660eda799057c0b",
      "value": " 318/318 [00:00&lt;00:00, 10.9kB/s]"
     }
    },
    "6467aab8ae014b2d9377b43b7da7e9bf": {
     "model_module": "@jupyter-widgets/base",
     "model_name": "LayoutModel",
     "model_module_version": "1.2.0",
     "state": {
      "_model_module": "@jupyter-widgets/base",
      "_model_module_version": "1.2.0",
      "_model_name": "LayoutModel",
      "_view_count": null,
      "_view_module": "@jupyter-widgets/base",
      "_view_module_version": "1.2.0",
      "_view_name": "LayoutView",
      "align_content": null,
      "align_items": null,
      "align_self": null,
      "border": null,
      "bottom": null,
      "display": null,
      "flex": null,
      "flex_flow": null,
      "grid_area": null,
      "grid_auto_columns": null,
      "grid_auto_flow": null,
      "grid_auto_rows": null,
      "grid_column": null,
      "grid_gap": null,
      "grid_row": null,
      "grid_template_areas": null,
      "grid_template_columns": null,
      "grid_template_rows": null,
      "height": null,
      "justify_content": null,
      "justify_items": null,
      "left": null,
      "margin": null,
      "max_height": null,
      "max_width": null,
      "min_height": null,
      "min_width": null,
      "object_fit": null,
      "object_position": null,
      "order": null,
      "overflow": null,
      "overflow_x": null,
      "overflow_y": null,
      "padding": null,
      "right": null,
      "top": null,
      "visibility": null,
      "width": null
     }
    },
    "e4b1966476c245e4b58ce95fa898d08c": {
     "model_module": "@jupyter-widgets/base",
     "model_name": "LayoutModel",
     "model_module_version": "1.2.0",
     "state": {
      "_model_module": "@jupyter-widgets/base",
      "_model_module_version": "1.2.0",
      "_model_name": "LayoutModel",
      "_view_count": null,
      "_view_module": "@jupyter-widgets/base",
      "_view_module_version": "1.2.0",
      "_view_name": "LayoutView",
      "align_content": null,
      "align_items": null,
      "align_self": null,
      "border": null,
      "bottom": null,
      "display": null,
      "flex": null,
      "flex_flow": null,
      "grid_area": null,
      "grid_auto_columns": null,
      "grid_auto_flow": null,
      "grid_auto_rows": null,
      "grid_column": null,
      "grid_gap": null,
      "grid_row": null,
      "grid_template_areas": null,
      "grid_template_columns": null,
      "grid_template_rows": null,
      "height": null,
      "justify_content": null,
      "justify_items": null,
      "left": null,
      "margin": null,
      "max_height": null,
      "max_width": null,
      "min_height": null,
      "min_width": null,
      "object_fit": null,
      "object_position": null,
      "order": null,
      "overflow": null,
      "overflow_x": null,
      "overflow_y": null,
      "padding": null,
      "right": null,
      "top": null,
      "visibility": null,
      "width": null
     }
    },
    "5f8b02d22a9844d583040c7295994d50": {
     "model_module": "@jupyter-widgets/controls",
     "model_name": "DescriptionStyleModel",
     "model_module_version": "1.5.0",
     "state": {
      "_model_module": "@jupyter-widgets/controls",
      "_model_module_version": "1.5.0",
      "_model_name": "DescriptionStyleModel",
      "_view_count": null,
      "_view_module": "@jupyter-widgets/base",
      "_view_module_version": "1.2.0",
      "_view_name": "StyleView",
      "description_width": ""
     }
    },
    "31b5fe642f3a44e0b48e82fde0d0feaa": {
     "model_module": "@jupyter-widgets/base",
     "model_name": "LayoutModel",
     "model_module_version": "1.2.0",
     "state": {
      "_model_module": "@jupyter-widgets/base",
      "_model_module_version": "1.2.0",
      "_model_name": "LayoutModel",
      "_view_count": null,
      "_view_module": "@jupyter-widgets/base",
      "_view_module_version": "1.2.0",
      "_view_name": "LayoutView",
      "align_content": null,
      "align_items": null,
      "align_self": null,
      "border": null,
      "bottom": null,
      "display": null,
      "flex": null,
      "flex_flow": null,
      "grid_area": null,
      "grid_auto_columns": null,
      "grid_auto_flow": null,
      "grid_auto_rows": null,
      "grid_column": null,
      "grid_gap": null,
      "grid_row": null,
      "grid_template_areas": null,
      "grid_template_columns": null,
      "grid_template_rows": null,
      "height": null,
      "justify_content": null,
      "justify_items": null,
      "left": null,
      "margin": null,
      "max_height": null,
      "max_width": null,
      "min_height": null,
      "min_width": null,
      "object_fit": null,
      "object_position": null,
      "order": null,
      "overflow": null,
      "overflow_x": null,
      "overflow_y": null,
      "padding": null,
      "right": null,
      "top": null,
      "visibility": null,
      "width": null
     }
    },
    "0f6918f97e7b49289bb620f3c6cf1db2": {
     "model_module": "@jupyter-widgets/controls",
     "model_name": "ProgressStyleModel",
     "model_module_version": "1.5.0",
     "state": {
      "_model_module": "@jupyter-widgets/controls",
      "_model_module_version": "1.5.0",
      "_model_name": "ProgressStyleModel",
      "_view_count": null,
      "_view_module": "@jupyter-widgets/base",
      "_view_module_version": "1.2.0",
      "_view_name": "StyleView",
      "bar_color": null,
      "description_width": ""
     }
    },
    "c6db82325ebd461786b2c3a822f20d5b": {
     "model_module": "@jupyter-widgets/base",
     "model_name": "LayoutModel",
     "model_module_version": "1.2.0",
     "state": {
      "_model_module": "@jupyter-widgets/base",
      "_model_module_version": "1.2.0",
      "_model_name": "LayoutModel",
      "_view_count": null,
      "_view_module": "@jupyter-widgets/base",
      "_view_module_version": "1.2.0",
      "_view_name": "LayoutView",
      "align_content": null,
      "align_items": null,
      "align_self": null,
      "border": null,
      "bottom": null,
      "display": null,
      "flex": null,
      "flex_flow": null,
      "grid_area": null,
      "grid_auto_columns": null,
      "grid_auto_flow": null,
      "grid_auto_rows": null,
      "grid_column": null,
      "grid_gap": null,
      "grid_row": null,
      "grid_template_areas": null,
      "grid_template_columns": null,
      "grid_template_rows": null,
      "height": null,
      "justify_content": null,
      "justify_items": null,
      "left": null,
      "margin": null,
      "max_height": null,
      "max_width": null,
      "min_height": null,
      "min_width": null,
      "object_fit": null,
      "object_position": null,
      "order": null,
      "overflow": null,
      "overflow_x": null,
      "overflow_y": null,
      "padding": null,
      "right": null,
      "top": null,
      "visibility": null,
      "width": null
     }
    },
    "7de1467e6b4e43c8a660eda799057c0b": {
     "model_module": "@jupyter-widgets/controls",
     "model_name": "DescriptionStyleModel",
     "model_module_version": "1.5.0",
     "state": {
      "_model_module": "@jupyter-widgets/controls",
      "_model_module_version": "1.5.0",
      "_model_name": "DescriptionStyleModel",
      "_view_count": null,
      "_view_module": "@jupyter-widgets/base",
      "_view_module_version": "1.2.0",
      "_view_name": "StyleView",
      "description_width": ""
     }
    },
    "98947ae12eea47a09e1214dc4992d87e": {
     "model_module": "@jupyter-widgets/controls",
     "model_name": "HBoxModel",
     "model_module_version": "1.5.0",
     "state": {
      "_dom_classes": [],
      "_model_module": "@jupyter-widgets/controls",
      "_model_module_version": "1.5.0",
      "_model_name": "HBoxModel",
      "_view_count": null,
      "_view_module": "@jupyter-widgets/controls",
      "_view_module_version": "1.5.0",
      "_view_name": "HBoxView",
      "box_style": "",
      "children": [
       "IPY_MODEL_e6273d2b85b74cbcb2cf43bbdb8c94e2",
       "IPY_MODEL_cdc5c38d4c10424984cba85633b3b8ee",
       "IPY_MODEL_838e5b1814d540e9b48a89084b0562a5"
      ],
      "layout": "IPY_MODEL_7073f3af6d38447591df856dfc8066ec"
     }
    },
    "e6273d2b85b74cbcb2cf43bbdb8c94e2": {
     "model_module": "@jupyter-widgets/controls",
     "model_name": "HTMLModel",
     "model_module_version": "1.5.0",
     "state": {
      "_dom_classes": [],
      "_model_module": "@jupyter-widgets/controls",
      "_model_module_version": "1.5.0",
      "_model_name": "HTMLModel",
      "_view_count": null,
      "_view_module": "@jupyter-widgets/controls",
      "_view_module_version": "1.5.0",
      "_view_name": "HTMLView",
      "description": "",
      "description_tooltip": null,
      "layout": "IPY_MODEL_83d500dd24e647d98867d10b1108a213",
      "placeholder": "​",
      "style": "IPY_MODEL_4f6a06133d27408cb76989e626950c2b",
      "value": "pytorch_model.bin: 100%"
     }
    },
    "cdc5c38d4c10424984cba85633b3b8ee": {
     "model_module": "@jupyter-widgets/controls",
     "model_name": "FloatProgressModel",
     "model_module_version": "1.5.0",
     "state": {
      "_dom_classes": [],
      "_model_module": "@jupyter-widgets/controls",
      "_model_module_version": "1.5.0",
      "_model_name": "FloatProgressModel",
      "_view_count": null,
      "_view_module": "@jupyter-widgets/controls",
      "_view_module_version": "1.5.0",
      "_view_name": "ProgressView",
      "bar_style": "success",
      "description": "",
      "description_tooltip": null,
      "layout": "IPY_MODEL_1eea9ca52653466cb54052005fddfbea",
      "max": 96383626,
      "min": 0,
      "orientation": "horizontal",
      "style": "IPY_MODEL_1e5d2bf554f5449c8953e3022048a1ab",
      "value": 96383626
     }
    },
    "838e5b1814d540e9b48a89084b0562a5": {
     "model_module": "@jupyter-widgets/controls",
     "model_name": "HTMLModel",
     "model_module_version": "1.5.0",
     "state": {
      "_dom_classes": [],
      "_model_module": "@jupyter-widgets/controls",
      "_model_module_version": "1.5.0",
      "_model_name": "HTMLModel",
      "_view_count": null,
      "_view_module": "@jupyter-widgets/controls",
      "_view_module_version": "1.5.0",
      "_view_name": "HTMLView",
      "description": "",
      "description_tooltip": null,
      "layout": "IPY_MODEL_f278232b55484a7ba781b4935400773f",
      "placeholder": "​",
      "style": "IPY_MODEL_b2a0994fbb0748b39202cf9895aefd2b",
      "value": " 96.4M/96.4M [00:00&lt;00:00, 231MB/s]"
     }
    },
    "7073f3af6d38447591df856dfc8066ec": {
     "model_module": "@jupyter-widgets/base",
     "model_name": "LayoutModel",
     "model_module_version": "1.2.0",
     "state": {
      "_model_module": "@jupyter-widgets/base",
      "_model_module_version": "1.2.0",
      "_model_name": "LayoutModel",
      "_view_count": null,
      "_view_module": "@jupyter-widgets/base",
      "_view_module_version": "1.2.0",
      "_view_name": "LayoutView",
      "align_content": null,
      "align_items": null,
      "align_self": null,
      "border": null,
      "bottom": null,
      "display": null,
      "flex": null,
      "flex_flow": null,
      "grid_area": null,
      "grid_auto_columns": null,
      "grid_auto_flow": null,
      "grid_auto_rows": null,
      "grid_column": null,
      "grid_gap": null,
      "grid_row": null,
      "grid_template_areas": null,
      "grid_template_columns": null,
      "grid_template_rows": null,
      "height": null,
      "justify_content": null,
      "justify_items": null,
      "left": null,
      "margin": null,
      "max_height": null,
      "max_width": null,
      "min_height": null,
      "min_width": null,
      "object_fit": null,
      "object_position": null,
      "order": null,
      "overflow": null,
      "overflow_x": null,
      "overflow_y": null,
      "padding": null,
      "right": null,
      "top": null,
      "visibility": null,
      "width": null
     }
    },
    "83d500dd24e647d98867d10b1108a213": {
     "model_module": "@jupyter-widgets/base",
     "model_name": "LayoutModel",
     "model_module_version": "1.2.0",
     "state": {
      "_model_module": "@jupyter-widgets/base",
      "_model_module_version": "1.2.0",
      "_model_name": "LayoutModel",
      "_view_count": null,
      "_view_module": "@jupyter-widgets/base",
      "_view_module_version": "1.2.0",
      "_view_name": "LayoutView",
      "align_content": null,
      "align_items": null,
      "align_self": null,
      "border": null,
      "bottom": null,
      "display": null,
      "flex": null,
      "flex_flow": null,
      "grid_area": null,
      "grid_auto_columns": null,
      "grid_auto_flow": null,
      "grid_auto_rows": null,
      "grid_column": null,
      "grid_gap": null,
      "grid_row": null,
      "grid_template_areas": null,
      "grid_template_columns": null,
      "grid_template_rows": null,
      "height": null,
      "justify_content": null,
      "justify_items": null,
      "left": null,
      "margin": null,
      "max_height": null,
      "max_width": null,
      "min_height": null,
      "min_width": null,
      "object_fit": null,
      "object_position": null,
      "order": null,
      "overflow": null,
      "overflow_x": null,
      "overflow_y": null,
      "padding": null,
      "right": null,
      "top": null,
      "visibility": null,
      "width": null
     }
    },
    "4f6a06133d27408cb76989e626950c2b": {
     "model_module": "@jupyter-widgets/controls",
     "model_name": "DescriptionStyleModel",
     "model_module_version": "1.5.0",
     "state": {
      "_model_module": "@jupyter-widgets/controls",
      "_model_module_version": "1.5.0",
      "_model_name": "DescriptionStyleModel",
      "_view_count": null,
      "_view_module": "@jupyter-widgets/base",
      "_view_module_version": "1.2.0",
      "_view_name": "StyleView",
      "description_width": ""
     }
    },
    "1eea9ca52653466cb54052005fddfbea": {
     "model_module": "@jupyter-widgets/base",
     "model_name": "LayoutModel",
     "model_module_version": "1.2.0",
     "state": {
      "_model_module": "@jupyter-widgets/base",
      "_model_module_version": "1.2.0",
      "_model_name": "LayoutModel",
      "_view_count": null,
      "_view_module": "@jupyter-widgets/base",
      "_view_module_version": "1.2.0",
      "_view_name": "LayoutView",
      "align_content": null,
      "align_items": null,
      "align_self": null,
      "border": null,
      "bottom": null,
      "display": null,
      "flex": null,
      "flex_flow": null,
      "grid_area": null,
      "grid_auto_columns": null,
      "grid_auto_flow": null,
      "grid_auto_rows": null,
      "grid_column": null,
      "grid_gap": null,
      "grid_row": null,
      "grid_template_areas": null,
      "grid_template_columns": null,
      "grid_template_rows": null,
      "height": null,
      "justify_content": null,
      "justify_items": null,
      "left": null,
      "margin": null,
      "max_height": null,
      "max_width": null,
      "min_height": null,
      "min_width": null,
      "object_fit": null,
      "object_position": null,
      "order": null,
      "overflow": null,
      "overflow_x": null,
      "overflow_y": null,
      "padding": null,
      "right": null,
      "top": null,
      "visibility": null,
      "width": null
     }
    },
    "1e5d2bf554f5449c8953e3022048a1ab": {
     "model_module": "@jupyter-widgets/controls",
     "model_name": "ProgressStyleModel",
     "model_module_version": "1.5.0",
     "state": {
      "_model_module": "@jupyter-widgets/controls",
      "_model_module_version": "1.5.0",
      "_model_name": "ProgressStyleModel",
      "_view_count": null,
      "_view_module": "@jupyter-widgets/base",
      "_view_module_version": "1.2.0",
      "_view_name": "StyleView",
      "bar_color": null,
      "description_width": ""
     }
    },
    "f278232b55484a7ba781b4935400773f": {
     "model_module": "@jupyter-widgets/base",
     "model_name": "LayoutModel",
     "model_module_version": "1.2.0",
     "state": {
      "_model_module": "@jupyter-widgets/base",
      "_model_module_version": "1.2.0",
      "_model_name": "LayoutModel",
      "_view_count": null,
      "_view_module": "@jupyter-widgets/base",
      "_view_module_version": "1.2.0",
      "_view_name": "LayoutView",
      "align_content": null,
      "align_items": null,
      "align_self": null,
      "border": null,
      "bottom": null,
      "display": null,
      "flex": null,
      "flex_flow": null,
      "grid_area": null,
      "grid_auto_columns": null,
      "grid_auto_flow": null,
      "grid_auto_rows": null,
      "grid_column": null,
      "grid_gap": null,
      "grid_row": null,
      "grid_template_areas": null,
      "grid_template_columns": null,
      "grid_template_rows": null,
      "height": null,
      "justify_content": null,
      "justify_items": null,
      "left": null,
      "margin": null,
      "max_height": null,
      "max_width": null,
      "min_height": null,
      "min_width": null,
      "object_fit": null,
      "object_position": null,
      "order": null,
      "overflow": null,
      "overflow_x": null,
      "overflow_y": null,
      "padding": null,
      "right": null,
      "top": null,
      "visibility": null,
      "width": null
     }
    },
    "b2a0994fbb0748b39202cf9895aefd2b": {
     "model_module": "@jupyter-widgets/controls",
     "model_name": "DescriptionStyleModel",
     "model_module_version": "1.5.0",
     "state": {
      "_model_module": "@jupyter-widgets/controls",
      "_model_module_version": "1.5.0",
      "_model_name": "DescriptionStyleModel",
      "_view_count": null,
      "_view_module": "@jupyter-widgets/base",
      "_view_module_version": "1.2.0",
      "_view_name": "StyleView",
      "description_width": ""
     }
    },
    "3752bcf650504fac88e90d03e1f8ad5d": {
     "model_module": "@jupyter-widgets/controls",
     "model_name": "HBoxModel",
     "model_module_version": "1.5.0",
     "state": {
      "_dom_classes": [],
      "_model_module": "@jupyter-widgets/controls",
      "_model_module_version": "1.5.0",
      "_model_name": "HBoxModel",
      "_view_count": null,
      "_view_module": "@jupyter-widgets/controls",
      "_view_module_version": "1.5.0",
      "_view_name": "HBoxView",
      "box_style": "",
      "children": [
       "IPY_MODEL_d7448fa2ffd24d87ad50e6b6ee7e2081",
       "IPY_MODEL_daf7f0af8f334635abc03d57cfdb69f3",
       "IPY_MODEL_7ecac79b4df84d658ecaee774a76143c"
      ],
      "layout": "IPY_MODEL_a1eecc37ad7a4135b249256886bf7b4f"
     }
    },
    "d7448fa2ffd24d87ad50e6b6ee7e2081": {
     "model_module": "@jupyter-widgets/controls",
     "model_name": "HTMLModel",
     "model_module_version": "1.5.0",
     "state": {
      "_dom_classes": [],
      "_model_module": "@jupyter-widgets/controls",
      "_model_module_version": "1.5.0",
      "_model_name": "HTMLModel",
      "_view_count": null,
      "_view_module": "@jupyter-widgets/controls",
      "_view_module_version": "1.5.0",
      "_view_name": "HTMLView",
      "description": "",
      "description_tooltip": null,
      "layout": "IPY_MODEL_053b612f4fa64f89a88adedbbbd55162",
      "placeholder": "​",
      "style": "IPY_MODEL_897282a156ea48119f5f85c3248ad565",
      "value": "config.yaml: 100%"
     }
    },
    "daf7f0af8f334635abc03d57cfdb69f3": {
     "model_module": "@jupyter-widgets/controls",
     "model_name": "FloatProgressModel",
     "model_module_version": "1.5.0",
     "state": {
      "_dom_classes": [],
      "_model_module": "@jupyter-widgets/controls",
      "_model_module_version": "1.5.0",
      "_model_name": "FloatProgressModel",
      "_view_count": null,
      "_view_module": "@jupyter-widgets/controls",
      "_view_module_version": "1.5.0",
      "_view_name": "ProgressView",
      "bar_style": "success",
      "description": "",
      "description_tooltip": null,
      "layout": "IPY_MODEL_93f0c60358f643088d29b07ad604e91f",
      "max": 1996,
      "min": 0,
      "orientation": "horizontal",
      "style": "IPY_MODEL_a8b107ea72964a0185e4ddc00b8ffb9e",
      "value": 1996
     }
    },
    "7ecac79b4df84d658ecaee774a76143c": {
     "model_module": "@jupyter-widgets/controls",
     "model_name": "HTMLModel",
     "model_module_version": "1.5.0",
     "state": {
      "_dom_classes": [],
      "_model_module": "@jupyter-widgets/controls",
      "_model_module_version": "1.5.0",
      "_model_name": "HTMLModel",
      "_view_count": null,
      "_view_module": "@jupyter-widgets/controls",
      "_view_module_version": "1.5.0",
      "_view_name": "HTMLView",
      "description": "",
      "description_tooltip": null,
      "layout": "IPY_MODEL_90dc6bd2df054fb582a9fc3b2030be8e",
      "placeholder": "​",
      "style": "IPY_MODEL_50d8d04d479d4b8c9ac145d5577bf84a",
      "value": " 2.00k/2.00k [00:00&lt;00:00, 85.9kB/s]"
     }
    },
    "a1eecc37ad7a4135b249256886bf7b4f": {
     "model_module": "@jupyter-widgets/base",
     "model_name": "LayoutModel",
     "model_module_version": "1.2.0",
     "state": {
      "_model_module": "@jupyter-widgets/base",
      "_model_module_version": "1.2.0",
      "_model_name": "LayoutModel",
      "_view_count": null,
      "_view_module": "@jupyter-widgets/base",
      "_view_module_version": "1.2.0",
      "_view_name": "LayoutView",
      "align_content": null,
      "align_items": null,
      "align_self": null,
      "border": null,
      "bottom": null,
      "display": null,
      "flex": null,
      "flex_flow": null,
      "grid_area": null,
      "grid_auto_columns": null,
      "grid_auto_flow": null,
      "grid_auto_rows": null,
      "grid_column": null,
      "grid_gap": null,
      "grid_row": null,
      "grid_template_areas": null,
      "grid_template_columns": null,
      "grid_template_rows": null,
      "height": null,
      "justify_content": null,
      "justify_items": null,
      "left": null,
      "margin": null,
      "max_height": null,
      "max_width": null,
      "min_height": null,
      "min_width": null,
      "object_fit": null,
      "object_position": null,
      "order": null,
      "overflow": null,
      "overflow_x": null,
      "overflow_y": null,
      "padding": null,
      "right": null,
      "top": null,
      "visibility": null,
      "width": null
     }
    },
    "053b612f4fa64f89a88adedbbbd55162": {
     "model_module": "@jupyter-widgets/base",
     "model_name": "LayoutModel",
     "model_module_version": "1.2.0",
     "state": {
      "_model_module": "@jupyter-widgets/base",
      "_model_module_version": "1.2.0",
      "_model_name": "LayoutModel",
      "_view_count": null,
      "_view_module": "@jupyter-widgets/base",
      "_view_module_version": "1.2.0",
      "_view_name": "LayoutView",
      "align_content": null,
      "align_items": null,
      "align_self": null,
      "border": null,
      "bottom": null,
      "display": null,
      "flex": null,
      "flex_flow": null,
      "grid_area": null,
      "grid_auto_columns": null,
      "grid_auto_flow": null,
      "grid_auto_rows": null,
      "grid_column": null,
      "grid_gap": null,
      "grid_row": null,
      "grid_template_areas": null,
      "grid_template_columns": null,
      "grid_template_rows": null,
      "height": null,
      "justify_content": null,
      "justify_items": null,
      "left": null,
      "margin": null,
      "max_height": null,
      "max_width": null,
      "min_height": null,
      "min_width": null,
      "object_fit": null,
      "object_position": null,
      "order": null,
      "overflow": null,
      "overflow_x": null,
      "overflow_y": null,
      "padding": null,
      "right": null,
      "top": null,
      "visibility": null,
      "width": null
     }
    },
    "897282a156ea48119f5f85c3248ad565": {
     "model_module": "@jupyter-widgets/controls",
     "model_name": "DescriptionStyleModel",
     "model_module_version": "1.5.0",
     "state": {
      "_model_module": "@jupyter-widgets/controls",
      "_model_module_version": "1.5.0",
      "_model_name": "DescriptionStyleModel",
      "_view_count": null,
      "_view_module": "@jupyter-widgets/base",
      "_view_module_version": "1.2.0",
      "_view_name": "StyleView",
      "description_width": ""
     }
    },
    "93f0c60358f643088d29b07ad604e91f": {
     "model_module": "@jupyter-widgets/base",
     "model_name": "LayoutModel",
     "model_module_version": "1.2.0",
     "state": {
      "_model_module": "@jupyter-widgets/base",
      "_model_module_version": "1.2.0",
      "_model_name": "LayoutModel",
      "_view_count": null,
      "_view_module": "@jupyter-widgets/base",
      "_view_module_version": "1.2.0",
      "_view_name": "LayoutView",
      "align_content": null,
      "align_items": null,
      "align_self": null,
      "border": null,
      "bottom": null,
      "display": null,
      "flex": null,
      "flex_flow": null,
      "grid_area": null,
      "grid_auto_columns": null,
      "grid_auto_flow": null,
      "grid_auto_rows": null,
      "grid_column": null,
      "grid_gap": null,
      "grid_row": null,
      "grid_template_areas": null,
      "grid_template_columns": null,
      "grid_template_rows": null,
      "height": null,
      "justify_content": null,
      "justify_items": null,
      "left": null,
      "margin": null,
      "max_height": null,
      "max_width": null,
      "min_height": null,
      "min_width": null,
      "object_fit": null,
      "object_position": null,
      "order": null,
      "overflow": null,
      "overflow_x": null,
      "overflow_y": null,
      "padding": null,
      "right": null,
      "top": null,
      "visibility": null,
      "width": null
     }
    },
    "a8b107ea72964a0185e4ddc00b8ffb9e": {
     "model_module": "@jupyter-widgets/controls",
     "model_name": "ProgressStyleModel",
     "model_module_version": "1.5.0",
     "state": {
      "_model_module": "@jupyter-widgets/controls",
      "_model_module_version": "1.5.0",
      "_model_name": "ProgressStyleModel",
      "_view_count": null,
      "_view_module": "@jupyter-widgets/base",
      "_view_module_version": "1.2.0",
      "_view_name": "StyleView",
      "bar_color": null,
      "description_width": ""
     }
    },
    "90dc6bd2df054fb582a9fc3b2030be8e": {
     "model_module": "@jupyter-widgets/base",
     "model_name": "LayoutModel",
     "model_module_version": "1.2.0",
     "state": {
      "_model_module": "@jupyter-widgets/base",
      "_model_module_version": "1.2.0",
      "_model_name": "LayoutModel",
      "_view_count": null,
      "_view_module": "@jupyter-widgets/base",
      "_view_module_version": "1.2.0",
      "_view_name": "LayoutView",
      "align_content": null,
      "align_items": null,
      "align_self": null,
      "border": null,
      "bottom": null,
      "display": null,
      "flex": null,
      "flex_flow": null,
      "grid_area": null,
      "grid_auto_columns": null,
      "grid_auto_flow": null,
      "grid_auto_rows": null,
      "grid_column": null,
      "grid_gap": null,
      "grid_row": null,
      "grid_template_areas": null,
      "grid_template_columns": null,
      "grid_template_rows": null,
      "height": null,
      "justify_content": null,
      "justify_items": null,
      "left": null,
      "margin": null,
      "max_height": null,
      "max_width": null,
      "min_height": null,
      "min_width": null,
      "object_fit": null,
      "object_position": null,
      "order": null,
      "overflow": null,
      "overflow_x": null,
      "overflow_y": null,
      "padding": null,
      "right": null,
      "top": null,
      "visibility": null,
      "width": null
     }
    },
    "50d8d04d479d4b8c9ac145d5577bf84a": {
     "model_module": "@jupyter-widgets/controls",
     "model_name": "DescriptionStyleModel",
     "model_module_version": "1.5.0",
     "state": {
      "_model_module": "@jupyter-widgets/controls",
      "_model_module_version": "1.5.0",
      "_model_name": "DescriptionStyleModel",
      "_view_count": null,
      "_view_module": "@jupyter-widgets/base",
      "_view_module_version": "1.2.0",
      "_view_name": "StyleView",
      "description_width": ""
     }
    }
   }
  }
 },
 "nbformat_minor": 0,
 "nbformat": 4,
 "cells": [
  {
   "cell_type": "markdown",
   "source": "# Speaker_Diarization",
   "metadata": {
    "_uuid": "8f2839f25d086af736a60e9eeb907d3b93b6e0e5",
    "_cell_guid": "b1076dfc-b9ad-4769-8c92-a6c4dae69d19",
    "execution": {
     "iopub.status.busy": "2024-05-08T13:05:19.516313Z",
     "iopub.execute_input": "2024-05-08T13:05:19.516564Z",
     "iopub.status.idle": "2024-05-08T13:05:33.060281Z",
     "shell.execute_reply.started": "2024-05-08T13:05:19.516541Z",
     "shell.execute_reply": "2024-05-08T13:05:33.059279Z"
    },
    "id": "9pC2mhLtUR7m"
   }
  },
  {
   "metadata": {},
   "cell_type": "markdown",
   "source": [
    "# Speaker Diarization\n",
    "Speaker Diarization is the task of identifying different speakers in an audio file. This task has an important role in a pipeline where voice data is used. For example, a TTS model is usually not able to identify different speakers by itself, therefore a diarization step is required."
   ]
  },
  {
   "cell_type": "code",
   "source": [
    "!pip install torch"
   ],
   "metadata": {
    "execution": {
     "iopub.status.busy": "2024-05-16T14:18:26.907654Z",
     "iopub.execute_input": "2024-05-16T14:18:26.908287Z",
     "iopub.status.idle": "2024-05-16T14:18:40.560698Z",
     "shell.execute_reply.started": "2024-05-16T14:18:26.908249Z",
     "shell.execute_reply": "2024-05-16T14:18:40.559596Z"
    },
    "trusted": true,
    "colab": {
     "base_uri": "https://localhost:8080/"
    },
    "id": "NAPuB19GUR7p",
    "outputId": "c0fdbb3c-5ccd-469f-9256-c16000bcfa1b",
    "ExecuteTime": {
     "end_time": "2024-05-21T12:43:59.272852Z",
     "start_time": "2024-05-21T12:43:53.164523Z"
    }
   },
   "outputs": [
    {
     "name": "stdout",
     "output_type": "stream",
     "text": [
      "Requirement already satisfied: torch in c:\\users\\iara0\\miniconda3\\envs\\pythonproject\\lib\\site-packages (2.3.0)\n",
      "Requirement already satisfied: filelock in c:\\users\\iara0\\miniconda3\\envs\\pythonproject\\lib\\site-packages (from torch) (3.14.0)\n",
      "Requirement already satisfied: typing-extensions>=4.8.0 in c:\\users\\iara0\\miniconda3\\envs\\pythonproject\\lib\\site-packages (from torch) (4.11.0)\n",
      "Requirement already satisfied: sympy in c:\\users\\iara0\\miniconda3\\envs\\pythonproject\\lib\\site-packages (from torch) (1.12)\n",
      "Requirement already satisfied: networkx in c:\\users\\iara0\\miniconda3\\envs\\pythonproject\\lib\\site-packages (from torch) (3.3)\n",
      "Requirement already satisfied: jinja2 in c:\\users\\iara0\\miniconda3\\envs\\pythonproject\\lib\\site-packages (from torch) (3.1.3)\n",
      "Requirement already satisfied: fsspec in c:\\users\\iara0\\miniconda3\\envs\\pythonproject\\lib\\site-packages (from torch) (2024.5.0)\n",
      "Requirement already satisfied: mkl<=2021.4.0,>=2021.1.1 in c:\\users\\iara0\\miniconda3\\envs\\pythonproject\\lib\\site-packages (from torch) (2021.4.0)\n",
      "Requirement already satisfied: intel-openmp==2021.* in c:\\users\\iara0\\miniconda3\\envs\\pythonproject\\lib\\site-packages (from mkl<=2021.4.0,>=2021.1.1->torch) (2021.4.0)\n",
      "Requirement already satisfied: tbb==2021.* in c:\\users\\iara0\\miniconda3\\envs\\pythonproject\\lib\\site-packages (from mkl<=2021.4.0,>=2021.1.1->torch) (2021.12.0)\n",
      "Requirement already satisfied: MarkupSafe>=2.0 in c:\\users\\iara0\\miniconda3\\envs\\pythonproject\\lib\\site-packages (from jinja2->torch) (2.1.3)\n",
      "Requirement already satisfied: mpmath>=0.19 in c:\\users\\iara0\\miniconda3\\envs\\pythonproject\\lib\\site-packages (from sympy->torch) (1.3.0)\n"
     ]
    }
   ],
   "execution_count": 1
  },
  {
   "cell_type": "code",
   "source": [
    "!pip install pyannote.audio \n",
    "# install pyannote for speaker diarization"
   ],
   "metadata": {
    "execution": {
     "iopub.status.busy": "2024-05-16T14:16:17.146315Z",
     "iopub.execute_input": "2024-05-16T14:16:17.146861Z"
    },
    "trusted": true,
    "colab": {
     "base_uri": "https://localhost:8080/",
     "height": 1000
    },
    "id": "_88SF8ekUR7r",
    "outputId": "4389e2d0-0e94-4bec-8ca7-19659f9d9d0f",
    "ExecuteTime": {
     "end_time": "2024-05-21T12:44:47.508718Z",
     "start_time": "2024-05-21T12:44:40.823890Z"
    }
   },
   "outputs": [
    {
     "name": "stdout",
     "output_type": "stream",
     "text": [
      "Requirement already satisfied: pyannote.audio in c:\\users\\iara0\\miniconda3\\envs\\pythonproject\\lib\\site-packages (3.2.0)\n",
      "Requirement already satisfied: asteroid-filterbanks>=0.4 in c:\\users\\iara0\\miniconda3\\envs\\pythonproject\\lib\\site-packages (from pyannote.audio) (0.4.0)\n",
      "Requirement already satisfied: einops>=0.6.0 in c:\\users\\iara0\\miniconda3\\envs\\pythonproject\\lib\\site-packages (from pyannote.audio) (0.8.0)\n",
      "Requirement already satisfied: huggingface-hub>=0.13.0 in c:\\users\\iara0\\miniconda3\\envs\\pythonproject\\lib\\site-packages (from pyannote.audio) (0.23.0)\n",
      "Requirement already satisfied: lightning>=2.0.1 in c:\\users\\iara0\\miniconda3\\envs\\pythonproject\\lib\\site-packages (from pyannote.audio) (2.2.4)\n",
      "Requirement already satisfied: omegaconf<3.0,>=2.1 in c:\\users\\iara0\\miniconda3\\envs\\pythonproject\\lib\\site-packages (from pyannote.audio) (2.3.0)\n",
      "Requirement already satisfied: pyannote.core>=5.0.0 in c:\\users\\iara0\\miniconda3\\envs\\pythonproject\\lib\\site-packages (from pyannote.audio) (5.0.0)\n",
      "Requirement already satisfied: pyannote.database>=5.0.1 in c:\\users\\iara0\\miniconda3\\envs\\pythonproject\\lib\\site-packages (from pyannote.audio) (5.1.0)\n",
      "Requirement already satisfied: pyannote.metrics>=3.2 in c:\\users\\iara0\\miniconda3\\envs\\pythonproject\\lib\\site-packages (from pyannote.audio) (3.2.1)\n",
      "Requirement already satisfied: pyannote.pipeline>=3.0.1 in c:\\users\\iara0\\miniconda3\\envs\\pythonproject\\lib\\site-packages (from pyannote.audio) (3.0.1)\n",
      "Requirement already satisfied: pytorch-metric-learning>=2.1.0 in c:\\users\\iara0\\miniconda3\\envs\\pythonproject\\lib\\site-packages (from pyannote.audio) (2.5.0)\n",
      "Requirement already satisfied: rich>=12.0.0 in c:\\users\\iara0\\miniconda3\\envs\\pythonproject\\lib\\site-packages (from pyannote.audio) (13.7.1)\n",
      "Requirement already satisfied: semver>=3.0.0 in c:\\users\\iara0\\miniconda3\\envs\\pythonproject\\lib\\site-packages (from pyannote.audio) (3.0.2)\n",
      "Requirement already satisfied: soundfile>=0.12.1 in c:\\users\\iara0\\miniconda3\\envs\\pythonproject\\lib\\site-packages (from pyannote.audio) (0.12.1)\n",
      "Requirement already satisfied: speechbrain>=0.5.14 in c:\\users\\iara0\\miniconda3\\envs\\pythonproject\\lib\\site-packages (from pyannote.audio) (1.0.0)\n",
      "Requirement already satisfied: tensorboardX>=2.6 in c:\\users\\iara0\\miniconda3\\envs\\pythonproject\\lib\\site-packages (from pyannote.audio) (2.6.2.2)\n",
      "Requirement already satisfied: torch>=2.0.0 in c:\\users\\iara0\\miniconda3\\envs\\pythonproject\\lib\\site-packages (from pyannote.audio) (2.3.0)\n",
      "Requirement already satisfied: torch-audiomentations>=0.11.0 in c:\\users\\iara0\\miniconda3\\envs\\pythonproject\\lib\\site-packages (from pyannote.audio) (0.11.1)\n",
      "Requirement already satisfied: torchaudio>=2.2.0 in c:\\users\\iara0\\miniconda3\\envs\\pythonproject\\lib\\site-packages (from pyannote.audio) (2.3.0)\n",
      "Requirement already satisfied: torchmetrics>=0.11.0 in c:\\users\\iara0\\miniconda3\\envs\\pythonproject\\lib\\site-packages (from pyannote.audio) (1.4.0.post0)\n",
      "Requirement already satisfied: numpy in c:\\users\\iara0\\miniconda3\\envs\\pythonproject\\lib\\site-packages (from asteroid-filterbanks>=0.4->pyannote.audio) (1.26.4)\n",
      "Requirement already satisfied: typing-extensions in c:\\users\\iara0\\miniconda3\\envs\\pythonproject\\lib\\site-packages (from asteroid-filterbanks>=0.4->pyannote.audio) (4.11.0)\n",
      "Requirement already satisfied: filelock in c:\\users\\iara0\\miniconda3\\envs\\pythonproject\\lib\\site-packages (from huggingface-hub>=0.13.0->pyannote.audio) (3.14.0)\n",
      "Requirement already satisfied: fsspec>=2023.5.0 in c:\\users\\iara0\\miniconda3\\envs\\pythonproject\\lib\\site-packages (from huggingface-hub>=0.13.0->pyannote.audio) (2024.5.0)\n",
      "Requirement already satisfied: packaging>=20.9 in c:\\users\\iara0\\miniconda3\\envs\\pythonproject\\lib\\site-packages (from huggingface-hub>=0.13.0->pyannote.audio) (23.2)\n",
      "Requirement already satisfied: pyyaml>=5.1 in c:\\users\\iara0\\miniconda3\\envs\\pythonproject\\lib\\site-packages (from huggingface-hub>=0.13.0->pyannote.audio) (6.0.1)\n",
      "Requirement already satisfied: requests in c:\\users\\iara0\\miniconda3\\envs\\pythonproject\\lib\\site-packages (from huggingface-hub>=0.13.0->pyannote.audio) (2.31.0)\n",
      "Requirement already satisfied: tqdm>=4.42.1 in c:\\users\\iara0\\miniconda3\\envs\\pythonproject\\lib\\site-packages (from huggingface-hub>=0.13.0->pyannote.audio) (4.66.4)\n",
      "Requirement already satisfied: lightning-utilities<2.0,>=0.8.0 in c:\\users\\iara0\\miniconda3\\envs\\pythonproject\\lib\\site-packages (from lightning>=2.0.1->pyannote.audio) (0.11.2)\n",
      "Requirement already satisfied: pytorch-lightning in c:\\users\\iara0\\miniconda3\\envs\\pythonproject\\lib\\site-packages (from lightning>=2.0.1->pyannote.audio) (2.2.4)\n",
      "Requirement already satisfied: antlr4-python3-runtime==4.9.* in c:\\users\\iara0\\miniconda3\\envs\\pythonproject\\lib\\site-packages (from omegaconf<3.0,>=2.1->pyannote.audio) (4.9.3)\n",
      "Requirement already satisfied: sortedcontainers>=2.0.4 in c:\\users\\iara0\\miniconda3\\envs\\pythonproject\\lib\\site-packages (from pyannote.core>=5.0.0->pyannote.audio) (2.4.0)\n",
      "Requirement already satisfied: scipy>=1.1 in c:\\users\\iara0\\miniconda3\\envs\\pythonproject\\lib\\site-packages (from pyannote.core>=5.0.0->pyannote.audio) (1.13.0)\n",
      "Requirement already satisfied: pandas>=0.19 in c:\\users\\iara0\\miniconda3\\envs\\pythonproject\\lib\\site-packages (from pyannote.database>=5.0.1->pyannote.audio) (2.2.2)\n",
      "Requirement already satisfied: typer>=0.12.1 in c:\\users\\iara0\\miniconda3\\envs\\pythonproject\\lib\\site-packages (from pyannote.database>=5.0.1->pyannote.audio) (0.12.3)\n",
      "Requirement already satisfied: scikit-learn>=0.17.1 in c:\\users\\iara0\\miniconda3\\envs\\pythonproject\\lib\\site-packages (from pyannote.metrics>=3.2->pyannote.audio) (1.4.2)\n",
      "Requirement already satisfied: docopt>=0.6.2 in c:\\users\\iara0\\miniconda3\\envs\\pythonproject\\lib\\site-packages (from pyannote.metrics>=3.2->pyannote.audio) (0.6.2)\n",
      "Requirement already satisfied: tabulate>=0.7.7 in c:\\users\\iara0\\miniconda3\\envs\\pythonproject\\lib\\site-packages (from pyannote.metrics>=3.2->pyannote.audio) (0.9.0)\n",
      "Requirement already satisfied: matplotlib>=2.0.0 in c:\\users\\iara0\\miniconda3\\envs\\pythonproject\\lib\\site-packages (from pyannote.metrics>=3.2->pyannote.audio) (3.8.4)\n",
      "Requirement already satisfied: sympy>=1.1 in c:\\users\\iara0\\miniconda3\\envs\\pythonproject\\lib\\site-packages (from pyannote.metrics>=3.2->pyannote.audio) (1.12)\n",
      "Requirement already satisfied: optuna>=3.1 in c:\\users\\iara0\\miniconda3\\envs\\pythonproject\\lib\\site-packages (from pyannote.pipeline>=3.0.1->pyannote.audio) (3.6.1)\n",
      "Requirement already satisfied: markdown-it-py>=2.2.0 in c:\\users\\iara0\\miniconda3\\envs\\pythonproject\\lib\\site-packages (from rich>=12.0.0->pyannote.audio) (3.0.0)\n",
      "Requirement already satisfied: pygments<3.0.0,>=2.13.0 in c:\\users\\iara0\\miniconda3\\envs\\pythonproject\\lib\\site-packages (from rich>=12.0.0->pyannote.audio) (2.15.1)\n",
      "Requirement already satisfied: cffi>=1.0 in c:\\users\\iara0\\miniconda3\\envs\\pythonproject\\lib\\site-packages (from soundfile>=0.12.1->pyannote.audio) (1.16.0)\n",
      "Requirement already satisfied: hyperpyyaml in c:\\users\\iara0\\miniconda3\\envs\\pythonproject\\lib\\site-packages (from speechbrain>=0.5.14->pyannote.audio) (1.2.2)\n",
      "Requirement already satisfied: joblib in c:\\users\\iara0\\miniconda3\\envs\\pythonproject\\lib\\site-packages (from speechbrain>=0.5.14->pyannote.audio) (1.4.2)\n",
      "Requirement already satisfied: sentencepiece in c:\\users\\iara0\\miniconda3\\envs\\pythonproject\\lib\\site-packages (from speechbrain>=0.5.14->pyannote.audio) (0.2.0)\n",
      "Requirement already satisfied: protobuf>=3.20 in c:\\users\\iara0\\miniconda3\\envs\\pythonproject\\lib\\site-packages (from tensorboardX>=2.6->pyannote.audio) (5.26.1)\n",
      "Requirement already satisfied: networkx in c:\\users\\iara0\\miniconda3\\envs\\pythonproject\\lib\\site-packages (from torch>=2.0.0->pyannote.audio) (3.3)\n",
      "Requirement already satisfied: jinja2 in c:\\users\\iara0\\miniconda3\\envs\\pythonproject\\lib\\site-packages (from torch>=2.0.0->pyannote.audio) (3.1.3)\n",
      "Requirement already satisfied: mkl<=2021.4.0,>=2021.1.1 in c:\\users\\iara0\\miniconda3\\envs\\pythonproject\\lib\\site-packages (from torch>=2.0.0->pyannote.audio) (2021.4.0)\n",
      "Requirement already satisfied: julius<0.3,>=0.2.3 in c:\\users\\iara0\\miniconda3\\envs\\pythonproject\\lib\\site-packages (from torch-audiomentations>=0.11.0->pyannote.audio) (0.2.7)\n",
      "Requirement already satisfied: librosa>=0.6.0 in c:\\users\\iara0\\miniconda3\\envs\\pythonproject\\lib\\site-packages (from torch-audiomentations>=0.11.0->pyannote.audio) (0.10.2.post1)\n",
      "Requirement already satisfied: torch-pitch-shift>=1.2.2 in c:\\users\\iara0\\miniconda3\\envs\\pythonproject\\lib\\site-packages (from torch-audiomentations>=0.11.0->pyannote.audio) (1.2.4)\n",
      "Requirement already satisfied: pycparser in c:\\users\\iara0\\miniconda3\\envs\\pythonproject\\lib\\site-packages (from cffi>=1.0->soundfile>=0.12.1->pyannote.audio) (2.21)\n",
      "Requirement already satisfied: aiohttp!=4.0.0a0,!=4.0.0a1 in c:\\users\\iara0\\miniconda3\\envs\\pythonproject\\lib\\site-packages (from fsspec[http]<2025.0,>=2022.5.0->lightning>=2.0.1->pyannote.audio) (3.9.5)\n",
      "Requirement already satisfied: audioread>=2.1.9 in c:\\users\\iara0\\miniconda3\\envs\\pythonproject\\lib\\site-packages (from librosa>=0.6.0->torch-audiomentations>=0.11.0->pyannote.audio) (3.0.1)\n",
      "Requirement already satisfied: decorator>=4.3.0 in c:\\users\\iara0\\miniconda3\\envs\\pythonproject\\lib\\site-packages (from librosa>=0.6.0->torch-audiomentations>=0.11.0->pyannote.audio) (5.1.1)\n",
      "Requirement already satisfied: numba>=0.51.0 in c:\\users\\iara0\\miniconda3\\envs\\pythonproject\\lib\\site-packages (from librosa>=0.6.0->torch-audiomentations>=0.11.0->pyannote.audio) (0.59.1)\n",
      "Requirement already satisfied: pooch>=1.1 in c:\\users\\iara0\\miniconda3\\envs\\pythonproject\\lib\\site-packages (from librosa>=0.6.0->torch-audiomentations>=0.11.0->pyannote.audio) (1.8.1)\n",
      "Requirement already satisfied: soxr>=0.3.2 in c:\\users\\iara0\\miniconda3\\envs\\pythonproject\\lib\\site-packages (from librosa>=0.6.0->torch-audiomentations>=0.11.0->pyannote.audio) (0.3.7)\n",
      "Requirement already satisfied: lazy-loader>=0.1 in c:\\users\\iara0\\miniconda3\\envs\\pythonproject\\lib\\site-packages (from librosa>=0.6.0->torch-audiomentations>=0.11.0->pyannote.audio) (0.4)\n",
      "Requirement already satisfied: msgpack>=1.0 in c:\\users\\iara0\\miniconda3\\envs\\pythonproject\\lib\\site-packages (from librosa>=0.6.0->torch-audiomentations>=0.11.0->pyannote.audio) (1.0.8)\n",
      "Requirement already satisfied: setuptools in c:\\users\\iara0\\miniconda3\\envs\\pythonproject\\lib\\site-packages (from lightning-utilities<2.0,>=0.8.0->lightning>=2.0.1->pyannote.audio) (69.5.1)\n",
      "Requirement already satisfied: mdurl~=0.1 in c:\\users\\iara0\\miniconda3\\envs\\pythonproject\\lib\\site-packages (from markdown-it-py>=2.2.0->rich>=12.0.0->pyannote.audio) (0.1.2)\n",
      "Requirement already satisfied: contourpy>=1.0.1 in c:\\users\\iara0\\miniconda3\\envs\\pythonproject\\lib\\site-packages (from matplotlib>=2.0.0->pyannote.metrics>=3.2->pyannote.audio) (1.2.0)\n",
      "Requirement already satisfied: cycler>=0.10 in c:\\users\\iara0\\miniconda3\\envs\\pythonproject\\lib\\site-packages (from matplotlib>=2.0.0->pyannote.metrics>=3.2->pyannote.audio) (0.11.0)\n",
      "Requirement already satisfied: fonttools>=4.22.0 in c:\\users\\iara0\\miniconda3\\envs\\pythonproject\\lib\\site-packages (from matplotlib>=2.0.0->pyannote.metrics>=3.2->pyannote.audio) (4.51.0)\n",
      "Requirement already satisfied: kiwisolver>=1.3.1 in c:\\users\\iara0\\miniconda3\\envs\\pythonproject\\lib\\site-packages (from matplotlib>=2.0.0->pyannote.metrics>=3.2->pyannote.audio) (1.4.4)\n",
      "Requirement already satisfied: pillow>=8 in c:\\users\\iara0\\miniconda3\\envs\\pythonproject\\lib\\site-packages (from matplotlib>=2.0.0->pyannote.metrics>=3.2->pyannote.audio) (10.3.0)\n",
      "Requirement already satisfied: pyparsing>=2.3.1 in c:\\users\\iara0\\miniconda3\\envs\\pythonproject\\lib\\site-packages (from matplotlib>=2.0.0->pyannote.metrics>=3.2->pyannote.audio) (3.0.9)\n",
      "Requirement already satisfied: python-dateutil>=2.7 in c:\\users\\iara0\\miniconda3\\envs\\pythonproject\\lib\\site-packages (from matplotlib>=2.0.0->pyannote.metrics>=3.2->pyannote.audio) (2.8.2)\n",
      "Requirement already satisfied: intel-openmp==2021.* in c:\\users\\iara0\\miniconda3\\envs\\pythonproject\\lib\\site-packages (from mkl<=2021.4.0,>=2021.1.1->torch>=2.0.0->pyannote.audio) (2021.4.0)\n",
      "Requirement already satisfied: tbb==2021.* in c:\\users\\iara0\\miniconda3\\envs\\pythonproject\\lib\\site-packages (from mkl<=2021.4.0,>=2021.1.1->torch>=2.0.0->pyannote.audio) (2021.12.0)\n",
      "Requirement already satisfied: alembic>=1.5.0 in c:\\users\\iara0\\miniconda3\\envs\\pythonproject\\lib\\site-packages (from optuna>=3.1->pyannote.pipeline>=3.0.1->pyannote.audio) (1.13.1)\n",
      "Requirement already satisfied: colorlog in c:\\users\\iara0\\miniconda3\\envs\\pythonproject\\lib\\site-packages (from optuna>=3.1->pyannote.pipeline>=3.0.1->pyannote.audio) (6.8.2)\n",
      "Requirement already satisfied: sqlalchemy>=1.3.0 in c:\\users\\iara0\\miniconda3\\envs\\pythonproject\\lib\\site-packages (from optuna>=3.1->pyannote.pipeline>=3.0.1->pyannote.audio) (2.0.30)\n",
      "Requirement already satisfied: pytz>=2020.1 in c:\\users\\iara0\\miniconda3\\envs\\pythonproject\\lib\\site-packages (from pandas>=0.19->pyannote.database>=5.0.1->pyannote.audio) (2024.1)\n",
      "Requirement already satisfied: tzdata>=2022.7 in c:\\users\\iara0\\miniconda3\\envs\\pythonproject\\lib\\site-packages (from pandas>=0.19->pyannote.database>=5.0.1->pyannote.audio) (2024.1)\n",
      "Requirement already satisfied: threadpoolctl>=2.0.0 in c:\\users\\iara0\\miniconda3\\envs\\pythonproject\\lib\\site-packages (from scikit-learn>=0.17.1->pyannote.metrics>=3.2->pyannote.audio) (3.5.0)\n",
      "Requirement already satisfied: mpmath>=0.19 in c:\\users\\iara0\\miniconda3\\envs\\pythonproject\\lib\\site-packages (from sympy>=1.1->pyannote.metrics>=3.2->pyannote.audio) (1.3.0)\n",
      "Requirement already satisfied: primePy>=1.3 in c:\\users\\iara0\\miniconda3\\envs\\pythonproject\\lib\\site-packages (from torch-pitch-shift>=1.2.2->torch-audiomentations>=0.11.0->pyannote.audio) (1.3)\n",
      "Requirement already satisfied: colorama in c:\\users\\iara0\\miniconda3\\envs\\pythonproject\\lib\\site-packages (from tqdm>=4.42.1->huggingface-hub>=0.13.0->pyannote.audio) (0.4.6)\n",
      "Requirement already satisfied: click>=8.0.0 in c:\\users\\iara0\\miniconda3\\envs\\pythonproject\\lib\\site-packages (from typer>=0.12.1->pyannote.database>=5.0.1->pyannote.audio) (8.1.7)\n",
      "Requirement already satisfied: shellingham>=1.3.0 in c:\\users\\iara0\\miniconda3\\envs\\pythonproject\\lib\\site-packages (from typer>=0.12.1->pyannote.database>=5.0.1->pyannote.audio) (1.5.4)\n",
      "Requirement already satisfied: ruamel.yaml>=0.17.28 in c:\\users\\iara0\\miniconda3\\envs\\pythonproject\\lib\\site-packages (from hyperpyyaml->speechbrain>=0.5.14->pyannote.audio) (0.18.6)\n",
      "Requirement already satisfied: MarkupSafe>=2.0 in c:\\users\\iara0\\miniconda3\\envs\\pythonproject\\lib\\site-packages (from jinja2->torch>=2.0.0->pyannote.audio) (2.1.3)\n",
      "Requirement already satisfied: charset-normalizer<4,>=2 in c:\\users\\iara0\\miniconda3\\envs\\pythonproject\\lib\\site-packages (from requests->huggingface-hub>=0.13.0->pyannote.audio) (2.0.4)\n",
      "Requirement already satisfied: idna<4,>=2.5 in c:\\users\\iara0\\miniconda3\\envs\\pythonproject\\lib\\site-packages (from requests->huggingface-hub>=0.13.0->pyannote.audio) (3.7)\n",
      "Requirement already satisfied: urllib3<3,>=1.21.1 in c:\\users\\iara0\\miniconda3\\envs\\pythonproject\\lib\\site-packages (from requests->huggingface-hub>=0.13.0->pyannote.audio) (2.2.1)\n",
      "Requirement already satisfied: certifi>=2017.4.17 in c:\\users\\iara0\\miniconda3\\envs\\pythonproject\\lib\\site-packages (from requests->huggingface-hub>=0.13.0->pyannote.audio) (2024.2.2)\n",
      "Requirement already satisfied: aiosignal>=1.1.2 in c:\\users\\iara0\\miniconda3\\envs\\pythonproject\\lib\\site-packages (from aiohttp!=4.0.0a0,!=4.0.0a1->fsspec[http]<2025.0,>=2022.5.0->lightning>=2.0.1->pyannote.audio) (1.3.1)\n",
      "Requirement already satisfied: attrs>=17.3.0 in c:\\users\\iara0\\miniconda3\\envs\\pythonproject\\lib\\site-packages (from aiohttp!=4.0.0a0,!=4.0.0a1->fsspec[http]<2025.0,>=2022.5.0->lightning>=2.0.1->pyannote.audio) (23.1.0)\n",
      "Requirement already satisfied: frozenlist>=1.1.1 in c:\\users\\iara0\\miniconda3\\envs\\pythonproject\\lib\\site-packages (from aiohttp!=4.0.0a0,!=4.0.0a1->fsspec[http]<2025.0,>=2022.5.0->lightning>=2.0.1->pyannote.audio) (1.4.1)\n",
      "Requirement already satisfied: multidict<7.0,>=4.5 in c:\\users\\iara0\\miniconda3\\envs\\pythonproject\\lib\\site-packages (from aiohttp!=4.0.0a0,!=4.0.0a1->fsspec[http]<2025.0,>=2022.5.0->lightning>=2.0.1->pyannote.audio) (6.0.5)\n",
      "Requirement already satisfied: yarl<2.0,>=1.0 in c:\\users\\iara0\\miniconda3\\envs\\pythonproject\\lib\\site-packages (from aiohttp!=4.0.0a0,!=4.0.0a1->fsspec[http]<2025.0,>=2022.5.0->lightning>=2.0.1->pyannote.audio) (1.9.4)\n",
      "Requirement already satisfied: Mako in c:\\users\\iara0\\miniconda3\\envs\\pythonproject\\lib\\site-packages (from alembic>=1.5.0->optuna>=3.1->pyannote.pipeline>=3.0.1->pyannote.audio) (1.3.5)\n",
      "Requirement already satisfied: llvmlite<0.43,>=0.42.0dev0 in c:\\users\\iara0\\miniconda3\\envs\\pythonproject\\lib\\site-packages (from numba>=0.51.0->librosa>=0.6.0->torch-audiomentations>=0.11.0->pyannote.audio) (0.42.0)\n",
      "Requirement already satisfied: platformdirs>=2.5.0 in c:\\users\\iara0\\miniconda3\\envs\\pythonproject\\lib\\site-packages (from pooch>=1.1->librosa>=0.6.0->torch-audiomentations>=0.11.0->pyannote.audio) (3.10.0)\n",
      "Requirement already satisfied: six>=1.5 in c:\\users\\iara0\\miniconda3\\envs\\pythonproject\\lib\\site-packages (from python-dateutil>=2.7->matplotlib>=2.0.0->pyannote.metrics>=3.2->pyannote.audio) (1.16.0)\n",
      "Requirement already satisfied: ruamel.yaml.clib>=0.2.7 in c:\\users\\iara0\\miniconda3\\envs\\pythonproject\\lib\\site-packages (from ruamel.yaml>=0.17.28->hyperpyyaml->speechbrain>=0.5.14->pyannote.audio) (0.2.8)\n",
      "Requirement already satisfied: greenlet!=0.4.17 in c:\\users\\iara0\\miniconda3\\envs\\pythonproject\\lib\\site-packages (from sqlalchemy>=1.3.0->optuna>=3.1->pyannote.pipeline>=3.0.1->pyannote.audio) (3.0.3)\n"
     ]
    }
   ],
   "execution_count": 2
  },
  {
   "cell_type": "code",
   "source": [
    "!pip install pydub \n",
    "# install pydub for audio segmentation"
   ],
   "metadata": {
    "execution": {
     "iopub.status.busy": "2024-05-14T17:06:58.837874Z",
     "iopub.execute_input": "2024-05-14T17:06:58.838859Z",
     "iopub.status.idle": "2024-05-14T17:07:13.574328Z",
     "shell.execute_reply.started": "2024-05-14T17:06:58.838819Z",
     "shell.execute_reply": "2024-05-14T17:07:13.573031Z"
    },
    "trusted": true,
    "colab": {
     "base_uri": "https://localhost:8080/"
    },
    "id": "bwmZkgE7UR7r",
    "outputId": "8d6b2f4f-c77b-4508-9701-9d49e251d66f",
    "ExecuteTime": {
     "end_time": "2024-05-21T12:46:18.126522Z",
     "start_time": "2024-05-21T12:46:13.960803Z"
    }
   },
   "outputs": [
    {
     "name": "stdout",
     "output_type": "stream",
     "text": [
      "Requirement already satisfied: pydub in c:\\users\\iara0\\miniconda3\\envs\\pythonproject\\lib\\site-packages (0.25.1)\n"
     ]
    }
   ],
   "execution_count": 3
  },
  {
   "cell_type": "code",
   "source": [
    "import torch\n",
    "import pyannote.audio # diarization model\n",
    "import os\n",
    "\n",
    "from pyannote.audio import Pipeline\n",
    "from IPython.display import Audio\n",
    "from pydub import AudioSegment"
   ],
   "metadata": {
    "execution": {
     "iopub.status.busy": "2024-05-14T17:13:35.754223Z",
     "iopub.execute_input": "2024-05-14T17:13:35.754697Z",
     "iopub.status.idle": "2024-05-14T17:13:35.774858Z",
     "shell.execute_reply.started": "2024-05-14T17:13:35.754641Z",
     "shell.execute_reply": "2024-05-14T17:13:35.774036Z"
    },
    "trusted": true,
    "id": "VLAgP8PhUR7s"
   },
   "outputs": [],
   "execution_count": null
  },
  {
   "cell_type": "code",
   "source": [
    "pipeline = Pipeline.from_pretrained(\n",
    "    \"pyannote/speaker-diarization-3.1\",\n",
    "    use_auth_token = \"Your HuggingFace Key\") # Get the key token through HuggingFace and use it after accepting the conditions."
   ],
   "metadata": {
    "execution": {
     "iopub.status.busy": "2024-05-14T17:13:41.277530Z",
     "iopub.execute_input": "2024-05-14T17:13:41.278275Z",
     "iopub.status.idle": "2024-05-14T17:13:42.696368Z",
     "shell.execute_reply.started": "2024-05-14T17:13:41.278235Z",
     "shell.execute_reply": "2024-05-14T17:13:42.695458Z"
    },
    "trusted": true,
    "id": "5Istjqi-UR7s"
   },
   "outputs": [],
   "execution_count": null
  },
  {
   "cell_type": "code",
   "source": "diarization = pipeline(\"/kaggle/input/conversation/overlap_speech.wav\") # ,num_speakers = x number) of speakers can be added",
   "metadata": {
    "execution": {
     "iopub.status.busy": "2024-05-08T13:27:15.423806Z",
     "iopub.execute_input": "2024-05-08T13:27:15.424430Z",
     "iopub.status.idle": "2024-05-08T13:28:39.676949Z",
     "shell.execute_reply.started": "2024-05-08T13:27:15.424401Z",
     "shell.execute_reply": "2024-05-08T13:28:39.675965Z"
    },
    "trusted": true,
    "id": "fhDOJMOeUR7t"
   },
   "outputs": [],
   "execution_count": null
  },
  {
   "cell_type": "code",
   "source": [
    "with open(\"/kaggle/working/overlap.rttm\", \"w\") as rttm: # write down the timestamps and the speakers' labels\n",
    "    diarization.write_rttm(rttm)"
   ],
   "metadata": {
    "execution": {
     "iopub.status.busy": "2024-05-08T13:28:39.678237Z",
     "iopub.execute_input": "2024-05-08T13:28:39.678531Z",
     "iopub.status.idle": "2024-05-08T13:28:39.683784Z",
     "shell.execute_reply.started": "2024-05-08T13:28:39.678507Z",
     "shell.execute_reply": "2024-05-08T13:28:39.682900Z"
    },
    "trusted": true,
    "id": "ECuPzUKkUR7t"
   },
   "outputs": [],
   "execution_count": null
  },
  {
   "cell_type": "code",
   "source": [
    "timestamps = []\n",
    "for turn, _, speaker in diarization.itertracks(yield_label=True):  # extract timestamps and speaker labels from the diarization result\n",
    "    start_ms = int(turn.start * 1000)  # convert seconds to milliseconds\n",
    "    end_ms = int(turn.end * 1000)\n",
    "    speaker_label = f\"speaker_{speaker}\"\n",
    "    timestamps.append((start_ms, end_ms, speaker_label))\n",
    "for turn, _, speaker in diarization.itertracks(yield_label=True):\n",
    "    print(f\"start={turn.start:.1f}s stop={turn.end:.1f}s speaker_{speaker}\")"
   ],
   "metadata": {
    "execution": {
     "iopub.status.busy": "2024-05-08T16:22:24.085280Z",
     "iopub.execute_input": "2024-05-08T16:22:24.086158Z",
     "iopub.status.idle": "2024-05-08T16:22:24.121300Z",
     "shell.execute_reply.started": "2024-05-08T16:22:24.086126Z",
     "shell.execute_reply": "2024-05-08T16:22:24.119855Z"
    },
    "trusted": true,
    "id": "O19ss63dUR7t"
   },
   "outputs": [],
   "execution_count": null
  },
  {
   "cell_type": "code",
   "source": [
    "audio = AudioSegment.from_file(\"/kaggle/input/conversation/overlap_speech.wav\") #  audio to be segmented\n",
    "output_directory = \"/kaggle/working/\""
   ],
   "metadata": {
    "execution": {
     "iopub.status.busy": "2024-05-08T13:28:53.063342Z",
     "iopub.execute_input": "2024-05-08T13:28:53.063575Z",
     "iopub.status.idle": "2024-05-08T13:28:53.078943Z",
     "shell.execute_reply.started": "2024-05-08T13:28:53.063554Z",
     "shell.execute_reply": "2024-05-08T13:28:53.078176Z"
    },
    "trusted": true,
    "id": "mW1tg1A7UR7t"
   },
   "outputs": [],
   "execution_count": null
  },
  {
   "cell_type": "code",
   "source": [
    "for start_ms, end_ms, speaker_label in timestamps:\n",
    "    segment = audio[start_ms:end_ms]  # extract the segment\n",
    "    file_path = os.path.join(output_directory, f\"{speaker_label}_{start_ms}_{end_ms}.wav\")  # file path, including the output directory\n",
    "    segment.export(file_path, format=\"wav\")"
   ],
   "metadata": {
    "execution": {
     "iopub.status.busy": "2024-05-08T13:28:53.086207Z",
     "iopub.execute_input": "2024-05-08T13:28:53.086556Z",
     "iopub.status.idle": "2024-05-08T13:28:53.109019Z",
     "shell.execute_reply.started": "2024-05-08T13:28:53.086509Z",
     "shell.execute_reply": "2024-05-08T13:28:53.108307Z"
    },
    "trusted": true,
    "id": "tEMgiLtRUR7u"
   },
   "outputs": [],
   "execution_count": null
  },
  {
   "cell_type": "code",
   "source": [
    "# check the results of the audio segmentation\n",
    "audio_file_path = '/kaggle/working/speaker_SPEAKER_00_5802_8434.wav' # example of overlapping\n",
    "print(Audio(audio_file_path))\n",
    "audio_file_path = '/kaggle/working/speaker_SPEAKER_01_2579_6983.wav' # example of overlapping\n",
    "print(Audio(audio_file_path))"
   ],
   "metadata": {
    "id": "iauDCC24UR7u"
   },
   "outputs": [],
   "execution_count": null
  },
  {
   "cell_type": "markdown",
   "source": [
    "# STT"
   ],
   "metadata": {
    "id": "jV3KjKIRUR7u"
   }
  },
  {
   "cell_type": "code",
   "source": [
    "!pip install openai-whisper # install whisper for STT"
   ],
   "metadata": {
    "execution": {
     "iopub.status.busy": "2024-05-08T13:28:53.110293Z",
     "iopub.execute_input": "2024-05-08T13:28:53.110953Z",
     "iopub.status.idle": "2024-05-08T13:29:22.170340Z",
     "shell.execute_reply.started": "2024-05-08T13:28:53.110920Z",
     "shell.execute_reply": "2024-05-08T13:29:22.169391Z"
    },
    "trusted": true,
    "id": "QhhF2nW_UR7u"
   },
   "outputs": [],
   "execution_count": null
  },
  {
   "cell_type": "code",
   "source": [
    "import whisper\n",
    "\n",
    "from pydub import AudioSegment\n",
    "from pathlib import Path"
   ],
   "metadata": {
    "id": "Xm7ckMinUR7u"
   },
   "outputs": [],
   "execution_count": null
  },
  {
   "cell_type": "code",
   "source": [
    "def milliseconds_until_sound(sound, silence_threshold_in_decibels=-20.0, chunk_size=10):\n",
    "    \"\"\"Calculate milliseconds until first sound exceeding the silence threshold.\"\"\"\n",
    "    trim_ms = 0  # ms\n",
    "    assert chunk_size > 0  # to avoid infinite loop\n",
    "    while sound[trim_ms:trim_ms+chunk_size].dBFS < silence_threshold_in_decibels and trim_ms < len(sound):\n",
    "        trim_ms += chunk_size\n",
    "    return trim_ms\n",
    "\n",
    "def trim_start(filepath, output_directory):\n",
    "    \"\"\"Trim leading silence from the audio file and save as a new file in a specified directory.\"\"\"\n",
    "    path = Path(filepath)\n",
    "    filename = path.stem + \"_trimmed.wav\"  # new filename indicating the file has been trimmed\n",
    "    audio = AudioSegment.from_file(filepath, format=\"wav\")\n",
    "\n",
    "    # Get milliseconds until first non-silent sound\n",
    "    start_trim = milliseconds_until_sound(audio)\n",
    "    trimmed_audio = audio[start_trim:]\n",
    "\n",
    "\n",
    "    new_filepath = output_directory / filename  # save the trimmed audio to a new file in the specified output directory\n",
    "    trimmed_audio.export(new_filepath, format=\"wav\")\n",
    "    return trimmed_audio, new_filepath\n",
    "\n",
    "\n",
    "directory_path = Path('/kaggle/working/')\n",
    "output_directory = directory_path / 'trimmed_audios'  # subfolder for trimmed audios\n",
    "\n",
    "\n",
    "output_directory.mkdir(exist_ok=True) # create the output directory if it doesn't exist\n",
    "\n",
    "\n",
    "for audio_file in directory_path.glob(\"*.wav\"):      # process each .wav file and save the trimmed versions to the new directory\n",
    "    trimmed_audio, new_file_path = trim_start(audio_file, output_directory)\n",
    "    print(f\"Processed and saved trimmed audio: {new_file_path}\")"
   ],
   "metadata": {
    "execution": {
     "iopub.status.busy": "2024-05-08T13:29:22.770588Z",
     "iopub.execute_input": "2024-05-08T13:29:22.770885Z",
     "iopub.status.idle": "2024-05-08T13:29:22.809044Z",
     "shell.execute_reply.started": "2024-05-08T13:29:22.770858Z",
     "shell.execute_reply": "2024-05-08T13:29:22.808126Z"
    },
    "trusted": true,
    "id": "MsiHxWSAUR7v"
   },
   "outputs": [],
   "execution_count": null
  },
  {
   "cell_type": "code",
   "source": [
    "model = whisper.load_model(\"base\")  # load whisper model"
   ],
   "metadata": {
    "execution": {
     "iopub.status.busy": "2024-05-08T13:29:22.810194Z",
     "iopub.execute_input": "2024-05-08T13:29:22.810481Z",
     "iopub.status.idle": "2024-05-08T13:29:25.293696Z",
     "shell.execute_reply.started": "2024-05-08T13:29:22.810455Z",
     "shell.execute_reply": "2024-05-08T13:29:25.292875Z"
    },
    "trusted": true,
    "id": "FSkYgGp5UR7v"
   },
   "outputs": [],
   "execution_count": null
  },
  {
   "cell_type": "code",
   "source": [
    "def transcribe_directory(directory_path, model):\n",
    "    \"\"\"Transcribe audio files in a directory using a whisper model. This function not only is used to transcribe the audio but also uses the trimmed audios.\"\"\"\n",
    "\n",
    "    results = {}  # dictionary to hold transcription results\n",
    "\n",
    "\n",
    "    directory = Path(directory_path)  # ensure directory_path is a Path object for consistency in path operations\n",
    "\n",
    "    # process each audio file in the directory\n",
    "    for filename in directory.glob(\"*.wav\"):  # using glob to filter only wav files\n",
    "        if filename.stem.endswith(\"_trimmed\"):  # Process only trimmed files\n",
    "            audio = whisper.load_audio(str(filename))  # Load audio file\n",
    "            audio = whisper.pad_or_trim(audio)  # Pad/trim audio to a max duration\n",
    "\n",
    "\n",
    "            mel = whisper.log_mel_spectrogram(audio).to(model.device) # convert audio to log-Mel spectrogram\n",
    "\n",
    "\n",
    "            _, probs = model.detect_language(mel) # detect the spoken language\n",
    "            detected_language = max(probs, key=probs.get)\n",
    "\n",
    "\n",
    "            options = whisper.DecodingOptions()   # decode the audio to text\n",
    "            result = model.decode(mel, options=options)\n",
    "\n",
    "\n",
    "            results[filename.name] = {         # store results\n",
    "                'text': result.text,\n",
    "                'language': detected_language\n",
    "            }\n",
    "\n",
    "    return results\n",
    "\n",
    "directory_path = '/kaggle/working/trimmed_audios'\n",
    "\n",
    "\n",
    "transcription_results = transcribe_directory(directory_path, model)\n",
    "\n",
    "for filename, data in transcription_results.items():\n",
    "    print(f\"Filename: {filename}, Transcription: {data['text']}, Language: {data['language']}\")"
   ],
   "metadata": {
    "execution": {
     "iopub.status.busy": "2024-05-08T13:29:25.294873Z",
     "iopub.execute_input": "2024-05-08T13:29:25.295165Z",
     "iopub.status.idle": "2024-05-08T13:29:33.959243Z",
     "shell.execute_reply.started": "2024-05-08T13:29:25.295126Z",
     "shell.execute_reply": "2024-05-08T13:29:33.958074Z"
    },
    "trusted": true,
    "id": "FWM5nqH_UR7v"
   },
   "outputs": [],
   "execution_count": null
  },
  {
   "cell_type": "code",
   "source": [
    "def transcribe_directory_raw(directory_path, model):\n",
    "    \"\"\"Transcribe audio files in a directory using a whisper model. This function doesn't use the trimmed audios\"\"\"\n",
    "\n",
    "    results = {}  # dictionary to hold transcription results\n",
    "\n",
    "\n",
    "    directory = Path(directory_path)   # ensure directory_path is treated as a Path object for consistency in path operations\n",
    "\n",
    "    # process each audio file in the directory\n",
    "    for audio_file in directory.glob(\"*.wav\"):  # Using glob to filter only .wav files\n",
    "        audio = whisper.load_audio(str(audio_file))  # Load audio file\n",
    "        audio = whisper.pad_or_trim(audio)  # Pad/trim audio to a max duration\n",
    "\n",
    "\n",
    "        mel = whisper.log_mel_spectrogram(audio).to(model.device)  # convert audio to log-Mel spectrogram\n",
    "\n",
    "\n",
    "        _, probs = model.detect_language(mel)  # detect the spoken language\n",
    "        detected_language = max(probs, key=lambda x: x[1])  # assuming probs is a list of tuples\n",
    "\n",
    "\n",
    "        options = whisper.DecodingOptions() # decode the audio to text\n",
    "        result = model.decode(mel, options=options)\n",
    "\n",
    "\n",
    "        results[audio_file.name] = {         # store results\n",
    "            'text': result.text,\n",
    "            'language': detected_language\n",
    "        }\n",
    "\n",
    "    return results\n",
    "\n",
    "\n",
    "\n",
    "directory_path = '/kaggle/working/'\n",
    "\n",
    "\n",
    "transcription_results_raw = transcribe_directory_raw(directory_path, model)\n",
    "\n",
    "\n",
    "for filename, data in transcription_results_raw.items():\n",
    "    print(f\"Filename: {filename}, Transcription: {data['text']}, Language: {data['language']}\")\n"
   ],
   "metadata": {
    "execution": {
     "iopub.status.busy": "2024-05-08T13:29:33.960553Z",
     "iopub.execute_input": "2024-05-08T13:29:33.960914Z",
     "iopub.status.idle": "2024-05-08T13:29:40.962768Z",
     "shell.execute_reply.started": "2024-05-08T13:29:33.960884Z",
     "shell.execute_reply": "2024-05-08T13:29:40.961822Z"
    },
    "trusted": true,
    "id": "j2JbQTYYUR7v"
   },
   "outputs": [],
   "execution_count": null
  },
  {
   "cell_type": "code",
   "source": [
    "#device = torch.device(\"cuda\" if torch.cuda.is_available() else \"cpu\")\n",
    "#print(\"Using device:\", device)"
   ],
   "metadata": {
    "execution": {
     "iopub.status.busy": "2024-05-08T13:29:40.964085Z",
     "iopub.execute_input": "2024-05-08T13:29:40.964497Z",
     "iopub.status.idle": "2024-05-08T13:29:40.968747Z",
     "shell.execute_reply.started": "2024-05-08T13:29:40.964461Z",
     "shell.execute_reply": "2024-05-08T13:29:40.967808Z"
    },
    "trusted": true,
    "id": "73M8nZ41UR7w"
   },
   "outputs": [],
   "execution_count": null
  },
  {
   "cell_type": "markdown",
   "source": [
    "# METRICS - Comparisons"
   ],
   "metadata": {
    "id": "3-yei1L1UR7w"
   }
  },
  {
   "cell_type": "markdown",
   "source": "This is an attempt to use the STT model's transcriptions to have an idea of the overall performance of the diarization just with text. However, when the phenomena is more complex like overlaping, this method of comparison is not reliable. To tackle this issue, timestamps annotation should be done or a manual check.",
   "metadata": {
    "id": "9Td1JLi2UR7w"
   }
  },
  {
   "cell_type": "code",
   "source": [
    "!pip install pandas"
   ],
   "metadata": {
    "execution": {
     "iopub.status.busy": "2024-05-08T13:29:40.969888Z",
     "iopub.execute_input": "2024-05-08T13:29:40.970238Z",
     "iopub.status.idle": "2024-05-08T13:29:54.343030Z",
     "shell.execute_reply.started": "2024-05-08T13:29:40.970206Z",
     "shell.execute_reply": "2024-05-08T13:29:54.341838Z"
    },
    "trusted": true,
    "id": "SjvwcsegUR7w"
   },
   "outputs": [],
   "execution_count": null
  },
  {
   "cell_type": "code",
   "source": [
    "!pip install fuzzywuzzy python-Levenshtein # string matching"
   ],
   "metadata": {
    "id": "ifDxQ0KgUR7x"
   },
   "outputs": [],
   "execution_count": null
  },
  {
   "cell_type": "code",
   "source": [
    "import pandas as pd\n",
    "import re\n",
    "\n",
    "from fuzzywuzzy import process"
   ],
   "metadata": {
    "execution": {
     "iopub.status.busy": "2024-05-08T13:29:54.344600Z",
     "iopub.execute_input": "2024-05-08T13:29:54.344915Z",
     "iopub.status.idle": "2024-05-08T13:29:54.349709Z",
     "shell.execute_reply.started": "2024-05-08T13:29:54.344886Z",
     "shell.execute_reply": "2024-05-08T13:29:54.348799Z"
    },
    "trusted": true,
    "id": "6YQtCvamUR7x"
   },
   "outputs": [],
   "execution_count": null
  },
  {
   "cell_type": "code",
   "source": [
    "# Replace 'path_to_your_csv_file.csv' with the path to your CSV file\n",
    "csv_file_path = '/kaggle/input/conversation/overlap_speech.csv'\n",
    "\n",
    "# Load the CSV data into a DataFrame\n",
    "df = pd.read_csv(csv_file_path)"
   ],
   "metadata": {
    "execution": {
     "iopub.status.busy": "2024-05-08T13:29:54.350965Z",
     "iopub.execute_input": "2024-05-08T13:29:54.351241Z",
     "iopub.status.idle": "2024-05-08T13:29:54.378728Z",
     "shell.execute_reply.started": "2024-05-08T13:29:54.351217Z",
     "shell.execute_reply": "2024-05-08T13:29:54.377955Z"
    },
    "trusted": true,
    "id": "2OmMvJ6DUR7x"
   },
   "outputs": [],
   "execution_count": null
  },
  {
   "cell_type": "code",
   "source": [
    "df.head(15)"
   ],
   "metadata": {
    "execution": {
     "iopub.status.busy": "2024-05-08T13:29:54.380003Z",
     "iopub.execute_input": "2024-05-08T13:29:54.380305Z",
     "iopub.status.idle": "2024-05-08T13:29:54.404777Z",
     "shell.execute_reply.started": "2024-05-08T13:29:54.380280Z",
     "shell.execute_reply": "2024-05-08T13:29:54.403947Z"
    },
    "trusted": true,
    "id": "ho5jlG5SUR7x"
   },
   "outputs": [],
   "execution_count": null
  },
  {
   "cell_type": "code",
   "source": [
    "print(transcription_results)"
   ],
   "metadata": {
    "execution": {
     "iopub.status.busy": "2024-05-08T13:30:10.384404Z",
     "iopub.execute_input": "2024-05-08T13:30:10.384730Z",
     "iopub.status.idle": "2024-05-08T13:30:10.390177Z",
     "shell.execute_reply.started": "2024-05-08T13:30:10.384698Z",
     "shell.execute_reply": "2024-05-08T13:30:10.389308Z"
    },
    "trusted": true,
    "id": "X58_0Rr-UR7x"
   },
   "outputs": [],
   "execution_count": null
  },
  {
   "cell_type": "code",
   "source": [
    "df_transcriptions.head()"
   ],
   "metadata": {
    "execution": {
     "iopub.status.busy": "2024-05-08T13:30:10.416996Z",
     "iopub.execute_input": "2024-05-08T13:30:10.417894Z",
     "iopub.status.idle": "2024-05-08T13:30:10.430811Z",
     "shell.execute_reply.started": "2024-05-08T13:30:10.417858Z",
     "shell.execute_reply": "2024-05-08T13:30:10.429889Z"
    },
    "trusted": true,
    "id": "0gYdUXM6UR7x"
   },
   "outputs": [],
   "execution_count": null
  },
  {
   "cell_type": "code",
   "source": [
    "df_transcriptions['speaker'] = df_transcriptions['filename'].apply(lambda x: re.search(r'(SPEAKER_\\d+)', x).group(1) if re.search(r'(SPEAKER_\\d+)', x) else 'Unknown')"
   ],
   "metadata": {
    "execution": {
     "iopub.status.busy": "2024-05-08T13:30:10.438776Z",
     "iopub.execute_input": "2024-05-08T13:30:10.439075Z",
     "iopub.status.idle": "2024-05-08T13:30:10.446698Z",
     "shell.execute_reply.started": "2024-05-08T13:30:10.439050Z",
     "shell.execute_reply": "2024-05-08T13:30:10.445830Z"
    },
    "trusted": true,
    "id": "C_sVx9t5UR7x"
   },
   "outputs": [],
   "execution_count": null
  },
  {
   "cell_type": "code",
   "source": [
    "df_transcriptions.head()"
   ],
   "metadata": {
    "execution": {
     "iopub.status.busy": "2024-05-08T13:30:10.447777Z",
     "iopub.execute_input": "2024-05-08T13:30:10.448082Z",
     "iopub.status.idle": "2024-05-08T13:30:10.460731Z",
     "shell.execute_reply.started": "2024-05-08T13:30:10.448058Z",
     "shell.execute_reply": "2024-05-08T13:30:10.459672Z"
    },
    "trusted": true,
    "id": "7rf5y4JsUR7y"
   },
   "outputs": [],
   "execution_count": null
  },
  {
   "cell_type": "code",
   "source": [
    "df_transcriptions.rename(columns={'transcription': 'text'}, inplace=True)"
   ],
   "metadata": {
    "execution": {
     "iopub.status.busy": "2024-05-08T13:30:10.462049Z",
     "iopub.execute_input": "2024-05-08T13:30:10.462648Z",
     "iopub.status.idle": "2024-05-08T13:30:10.468030Z",
     "shell.execute_reply.started": "2024-05-08T13:30:10.462618Z",
     "shell.execute_reply": "2024-05-08T13:30:10.467273Z"
    },
    "trusted": true,
    "id": "alszqhhbUR7y"
   },
   "outputs": [],
   "execution_count": null
  },
  {
   "cell_type": "code",
   "source": [
    "# Normalize column names to lowercase\n",
    "df_transcriptions.columns = df_transcriptions.columns.str.lower()\n",
    "df.columns = df.columns.str.lower()\n",
    "\n",
    "# Function to find best text match and check speaker consistency\n",
    "def find_best_match_and_speaker_consistency(df_pred, df_gt):\n",
    "    results = []\n",
    "\n",
    "    for index, pred_row in df_pred.iterrows():\n",
    "        predicted_text = pred_row['text']\n",
    "        predicted_speaker = pred_row['speaker']\n",
    "\n",
    "        # Find the best matching ground truth text using fuzzy matching\n",
    "        best_match = process.extractOne(predicted_text, df_gt['text'], score_cutoff=80)\n",
    "\n",
    "        if best_match:\n",
    "            best_text, score = best_match[0], best_match[1]\n",
    "            # Retrieve the corresponding speaker for the matched ground truth text\n",
    "            gt_row = df_gt[df_gt['text'] == best_text].iloc[0]\n",
    "            ground_truth_speaker = gt_row['speaker']\n",
    "\n",
    "            # Check if the speakers match\n",
    "            speaker_match = predicted_speaker == ground_truth_speaker\n",
    "            results.append({\n",
    "                'filename': pred_row['filename'],\n",
    "                'predicted text': predicted_text,\n",
    "                'ground truth text': best_text,\n",
    "                'predicted speaker': predicted_speaker,\n",
    "                'ground truth speaker': ground_truth_speaker,\n",
    "                'speaker match': speaker_match,\n",
    "                'match score': score,\n",
    "                'language': pred_row['language']\n",
    "            })\n",
    "        else:\n",
    "            results.append({\n",
    "                'filename': pred_row['filename'],\n",
    "                'predicted text': predicted_text,\n",
    "                'ground truth text': None,\n",
    "                'predicted speaker': predicted_speaker,\n",
    "                'ground truth speaker': None,\n",
    "                'speaker match': False,\n",
    "                'match score': None,\n",
    "                'language': pred_row['language']\n",
    "            })\n",
    "\n",
    "    return pd.DataFrame(results)\n",
    "\n",
    "# Use the function to compare predictions against ground truth\n",
    "comparison_results = find_best_match_and_speaker_consistency(df_transcriptions, df)\n",
    "print(comparison_results)"
   ],
   "metadata": {
    "execution": {
     "iopub.status.busy": "2024-05-08T13:30:10.503327Z",
     "iopub.execute_input": "2024-05-08T13:30:10.503616Z",
     "iopub.status.idle": "2024-05-08T13:30:10.625023Z",
     "shell.execute_reply.started": "2024-05-08T13:30:10.503593Z",
     "shell.execute_reply": "2024-05-08T13:30:10.623827Z"
    },
    "trusted": true,
    "id": "xg-bo9zoUR7y"
   },
   "outputs": [],
   "execution_count": null
  },
  {
   "cell_type": "code",
   "source": [
    "comparison_results.head(25)"
   ],
   "metadata": {
    "execution": {
     "iopub.status.busy": "2024-05-08T13:30:10.626405Z",
     "iopub.execute_input": "2024-05-08T13:30:10.626707Z",
     "iopub.status.idle": "2024-05-08T13:30:10.652358Z",
     "shell.execute_reply.started": "2024-05-08T13:30:10.626680Z",
     "shell.execute_reply": "2024-05-08T13:30:10.651402Z"
    },
    "trusted": true,
    "id": "rTFkaQxuUR7y"
   },
   "outputs": [],
   "execution_count": null
  },
  {
   "cell_type": "markdown",
   "source": [
    "# Diart (good to build real-time audio applications)"
   ],
   "metadata": {
    "id": "QakSLcx1UR7y"
   }
  },
  {
   "metadata": {},
   "cell_type": "markdown",
   "source": [
    "Follow the code from https://github.com/juanmc2005/diart ,this specific part is in \"Build pipelines\".\n",
    "\n",
    "The requirements for this part of the code is in requirements.txt"
   ]
  },
  {
   "cell_type": "code",
   "source": [
    "! pip install diart \n",
    "#install o diart9"
   ],
   "metadata": {
    "execution": {
     "iopub.status.busy": "2024-05-16T14:18:57.109572Z",
     "iopub.execute_input": "2024-05-16T14:18:57.109931Z",
     "iopub.status.idle": "2024-05-16T14:21:29.136170Z",
     "shell.execute_reply.started": "2024-05-16T14:18:57.109900Z",
     "shell.execute_reply": "2024-05-16T14:21:29.134904Z"
    },
    "trusted": true,
    "colab": {
     "base_uri": "https://localhost:8080/"
    },
    "id": "J0E3KZ2dUR7z",
    "outputId": "cd1d9c20-b411-48ce-e7bb-a841cce10057",
    "ExecuteTime": {
     "end_time": "2024-05-21T12:47:16.496448Z",
     "start_time": "2024-05-21T12:47:10.325140Z"
    }
   },
   "outputs": [
    {
     "name": "stdout",
     "output_type": "stream",
     "text": [
      "Requirement already satisfied: diart in c:\\users\\iara0\\miniconda3\\envs\\pythonproject\\lib\\site-packages (0.9.0)\n",
      "Requirement already satisfied: numpy>=1.20.2 in c:\\users\\iara0\\miniconda3\\envs\\pythonproject\\lib\\site-packages (from diart) (1.26.4)\n",
      "Requirement already satisfied: matplotlib>=3.3.3 in c:\\users\\iara0\\miniconda3\\envs\\pythonproject\\lib\\site-packages (from diart) (3.8.4)\n",
      "Requirement already satisfied: rx>=3.2.0 in c:\\users\\iara0\\miniconda3\\envs\\pythonproject\\lib\\site-packages (from diart) (3.2.0)\n",
      "Requirement already satisfied: scipy>=1.6.0 in c:\\users\\iara0\\miniconda3\\envs\\pythonproject\\lib\\site-packages (from diart) (1.13.0)\n",
      "Requirement already satisfied: sounddevice>=0.4.2 in c:\\users\\iara0\\miniconda3\\envs\\pythonproject\\lib\\site-packages (from diart) (0.4.6)\n",
      "Requirement already satisfied: einops>=0.3.0 in c:\\users\\iara0\\miniconda3\\envs\\pythonproject\\lib\\site-packages (from diart) (0.8.0)\n",
      "Requirement already satisfied: tqdm>=4.64.0 in c:\\users\\iara0\\miniconda3\\envs\\pythonproject\\lib\\site-packages (from diart) (4.66.4)\n",
      "Requirement already satisfied: pandas>=1.4.2 in c:\\users\\iara0\\miniconda3\\envs\\pythonproject\\lib\\site-packages (from diart) (2.2.2)\n",
      "Requirement already satisfied: torch>=1.12.1 in c:\\users\\iara0\\miniconda3\\envs\\pythonproject\\lib\\site-packages (from diart) (2.3.0)\n",
      "Requirement already satisfied: torchvision>=0.14.0 in c:\\users\\iara0\\miniconda3\\envs\\pythonproject\\lib\\site-packages (from diart) (0.18.0)\n",
      "Requirement already satisfied: torchaudio>=2.0.2 in c:\\users\\iara0\\miniconda3\\envs\\pythonproject\\lib\\site-packages (from diart) (2.3.0)\n",
      "Requirement already satisfied: pyannote.audio>=2.1.1 in c:\\users\\iara0\\miniconda3\\envs\\pythonproject\\lib\\site-packages (from diart) (3.2.0)\n",
      "Requirement already satisfied: requests>=2.31.0 in c:\\users\\iara0\\miniconda3\\envs\\pythonproject\\lib\\site-packages (from diart) (2.31.0)\n",
      "Requirement already satisfied: pyannote.core>=4.5 in c:\\users\\iara0\\miniconda3\\envs\\pythonproject\\lib\\site-packages (from diart) (5.0.0)\n",
      "Requirement already satisfied: pyannote.database>=4.1.1 in c:\\users\\iara0\\miniconda3\\envs\\pythonproject\\lib\\site-packages (from diart) (5.1.0)\n",
      "Requirement already satisfied: pyannote.metrics>=3.2 in c:\\users\\iara0\\miniconda3\\envs\\pythonproject\\lib\\site-packages (from diart) (3.2.1)\n",
      "Requirement already satisfied: optuna>=2.10 in c:\\users\\iara0\\miniconda3\\envs\\pythonproject\\lib\\site-packages (from diart) (3.6.1)\n",
      "Requirement already satisfied: websocket-server>=0.6.4 in c:\\users\\iara0\\miniconda3\\envs\\pythonproject\\lib\\site-packages (from diart) (0.6.4)\n",
      "Requirement already satisfied: websocket-client>=0.58.0 in c:\\users\\iara0\\miniconda3\\envs\\pythonproject\\lib\\site-packages (from diart) (1.8.0)\n",
      "Requirement already satisfied: rich>=12.5.1 in c:\\users\\iara0\\miniconda3\\envs\\pythonproject\\lib\\site-packages (from diart) (13.7.1)\n",
      "Requirement already satisfied: contourpy>=1.0.1 in c:\\users\\iara0\\miniconda3\\envs\\pythonproject\\lib\\site-packages (from matplotlib>=3.3.3->diart) (1.2.0)\n",
      "Requirement already satisfied: cycler>=0.10 in c:\\users\\iara0\\miniconda3\\envs\\pythonproject\\lib\\site-packages (from matplotlib>=3.3.3->diart) (0.11.0)\n",
      "Requirement already satisfied: fonttools>=4.22.0 in c:\\users\\iara0\\miniconda3\\envs\\pythonproject\\lib\\site-packages (from matplotlib>=3.3.3->diart) (4.51.0)\n",
      "Requirement already satisfied: kiwisolver>=1.3.1 in c:\\users\\iara0\\miniconda3\\envs\\pythonproject\\lib\\site-packages (from matplotlib>=3.3.3->diart) (1.4.4)\n",
      "Requirement already satisfied: packaging>=20.0 in c:\\users\\iara0\\miniconda3\\envs\\pythonproject\\lib\\site-packages (from matplotlib>=3.3.3->diart) (23.2)\n",
      "Requirement already satisfied: pillow>=8 in c:\\users\\iara0\\miniconda3\\envs\\pythonproject\\lib\\site-packages (from matplotlib>=3.3.3->diart) (10.3.0)\n",
      "Requirement already satisfied: pyparsing>=2.3.1 in c:\\users\\iara0\\miniconda3\\envs\\pythonproject\\lib\\site-packages (from matplotlib>=3.3.3->diart) (3.0.9)\n",
      "Requirement already satisfied: python-dateutil>=2.7 in c:\\users\\iara0\\miniconda3\\envs\\pythonproject\\lib\\site-packages (from matplotlib>=3.3.3->diart) (2.8.2)\n",
      "Requirement already satisfied: alembic>=1.5.0 in c:\\users\\iara0\\miniconda3\\envs\\pythonproject\\lib\\site-packages (from optuna>=2.10->diart) (1.13.1)\n",
      "Requirement already satisfied: colorlog in c:\\users\\iara0\\miniconda3\\envs\\pythonproject\\lib\\site-packages (from optuna>=2.10->diart) (6.8.2)\n",
      "Requirement already satisfied: sqlalchemy>=1.3.0 in c:\\users\\iara0\\miniconda3\\envs\\pythonproject\\lib\\site-packages (from optuna>=2.10->diart) (2.0.30)\n",
      "Requirement already satisfied: PyYAML in c:\\users\\iara0\\miniconda3\\envs\\pythonproject\\lib\\site-packages (from optuna>=2.10->diart) (6.0.1)\n",
      "Requirement already satisfied: pytz>=2020.1 in c:\\users\\iara0\\miniconda3\\envs\\pythonproject\\lib\\site-packages (from pandas>=1.4.2->diart) (2024.1)\n",
      "Requirement already satisfied: tzdata>=2022.7 in c:\\users\\iara0\\miniconda3\\envs\\pythonproject\\lib\\site-packages (from pandas>=1.4.2->diart) (2024.1)\n",
      "Requirement already satisfied: asteroid-filterbanks>=0.4 in c:\\users\\iara0\\miniconda3\\envs\\pythonproject\\lib\\site-packages (from pyannote.audio>=2.1.1->diart) (0.4.0)\n",
      "Requirement already satisfied: huggingface-hub>=0.13.0 in c:\\users\\iara0\\miniconda3\\envs\\pythonproject\\lib\\site-packages (from pyannote.audio>=2.1.1->diart) (0.23.0)\n",
      "Requirement already satisfied: lightning>=2.0.1 in c:\\users\\iara0\\miniconda3\\envs\\pythonproject\\lib\\site-packages (from pyannote.audio>=2.1.1->diart) (2.2.4)\n",
      "Requirement already satisfied: omegaconf<3.0,>=2.1 in c:\\users\\iara0\\miniconda3\\envs\\pythonproject\\lib\\site-packages (from pyannote.audio>=2.1.1->diart) (2.3.0)\n",
      "Requirement already satisfied: pyannote.pipeline>=3.0.1 in c:\\users\\iara0\\miniconda3\\envs\\pythonproject\\lib\\site-packages (from pyannote.audio>=2.1.1->diart) (3.0.1)\n",
      "Requirement already satisfied: pytorch-metric-learning>=2.1.0 in c:\\users\\iara0\\miniconda3\\envs\\pythonproject\\lib\\site-packages (from pyannote.audio>=2.1.1->diart) (2.5.0)\n",
      "Requirement already satisfied: semver>=3.0.0 in c:\\users\\iara0\\miniconda3\\envs\\pythonproject\\lib\\site-packages (from pyannote.audio>=2.1.1->diart) (3.0.2)\n",
      "Requirement already satisfied: soundfile>=0.12.1 in c:\\users\\iara0\\miniconda3\\envs\\pythonproject\\lib\\site-packages (from pyannote.audio>=2.1.1->diart) (0.12.1)\n",
      "Requirement already satisfied: speechbrain>=0.5.14 in c:\\users\\iara0\\miniconda3\\envs\\pythonproject\\lib\\site-packages (from pyannote.audio>=2.1.1->diart) (1.0.0)\n",
      "Requirement already satisfied: tensorboardX>=2.6 in c:\\users\\iara0\\miniconda3\\envs\\pythonproject\\lib\\site-packages (from pyannote.audio>=2.1.1->diart) (2.6.2.2)\n",
      "Requirement already satisfied: torch-audiomentations>=0.11.0 in c:\\users\\iara0\\miniconda3\\envs\\pythonproject\\lib\\site-packages (from pyannote.audio>=2.1.1->diart) (0.11.1)\n",
      "Requirement already satisfied: torchmetrics>=0.11.0 in c:\\users\\iara0\\miniconda3\\envs\\pythonproject\\lib\\site-packages (from pyannote.audio>=2.1.1->diart) (1.4.0.post0)\n",
      "Requirement already satisfied: sortedcontainers>=2.0.4 in c:\\users\\iara0\\miniconda3\\envs\\pythonproject\\lib\\site-packages (from pyannote.core>=4.5->diart) (2.4.0)\n",
      "Requirement already satisfied: typing-extensions>=3.7.4.1 in c:\\users\\iara0\\miniconda3\\envs\\pythonproject\\lib\\site-packages (from pyannote.core>=4.5->diart) (4.11.0)\n",
      "Requirement already satisfied: typer>=0.12.1 in c:\\users\\iara0\\miniconda3\\envs\\pythonproject\\lib\\site-packages (from pyannote.database>=4.1.1->diart) (0.12.3)\n",
      "Requirement already satisfied: scikit-learn>=0.17.1 in c:\\users\\iara0\\miniconda3\\envs\\pythonproject\\lib\\site-packages (from pyannote.metrics>=3.2->diart) (1.4.2)\n",
      "Requirement already satisfied: docopt>=0.6.2 in c:\\users\\iara0\\miniconda3\\envs\\pythonproject\\lib\\site-packages (from pyannote.metrics>=3.2->diart) (0.6.2)\n",
      "Requirement already satisfied: tabulate>=0.7.7 in c:\\users\\iara0\\miniconda3\\envs\\pythonproject\\lib\\site-packages (from pyannote.metrics>=3.2->diart) (0.9.0)\n",
      "Requirement already satisfied: sympy>=1.1 in c:\\users\\iara0\\miniconda3\\envs\\pythonproject\\lib\\site-packages (from pyannote.metrics>=3.2->diart) (1.12)\n",
      "Requirement already satisfied: charset-normalizer<4,>=2 in c:\\users\\iara0\\miniconda3\\envs\\pythonproject\\lib\\site-packages (from requests>=2.31.0->diart) (2.0.4)\n",
      "Requirement already satisfied: idna<4,>=2.5 in c:\\users\\iara0\\miniconda3\\envs\\pythonproject\\lib\\site-packages (from requests>=2.31.0->diart) (3.7)\n",
      "Requirement already satisfied: urllib3<3,>=1.21.1 in c:\\users\\iara0\\miniconda3\\envs\\pythonproject\\lib\\site-packages (from requests>=2.31.0->diart) (2.2.1)\n",
      "Requirement already satisfied: certifi>=2017.4.17 in c:\\users\\iara0\\miniconda3\\envs\\pythonproject\\lib\\site-packages (from requests>=2.31.0->diart) (2024.2.2)\n",
      "Requirement already satisfied: markdown-it-py>=2.2.0 in c:\\users\\iara0\\miniconda3\\envs\\pythonproject\\lib\\site-packages (from rich>=12.5.1->diart) (3.0.0)\n",
      "Requirement already satisfied: pygments<3.0.0,>=2.13.0 in c:\\users\\iara0\\miniconda3\\envs\\pythonproject\\lib\\site-packages (from rich>=12.5.1->diart) (2.15.1)\n",
      "Requirement already satisfied: CFFI>=1.0 in c:\\users\\iara0\\miniconda3\\envs\\pythonproject\\lib\\site-packages (from sounddevice>=0.4.2->diart) (1.16.0)\n",
      "Requirement already satisfied: filelock in c:\\users\\iara0\\miniconda3\\envs\\pythonproject\\lib\\site-packages (from torch>=1.12.1->diart) (3.14.0)\n",
      "Requirement already satisfied: networkx in c:\\users\\iara0\\miniconda3\\envs\\pythonproject\\lib\\site-packages (from torch>=1.12.1->diart) (3.3)\n",
      "Requirement already satisfied: jinja2 in c:\\users\\iara0\\miniconda3\\envs\\pythonproject\\lib\\site-packages (from torch>=1.12.1->diart) (3.1.3)\n",
      "Requirement already satisfied: fsspec in c:\\users\\iara0\\miniconda3\\envs\\pythonproject\\lib\\site-packages (from torch>=1.12.1->diart) (2024.5.0)\n",
      "Requirement already satisfied: mkl<=2021.4.0,>=2021.1.1 in c:\\users\\iara0\\miniconda3\\envs\\pythonproject\\lib\\site-packages (from torch>=1.12.1->diart) (2021.4.0)\n",
      "Requirement already satisfied: colorama in c:\\users\\iara0\\miniconda3\\envs\\pythonproject\\lib\\site-packages (from tqdm>=4.64.0->diart) (0.4.6)\n",
      "Requirement already satisfied: Mako in c:\\users\\iara0\\miniconda3\\envs\\pythonproject\\lib\\site-packages (from alembic>=1.5.0->optuna>=2.10->diart) (1.3.5)\n",
      "Requirement already satisfied: pycparser in c:\\users\\iara0\\miniconda3\\envs\\pythonproject\\lib\\site-packages (from CFFI>=1.0->sounddevice>=0.4.2->diart) (2.21)\n",
      "Requirement already satisfied: lightning-utilities<2.0,>=0.8.0 in c:\\users\\iara0\\miniconda3\\envs\\pythonproject\\lib\\site-packages (from lightning>=2.0.1->pyannote.audio>=2.1.1->diart) (0.11.2)\n",
      "Requirement already satisfied: pytorch-lightning in c:\\users\\iara0\\miniconda3\\envs\\pythonproject\\lib\\site-packages (from lightning>=2.0.1->pyannote.audio>=2.1.1->diart) (2.2.4)\n",
      "Requirement already satisfied: mdurl~=0.1 in c:\\users\\iara0\\miniconda3\\envs\\pythonproject\\lib\\site-packages (from markdown-it-py>=2.2.0->rich>=12.5.1->diart) (0.1.2)\n",
      "Requirement already satisfied: intel-openmp==2021.* in c:\\users\\iara0\\miniconda3\\envs\\pythonproject\\lib\\site-packages (from mkl<=2021.4.0,>=2021.1.1->torch>=1.12.1->diart) (2021.4.0)\n",
      "Requirement already satisfied: tbb==2021.* in c:\\users\\iara0\\miniconda3\\envs\\pythonproject\\lib\\site-packages (from mkl<=2021.4.0,>=2021.1.1->torch>=1.12.1->diart) (2021.12.0)\n",
      "Requirement already satisfied: antlr4-python3-runtime==4.9.* in c:\\users\\iara0\\miniconda3\\envs\\pythonproject\\lib\\site-packages (from omegaconf<3.0,>=2.1->pyannote.audio>=2.1.1->diart) (4.9.3)\n",
      "Requirement already satisfied: six>=1.5 in c:\\users\\iara0\\miniconda3\\envs\\pythonproject\\lib\\site-packages (from python-dateutil>=2.7->matplotlib>=3.3.3->diart) (1.16.0)\n",
      "Requirement already satisfied: joblib>=1.2.0 in c:\\users\\iara0\\miniconda3\\envs\\pythonproject\\lib\\site-packages (from scikit-learn>=0.17.1->pyannote.metrics>=3.2->diart) (1.4.2)\n",
      "Requirement already satisfied: threadpoolctl>=2.0.0 in c:\\users\\iara0\\miniconda3\\envs\\pythonproject\\lib\\site-packages (from scikit-learn>=0.17.1->pyannote.metrics>=3.2->diart) (3.5.0)\n",
      "Requirement already satisfied: hyperpyyaml in c:\\users\\iara0\\miniconda3\\envs\\pythonproject\\lib\\site-packages (from speechbrain>=0.5.14->pyannote.audio>=2.1.1->diart) (1.2.2)\n",
      "Requirement already satisfied: sentencepiece in c:\\users\\iara0\\miniconda3\\envs\\pythonproject\\lib\\site-packages (from speechbrain>=0.5.14->pyannote.audio>=2.1.1->diart) (0.2.0)\n",
      "Requirement already satisfied: greenlet!=0.4.17 in c:\\users\\iara0\\miniconda3\\envs\\pythonproject\\lib\\site-packages (from sqlalchemy>=1.3.0->optuna>=2.10->diart) (3.0.3)\n",
      "Requirement already satisfied: mpmath>=0.19 in c:\\users\\iara0\\miniconda3\\envs\\pythonproject\\lib\\site-packages (from sympy>=1.1->pyannote.metrics>=3.2->diart) (1.3.0)\n",
      "Requirement already satisfied: protobuf>=3.20 in c:\\users\\iara0\\miniconda3\\envs\\pythonproject\\lib\\site-packages (from tensorboardX>=2.6->pyannote.audio>=2.1.1->diart) (5.26.1)\n",
      "Requirement already satisfied: julius<0.3,>=0.2.3 in c:\\users\\iara0\\miniconda3\\envs\\pythonproject\\lib\\site-packages (from torch-audiomentations>=0.11.0->pyannote.audio>=2.1.1->diart) (0.2.7)\n",
      "Requirement already satisfied: librosa>=0.6.0 in c:\\users\\iara0\\miniconda3\\envs\\pythonproject\\lib\\site-packages (from torch-audiomentations>=0.11.0->pyannote.audio>=2.1.1->diart) (0.10.2.post1)\n",
      "Requirement already satisfied: torch-pitch-shift>=1.2.2 in c:\\users\\iara0\\miniconda3\\envs\\pythonproject\\lib\\site-packages (from torch-audiomentations>=0.11.0->pyannote.audio>=2.1.1->diart) (1.2.4)\n",
      "Requirement already satisfied: click>=8.0.0 in c:\\users\\iara0\\miniconda3\\envs\\pythonproject\\lib\\site-packages (from typer>=0.12.1->pyannote.database>=4.1.1->diart) (8.1.7)\n",
      "Requirement already satisfied: shellingham>=1.3.0 in c:\\users\\iara0\\miniconda3\\envs\\pythonproject\\lib\\site-packages (from typer>=0.12.1->pyannote.database>=4.1.1->diart) (1.5.4)\n",
      "Requirement already satisfied: MarkupSafe>=2.0 in c:\\users\\iara0\\miniconda3\\envs\\pythonproject\\lib\\site-packages (from jinja2->torch>=1.12.1->diart) (2.1.3)\n",
      "Requirement already satisfied: aiohttp!=4.0.0a0,!=4.0.0a1 in c:\\users\\iara0\\miniconda3\\envs\\pythonproject\\lib\\site-packages (from fsspec[http]<2025.0,>=2022.5.0->lightning>=2.0.1->pyannote.audio>=2.1.1->diart) (3.9.5)\n",
      "Requirement already satisfied: audioread>=2.1.9 in c:\\users\\iara0\\miniconda3\\envs\\pythonproject\\lib\\site-packages (from librosa>=0.6.0->torch-audiomentations>=0.11.0->pyannote.audio>=2.1.1->diart) (3.0.1)\n",
      "Requirement already satisfied: decorator>=4.3.0 in c:\\users\\iara0\\miniconda3\\envs\\pythonproject\\lib\\site-packages (from librosa>=0.6.0->torch-audiomentations>=0.11.0->pyannote.audio>=2.1.1->diart) (5.1.1)\n",
      "Requirement already satisfied: numba>=0.51.0 in c:\\users\\iara0\\miniconda3\\envs\\pythonproject\\lib\\site-packages (from librosa>=0.6.0->torch-audiomentations>=0.11.0->pyannote.audio>=2.1.1->diart) (0.59.1)\n",
      "Requirement already satisfied: pooch>=1.1 in c:\\users\\iara0\\miniconda3\\envs\\pythonproject\\lib\\site-packages (from librosa>=0.6.0->torch-audiomentations>=0.11.0->pyannote.audio>=2.1.1->diart) (1.8.1)\n",
      "Requirement already satisfied: soxr>=0.3.2 in c:\\users\\iara0\\miniconda3\\envs\\pythonproject\\lib\\site-packages (from librosa>=0.6.0->torch-audiomentations>=0.11.0->pyannote.audio>=2.1.1->diart) (0.3.7)\n",
      "Requirement already satisfied: lazy-loader>=0.1 in c:\\users\\iara0\\miniconda3\\envs\\pythonproject\\lib\\site-packages (from librosa>=0.6.0->torch-audiomentations>=0.11.0->pyannote.audio>=2.1.1->diart) (0.4)\n",
      "Requirement already satisfied: msgpack>=1.0 in c:\\users\\iara0\\miniconda3\\envs\\pythonproject\\lib\\site-packages (from librosa>=0.6.0->torch-audiomentations>=0.11.0->pyannote.audio>=2.1.1->diart) (1.0.8)\n",
      "Requirement already satisfied: setuptools in c:\\users\\iara0\\miniconda3\\envs\\pythonproject\\lib\\site-packages (from lightning-utilities<2.0,>=0.8.0->lightning>=2.0.1->pyannote.audio>=2.1.1->diart) (69.5.1)\n",
      "Requirement already satisfied: primePy>=1.3 in c:\\users\\iara0\\miniconda3\\envs\\pythonproject\\lib\\site-packages (from torch-pitch-shift>=1.2.2->torch-audiomentations>=0.11.0->pyannote.audio>=2.1.1->diart) (1.3)\n",
      "Requirement already satisfied: ruamel.yaml>=0.17.28 in c:\\users\\iara0\\miniconda3\\envs\\pythonproject\\lib\\site-packages (from hyperpyyaml->speechbrain>=0.5.14->pyannote.audio>=2.1.1->diart) (0.18.6)\n",
      "Requirement already satisfied: aiosignal>=1.1.2 in c:\\users\\iara0\\miniconda3\\envs\\pythonproject\\lib\\site-packages (from aiohttp!=4.0.0a0,!=4.0.0a1->fsspec[http]<2025.0,>=2022.5.0->lightning>=2.0.1->pyannote.audio>=2.1.1->diart) (1.3.1)\n",
      "Requirement already satisfied: attrs>=17.3.0 in c:\\users\\iara0\\miniconda3\\envs\\pythonproject\\lib\\site-packages (from aiohttp!=4.0.0a0,!=4.0.0a1->fsspec[http]<2025.0,>=2022.5.0->lightning>=2.0.1->pyannote.audio>=2.1.1->diart) (23.1.0)\n",
      "Requirement already satisfied: frozenlist>=1.1.1 in c:\\users\\iara0\\miniconda3\\envs\\pythonproject\\lib\\site-packages (from aiohttp!=4.0.0a0,!=4.0.0a1->fsspec[http]<2025.0,>=2022.5.0->lightning>=2.0.1->pyannote.audio>=2.1.1->diart) (1.4.1)\n",
      "Requirement already satisfied: multidict<7.0,>=4.5 in c:\\users\\iara0\\miniconda3\\envs\\pythonproject\\lib\\site-packages (from aiohttp!=4.0.0a0,!=4.0.0a1->fsspec[http]<2025.0,>=2022.5.0->lightning>=2.0.1->pyannote.audio>=2.1.1->diart) (6.0.5)\n",
      "Requirement already satisfied: yarl<2.0,>=1.0 in c:\\users\\iara0\\miniconda3\\envs\\pythonproject\\lib\\site-packages (from aiohttp!=4.0.0a0,!=4.0.0a1->fsspec[http]<2025.0,>=2022.5.0->lightning>=2.0.1->pyannote.audio>=2.1.1->diart) (1.9.4)\n",
      "Requirement already satisfied: llvmlite<0.43,>=0.42.0dev0 in c:\\users\\iara0\\miniconda3\\envs\\pythonproject\\lib\\site-packages (from numba>=0.51.0->librosa>=0.6.0->torch-audiomentations>=0.11.0->pyannote.audio>=2.1.1->diart) (0.42.0)\n",
      "Requirement already satisfied: platformdirs>=2.5.0 in c:\\users\\iara0\\miniconda3\\envs\\pythonproject\\lib\\site-packages (from pooch>=1.1->librosa>=0.6.0->torch-audiomentations>=0.11.0->pyannote.audio>=2.1.1->diart) (3.10.0)\n",
      "Requirement already satisfied: ruamel.yaml.clib>=0.2.7 in c:\\users\\iara0\\miniconda3\\envs\\pythonproject\\lib\\site-packages (from ruamel.yaml>=0.17.28->hyperpyyaml->speechbrain>=0.5.14->pyannote.audio>=2.1.1->diart) (0.2.8)\n"
     ]
    }
   ],
   "execution_count": 4
  },
  {
   "cell_type": "code",
   "source": [
    "!apt install libasound2-dev portaudio19-dev libportaudio2 libportaudiocpp0 libsndfile-dev ffmpeg --yes \n",
    "#install portaudio \n",
    "!pip install PyAudio"
   ],
   "metadata": {
    "execution": {
     "iopub.status.busy": "2024-05-16T16:01:34.072956Z",
     "iopub.execute_input": "2024-05-16T16:01:34.073396Z",
     "iopub.status.idle": "2024-05-16T16:01:53.700488Z",
     "shell.execute_reply.started": "2024-05-16T16:01:34.073361Z",
     "shell.execute_reply": "2024-05-16T16:01:53.698921Z"
    },
    "trusted": true,
    "colab": {
     "base_uri": "https://localhost:8080/"
    },
    "id": "UVMsjBaQUR7z",
    "outputId": "e49a90dc-662f-4a70-d790-fc3a14995a28",
    "ExecuteTime": {
     "end_time": "2024-05-21T12:47:37.034211Z",
     "start_time": "2024-05-21T12:47:32.737138Z"
    }
   },
   "outputs": [
    {
     "name": "stderr",
     "output_type": "stream",
     "text": [
      "'apt' is not recognized as an internal or external command,\n",
      "operable program or batch file.\n"
     ]
    },
    {
     "name": "stdout",
     "output_type": "stream",
     "text": [
      "Requirement already satisfied: PyAudio in c:\\users\\iara0\\miniconda3\\envs\\pythonproject\\lib\\site-packages (0.2.14)\n"
     ]
    }
   ],
   "execution_count": 5
  },
  {
   "metadata": {},
   "cell_type": "code",
   "source": "!pip install --force-reinstall matplotlib\n",
   "outputs": [],
   "execution_count": null
  },
  {
   "metadata": {
    "ExecuteTime": {
     "end_time": "2024-05-21T12:47:54.553764Z",
     "start_time": "2024-05-21T12:47:50.020916Z"
    }
   },
   "cell_type": "code",
   "source": "!pip install --upgrade huggingface_hub",
   "outputs": [
    {
     "name": "stdout",
     "output_type": "stream",
     "text": [
      "Requirement already satisfied: huggingface_hub in c:\\users\\iara0\\miniconda3\\envs\\pythonproject\\lib\\site-packages (0.23.0)\n",
      "Requirement already satisfied: filelock in c:\\users\\iara0\\miniconda3\\envs\\pythonproject\\lib\\site-packages (from huggingface_hub) (3.14.0)\n",
      "Requirement already satisfied: fsspec>=2023.5.0 in c:\\users\\iara0\\miniconda3\\envs\\pythonproject\\lib\\site-packages (from huggingface_hub) (2024.5.0)\n",
      "Requirement already satisfied: packaging>=20.9 in c:\\users\\iara0\\miniconda3\\envs\\pythonproject\\lib\\site-packages (from huggingface_hub) (23.2)\n",
      "Requirement already satisfied: pyyaml>=5.1 in c:\\users\\iara0\\miniconda3\\envs\\pythonproject\\lib\\site-packages (from huggingface_hub) (6.0.1)\n",
      "Requirement already satisfied: requests in c:\\users\\iara0\\miniconda3\\envs\\pythonproject\\lib\\site-packages (from huggingface_hub) (2.31.0)\n",
      "Requirement already satisfied: tqdm>=4.42.1 in c:\\users\\iara0\\miniconda3\\envs\\pythonproject\\lib\\site-packages (from huggingface_hub) (4.66.4)\n",
      "Requirement already satisfied: typing-extensions>=3.7.4.3 in c:\\users\\iara0\\miniconda3\\envs\\pythonproject\\lib\\site-packages (from huggingface_hub) (4.11.0)\n",
      "Requirement already satisfied: colorama in c:\\users\\iara0\\miniconda3\\envs\\pythonproject\\lib\\site-packages (from tqdm>=4.42.1->huggingface_hub) (0.4.6)\n",
      "Requirement already satisfied: charset-normalizer<4,>=2 in c:\\users\\iara0\\miniconda3\\envs\\pythonproject\\lib\\site-packages (from requests->huggingface_hub) (2.0.4)\n",
      "Requirement already satisfied: idna<4,>=2.5 in c:\\users\\iara0\\miniconda3\\envs\\pythonproject\\lib\\site-packages (from requests->huggingface_hub) (3.7)\n",
      "Requirement already satisfied: urllib3<3,>=1.21.1 in c:\\users\\iara0\\miniconda3\\envs\\pythonproject\\lib\\site-packages (from requests->huggingface_hub) (2.2.1)\n",
      "Requirement already satisfied: certifi>=2017.4.17 in c:\\users\\iara0\\miniconda3\\envs\\pythonproject\\lib\\site-packages (from requests->huggingface_hub) (2024.2.2)\n"
     ]
    }
   ],
   "execution_count": 6
  },
  {
   "metadata": {
    "ExecuteTime": {
     "end_time": "2024-05-21T13:20:14.195033Z",
     "start_time": "2024-05-21T13:18:05.546342Z"
    }
   },
   "cell_type": "code",
   "source": [
    "!huggingface-cli login \n",
    "# add HuggingFace token: \"your token\""
   ],
   "outputs": [
    {
     "name": "stdout",
     "output_type": "stream",
     "text": [
      "^C\n"
     ]
    }
   ],
   "execution_count": 3
  },
  {
   "metadata": {},
   "cell_type": "markdown",
   "source": "## Option 1 - Inference"
  },
  {
   "metadata": {
    "ExecuteTime": {
     "end_time": "2024-05-21T13:02:39.837255Z",
     "start_time": "2024-05-21T13:02:22.632953Z"
    }
   },
   "cell_type": "code",
   "source": [
    "from diart import SpeakerDiarization\n",
    "from diart.sources import MicrophoneAudioSource\n",
    "from diart.inference import StreamingInference\n",
    "from diart.sinks import RTTMWriter"
   ],
   "outputs": [],
   "execution_count": 1
  },
  {
   "metadata": {
    "ExecuteTime": {
     "end_time": "2024-05-21T13:24:25.915878Z",
     "start_time": "2024-05-21T13:23:41.269059Z"
    }
   },
   "cell_type": "code",
   "source": [
    "pipeline = SpeakerDiarization()\n",
    "mic = MicrophoneAudioSource()\n",
    "inference = StreamingInference(pipeline, mic, do_plot=True)\n",
    "inference.attach_observers(RTTMWriter(mic.uri, \"path for output file\"))\n",
    "prediction = inference()"
   ],
   "outputs": [
    {
     "name": "stderr",
     "output_type": "stream",
     "text": [
      "Lightning automatically upgraded your loaded checkpoint from v1.5.4 to v2.2.4. To apply the upgrade to your files permanently, run `python -m pytorch_lightning.utilities.upgrade_checkpoint C:\\Users\\iara0\\.cache\\torch\\pyannote\\models--pyannote--segmentation\\snapshots\\660b9e20307a2b0cdb400d0f80aadc04a701fc54\\pytorch_model.bin`\n"
     ]
    },
    {
     "name": "stdout",
     "output_type": "stream",
     "text": [
      "Model was trained with pyannote.audio 0.0.1, yours is 3.2.0. Bad things might happen unless you revert pyannote.audio to 0.x.\n",
      "Model was trained with torch 1.10.0+cu102, yours is 2.3.0+cpu. Bad things might happen unless you revert torch to 1.x.\n"
     ]
    },
    {
     "name": "stderr",
     "output_type": "stream",
     "text": [
      "Lightning automatically upgraded your loaded checkpoint from v1.2.7 to v2.2.4. To apply the upgrade to your files permanently, run `python -m pytorch_lightning.utilities.upgrade_checkpoint C:\\Users\\iara0\\.cache\\torch\\pyannote\\models--pyannote--embedding\\snapshots\\4db4899737a38b2d618bbd74350915aa10293cb2\\pytorch_model.bin`\n",
      "Lightning automatically upgraded your loaded checkpoint from v1.2.7 to v2.2.4. To apply the upgrade to your files permanently, run `python -m pytorch_lightning.utilities.upgrade_checkpoint C:\\Users\\iara0\\.cache\\torch\\pyannote\\models--pyannote--embedding\\snapshots\\4db4899737a38b2d618bbd74350915aa10293cb2\\pytorch_model.bin`\n"
     ]
    },
    {
     "name": "stdout",
     "output_type": "stream",
     "text": [
      "Model was trained with pyannote.audio 0.0.1, yours is 3.2.0. Bad things might happen unless you revert pyannote.audio to 0.x.\n",
      "Model was trained with torch 1.8.1+cu102, yours is 2.3.0+cpu. Bad things might happen unless you revert torch to 1.x.\n",
      "Model was trained with pyannote.audio 0.0.1, yours is 3.2.0. Bad things might happen unless you revert pyannote.audio to 0.x.\n",
      "Model was trained with torch 1.8.1+cu102, yours is 2.3.0+cpu. Bad things might happen unless you revert torch to 1.x.\n"
     ]
    },
    {
     "data": {
      "text/plain": [
       "Output()"
      ],
      "application/vnd.jupyter.widget-view+json": {
       "version_major": 2,
       "version_minor": 0,
       "model_id": "5d0812dbf4314a2da72a86ad04b82873"
      }
     },
     "metadata": {},
     "output_type": "display_data"
    },
    {
     "data": {
      "text/plain": [
       "<Figure size 1000x400 with 2 Axes>"
      ],
      "image/png": "[encoded data removed]"
     },
     "metadata": {},
     "output_type": "display_data"
    },
    {
     "data": {
      "text/plain": [
       "<Figure size 640x480 with 0 Axes>"
      ]
     },
     "metadata": {},
     "output_type": "display_data"
    },
    {
     "data": {
      "text/plain": [
       "<Figure size 640x480 with 0 Axes>"
      ]
     },
     "metadata": {},
     "output_type": "display_data"
    },
    {
     "data": {
      "text/plain": [
       "<Figure size 640x480 with 0 Axes>"
      ]
     },
     "metadata": {},
     "output_type": "display_data"
    },
    {
     "data": {
      "text/plain": [
       "<Figure size 640x480 with 0 Axes>"
      ]
     },
     "metadata": {},
     "output_type": "display_data"
    },
    {
     "data": {
      "text/plain": [
       "<Figure size 640x480 with 0 Axes>"
      ]
     },
     "metadata": {},
     "output_type": "display_data"
    },
    {
     "data": {
      "text/plain": [
       "<Figure size 640x480 with 0 Axes>"
      ]
     },
     "metadata": {},
     "output_type": "display_data"
    },
    {
     "data": {
      "text/plain": [
       "<Figure size 640x480 with 0 Axes>"
      ]
     },
     "metadata": {},
     "output_type": "display_data"
    },
    {
     "data": {
      "text/plain": [
       "<Figure size 640x480 with 0 Axes>"
      ]
     },
     "metadata": {},
     "output_type": "display_data"
    },
    {
     "data": {
      "text/plain": [
       "<Figure size 640x480 with 0 Axes>"
      ]
     },
     "metadata": {},
     "output_type": "display_data"
    },
    {
     "data": {
      "text/plain": [
       "<Figure size 640x480 with 0 Axes>"
      ]
     },
     "metadata": {},
     "output_type": "display_data"
    },
    {
     "data": {
      "text/plain": [
       "<Figure size 640x480 with 0 Axes>"
      ]
     },
     "metadata": {},
     "output_type": "display_data"
    },
    {
     "data": {
      "text/plain": [
       "<Figure size 640x480 with 0 Axes>"
      ]
     },
     "metadata": {},
     "output_type": "display_data"
    },
    {
     "data": {
      "text/plain": [
       "<Figure size 640x480 with 0 Axes>"
      ]
     },
     "metadata": {},
     "output_type": "display_data"
    },
    {
     "data": {
      "text/plain": [
       "<Figure size 640x480 with 0 Axes>"
      ]
     },
     "metadata": {},
     "output_type": "display_data"
    },
    {
     "data": {
      "text/plain": [
       "<Figure size 640x480 with 0 Axes>"
      ]
     },
     "metadata": {},
     "output_type": "display_data"
    },
    {
     "data": {
      "text/plain": [
       "<Figure size 640x480 with 0 Axes>"
      ]
     },
     "metadata": {},
     "output_type": "display_data"
    },
    {
     "data": {
      "text/plain": [
       "<Figure size 640x480 with 0 Axes>"
      ]
     },
     "metadata": {},
     "output_type": "display_data"
    },
    {
     "data": {
      "text/plain": [
       "<Figure size 640x480 with 0 Axes>"
      ]
     },
     "metadata": {},
     "output_type": "display_data"
    },
    {
     "data": {
      "text/plain": [
       "<Figure size 640x480 with 0 Axes>"
      ]
     },
     "metadata": {},
     "output_type": "display_data"
    },
    {
     "data": {
      "text/plain": [
       "<Figure size 640x480 with 0 Axes>"
      ]
     },
     "metadata": {},
     "output_type": "display_data"
    },
    {
     "data": {
      "text/plain": [
       "<Figure size 640x480 with 0 Axes>"
      ]
     },
     "metadata": {},
     "output_type": "display_data"
    },
    {
     "data": {
      "text/plain": [
       "<Figure size 640x480 with 0 Axes>"
      ]
     },
     "metadata": {},
     "output_type": "display_data"
    },
    {
     "data": {
      "text/plain": [
       "<Figure size 640x480 with 0 Axes>"
      ]
     },
     "metadata": {},
     "output_type": "display_data"
    },
    {
     "data": {
      "text/plain": [
       "<Figure size 640x480 with 0 Axes>"
      ]
     },
     "metadata": {},
     "output_type": "display_data"
    },
    {
     "data": {
      "text/plain": [
       "<Figure size 640x480 with 0 Axes>"
      ]
     },
     "metadata": {},
     "output_type": "display_data"
    },
    {
     "data": {
      "text/plain": [
       "<Figure size 640x480 with 0 Axes>"
      ]
     },
     "metadata": {},
     "output_type": "display_data"
    },
    {
     "data": {
      "text/plain": [
       "<Figure size 640x480 with 0 Axes>"
      ]
     },
     "metadata": {},
     "output_type": "display_data"
    },
    {
     "data": {
      "text/plain": [
       "<Figure size 640x480 with 0 Axes>"
      ]
     },
     "metadata": {},
     "output_type": "display_data"
    },
    {
     "data": {
      "text/plain": [
       "<Figure size 640x480 with 0 Axes>"
      ]
     },
     "metadata": {},
     "output_type": "display_data"
    },
    {
     "data": {
      "text/plain": [
       "<Figure size 640x480 with 0 Axes>"
      ]
     },
     "metadata": {},
     "output_type": "display_data"
    },
    {
     "data": {
      "text/plain": [
       "<Figure size 640x480 with 0 Axes>"
      ]
     },
     "metadata": {},
     "output_type": "display_data"
    },
    {
     "data": {
      "text/plain": [
       "<Figure size 640x480 with 0 Axes>"
      ]
     },
     "metadata": {},
     "output_type": "display_data"
    },
    {
     "data": {
      "text/plain": [
       "<Figure size 640x480 with 0 Axes>"
      ]
     },
     "metadata": {},
     "output_type": "display_data"
    },
    {
     "data": {
      "text/plain": [
       "<Figure size 640x480 with 0 Axes>"
      ]
     },
     "metadata": {},
     "output_type": "display_data"
    },
    {
     "data": {
      "text/plain": [
       "<Figure size 640x480 with 0 Axes>"
      ]
     },
     "metadata": {},
     "output_type": "display_data"
    },
    {
     "data": {
      "text/plain": [
       "<Figure size 640x480 with 0 Axes>"
      ]
     },
     "metadata": {},
     "output_type": "display_data"
    },
    {
     "data": {
      "text/plain": [
       "<Figure size 640x480 with 0 Axes>"
      ]
     },
     "metadata": {},
     "output_type": "display_data"
    },
    {
     "data": {
      "text/plain": [
       "<Figure size 640x480 with 0 Axes>"
      ]
     },
     "metadata": {},
     "output_type": "display_data"
    },
    {
     "data": {
      "text/plain": [
       "<Figure size 640x480 with 0 Axes>"
      ]
     },
     "metadata": {},
     "output_type": "display_data"
    },
    {
     "data": {
      "text/plain": [
       "<Figure size 640x480 with 0 Axes>"
      ]
     },
     "metadata": {},
     "output_type": "display_data"
    },
    {
     "data": {
      "text/plain": [
       "<Figure size 640x480 with 0 Axes>"
      ]
     },
     "metadata": {},
     "output_type": "display_data"
    },
    {
     "data": {
      "text/plain": [
       "<Figure size 640x480 with 0 Axes>"
      ]
     },
     "metadata": {},
     "output_type": "display_data"
    },
    {
     "data": {
      "text/plain": [
       "<Figure size 640x480 with 0 Axes>"
      ]
     },
     "metadata": {},
     "output_type": "display_data"
    },
    {
     "data": {
      "text/plain": [
       "<Figure size 640x480 with 0 Axes>"
      ]
     },
     "metadata": {},
     "output_type": "display_data"
    },
    {
     "data": {
      "text/plain": [
       "<Figure size 640x480 with 0 Axes>"
      ]
     },
     "metadata": {},
     "output_type": "display_data"
    },
    {
     "data": {
      "text/plain": [
       "<Figure size 640x480 with 0 Axes>"
      ]
     },
     "metadata": {},
     "output_type": "display_data"
    },
    {
     "data": {
      "text/plain": [
       "<Figure size 640x480 with 0 Axes>"
      ]
     },
     "metadata": {},
     "output_type": "display_data"
    },
    {
     "data": {
      "text/plain": [
       "<Figure size 640x480 with 0 Axes>"
      ]
     },
     "metadata": {},
     "output_type": "display_data"
    },
    {
     "data": {
      "text/plain": [
       "<Figure size 640x480 with 0 Axes>"
      ]
     },
     "metadata": {},
     "output_type": "display_data"
    },
    {
     "data": {
      "text/plain": [
       "<Figure size 640x480 with 0 Axes>"
      ]
     },
     "metadata": {},
     "output_type": "display_data"
    },
    {
     "data": {
      "text/plain": [
       "<Figure size 640x480 with 0 Axes>"
      ]
     },
     "metadata": {},
     "output_type": "display_data"
    },
    {
     "data": {
      "text/plain": [
       "<Figure size 640x480 with 0 Axes>"
      ]
     },
     "metadata": {},
     "output_type": "display_data"
    },
    {
     "data": {
      "text/plain": [
       "<Figure size 640x480 with 0 Axes>"
      ]
     },
     "metadata": {},
     "output_type": "display_data"
    },
    {
     "data": {
      "text/plain": [
       "<Figure size 640x480 with 0 Axes>"
      ]
     },
     "metadata": {},
     "output_type": "display_data"
    },
    {
     "data": {
      "text/plain": [
       "<Figure size 640x480 with 0 Axes>"
      ]
     },
     "metadata": {},
     "output_type": "display_data"
    },
    {
     "data": {
      "text/plain": [
       "<Figure size 640x480 with 0 Axes>"
      ]
     },
     "metadata": {},
     "output_type": "display_data"
    },
    {
     "data": {
      "text/plain": [
       "<Figure size 640x480 with 0 Axes>"
      ]
     },
     "metadata": {},
     "output_type": "display_data"
    },
    {
     "data": {
      "text/plain": [
       "<Figure size 640x480 with 0 Axes>"
      ]
     },
     "metadata": {},
     "output_type": "display_data"
    },
    {
     "data": {
      "text/plain": [
       "<Figure size 640x480 with 0 Axes>"
      ]
     },
     "metadata": {},
     "output_type": "display_data"
    },
    {
     "data": {
      "text/plain": [
       "<Figure size 640x480 with 0 Axes>"
      ]
     },
     "metadata": {},
     "output_type": "display_data"
    },
    {
     "data": {
      "text/plain": [
       "<Figure size 640x480 with 0 Axes>"
      ]
     },
     "metadata": {},
     "output_type": "display_data"
    },
    {
     "data": {
      "text/plain": [
       "<Figure size 640x480 with 0 Axes>"
      ]
     },
     "metadata": {},
     "output_type": "display_data"
    },
    {
     "data": {
      "text/plain": [
       "<Figure size 640x480 with 0 Axes>"
      ]
     },
     "metadata": {},
     "output_type": "display_data"
    },
    {
     "data": {
      "text/plain": [
       "<Figure size 640x480 with 0 Axes>"
      ]
     },
     "metadata": {},
     "output_type": "display_data"
    },
    {
     "ename": "KeyboardInterrupt",
     "evalue": "",
     "output_type": "error",
     "traceback": [
      "\u001B[1;31m---------------------------------------------------------------------------\u001B[0m",
      "\u001B[1;31mKeyboardInterrupt\u001B[0m                         Traceback (most recent call last)",
      "Cell \u001B[1;32mIn[5], line 5\u001B[0m\n\u001B[0;32m      3\u001B[0m inference \u001B[38;5;241m=\u001B[39m StreamingInference(pipeline, mic, do_plot\u001B[38;5;241m=\u001B[39m\u001B[38;5;28;01mTrue\u001B[39;00m)\n\u001B[0;32m      4\u001B[0m inference\u001B[38;5;241m.\u001B[39mattach_observers(RTTMWriter(mic\u001B[38;5;241m.\u001B[39muri, \u001B[38;5;124m\"\u001B[39m\u001B[38;5;124mC:/Users/iara0/OneDrive/Ambiente de Trabalho/voice-cloning/Speaker_diarization/streaming_diart.rttm\u001B[39m\u001B[38;5;124m\"\u001B[39m))\n\u001B[1;32m----> 5\u001B[0m prediction \u001B[38;5;241m=\u001B[39m inference()\n",
      "File \u001B[1;32m~\\miniconda3\\envs\\pythonProject\\Lib\\site-packages\\diart\\inference.py:230\u001B[0m, in \u001B[0;36mStreamingInference.__call__\u001B[1;34m(self)\u001B[0m\n\u001B[0;32m    225\u001B[0m observable\u001B[38;5;241m.\u001B[39msubscribe(\n\u001B[0;32m    226\u001B[0m     on_error\u001B[38;5;241m=\u001B[39m\u001B[38;5;28mself\u001B[39m\u001B[38;5;241m.\u001B[39m_handle_error,\n\u001B[0;32m    227\u001B[0m     on_completed\u001B[38;5;241m=\u001B[39m\u001B[38;5;28mself\u001B[39m\u001B[38;5;241m.\u001B[39m_handle_completion,\n\u001B[0;32m    228\u001B[0m )\n\u001B[0;32m    229\u001B[0m \u001B[38;5;66;03m# FIXME if read() isn't blocking, the prediction returned is empty\u001B[39;00m\n\u001B[1;32m--> 230\u001B[0m \u001B[38;5;28mself\u001B[39m\u001B[38;5;241m.\u001B[39msource\u001B[38;5;241m.\u001B[39mread()\n\u001B[0;32m    231\u001B[0m \u001B[38;5;28;01mreturn\u001B[39;00m \u001B[38;5;28mself\u001B[39m\u001B[38;5;241m.\u001B[39maccumulator\u001B[38;5;241m.\u001B[39mget_prediction()\n",
      "File \u001B[1;32m~\\miniconda3\\envs\\pythonProject\\Lib\\site-packages\\diart\\sources.py:194\u001B[0m, in \u001B[0;36mMicrophoneAudioSource.read\u001B[1;34m(self)\u001B[0m\n\u001B[0;32m    192\u001B[0m         \u001B[38;5;28mself\u001B[39m\u001B[38;5;241m.\u001B[39mstream\u001B[38;5;241m.\u001B[39mon_next(\u001B[38;5;28mself\u001B[39m\u001B[38;5;241m.\u001B[39m_queue\u001B[38;5;241m.\u001B[39mget_nowait())\n\u001B[0;32m    193\u001B[0m     \u001B[38;5;28;01mexcept\u001B[39;00m \u001B[38;5;167;01mBaseException\u001B[39;00m \u001B[38;5;28;01mas\u001B[39;00m e:\n\u001B[1;32m--> 194\u001B[0m         \u001B[38;5;28mself\u001B[39m\u001B[38;5;241m.\u001B[39mstream\u001B[38;5;241m.\u001B[39mon_error(e)\n\u001B[0;32m    195\u001B[0m         \u001B[38;5;28;01mbreak\u001B[39;00m\n\u001B[0;32m    196\u001B[0m \u001B[38;5;28mself\u001B[39m\u001B[38;5;241m.\u001B[39mstream\u001B[38;5;241m.\u001B[39mon_completed()\n",
      "File \u001B[1;32m~\\miniconda3\\envs\\pythonProject\\Lib\\site-packages\\rx\\subject\\subject.py:73\u001B[0m, in \u001B[0;36mSubject.on_error\u001B[1;34m(self, error)\u001B[0m\n\u001B[0;32m     71\u001B[0m \u001B[38;5;28;01mwith\u001B[39;00m \u001B[38;5;28mself\u001B[39m\u001B[38;5;241m.\u001B[39mlock:\n\u001B[0;32m     72\u001B[0m     \u001B[38;5;28mself\u001B[39m\u001B[38;5;241m.\u001B[39mcheck_disposed()\n\u001B[1;32m---> 73\u001B[0m \u001B[38;5;28msuper\u001B[39m()\u001B[38;5;241m.\u001B[39mon_error(error)\n",
      "File \u001B[1;32m~\\miniconda3\\envs\\pythonProject\\Lib\\site-packages\\rx\\core\\observer\\observer.py:43\u001B[0m, in \u001B[0;36mObserver.on_error\u001B[1;34m(self, error)\u001B[0m\n\u001B[0;32m     41\u001B[0m \u001B[38;5;28;01mif\u001B[39;00m \u001B[38;5;129;01mnot\u001B[39;00m \u001B[38;5;28mself\u001B[39m\u001B[38;5;241m.\u001B[39mis_stopped:\n\u001B[0;32m     42\u001B[0m     \u001B[38;5;28mself\u001B[39m\u001B[38;5;241m.\u001B[39mis_stopped \u001B[38;5;241m=\u001B[39m \u001B[38;5;28;01mTrue\u001B[39;00m\n\u001B[1;32m---> 43\u001B[0m     \u001B[38;5;28mself\u001B[39m\u001B[38;5;241m.\u001B[39m_on_error_core(error)\n",
      "File \u001B[1;32m~\\miniconda3\\envs\\pythonProject\\Lib\\site-packages\\rx\\subject\\subject.py:82\u001B[0m, in \u001B[0;36mSubject._on_error_core\u001B[1;34m(self, error)\u001B[0m\n\u001B[0;32m     79\u001B[0m     \u001B[38;5;28mself\u001B[39m\u001B[38;5;241m.\u001B[39mexception \u001B[38;5;241m=\u001B[39m error\n\u001B[0;32m     81\u001B[0m \u001B[38;5;28;01mfor\u001B[39;00m observer \u001B[38;5;129;01min\u001B[39;00m observers:\n\u001B[1;32m---> 82\u001B[0m     observer\u001B[38;5;241m.\u001B[39mon_error(error)\n",
      "File \u001B[1;32m~\\miniconda3\\envs\\pythonProject\\Lib\\site-packages\\rx\\core\\observer\\autodetachobserver.py:34\u001B[0m, in \u001B[0;36mAutoDetachObserver.on_error\u001B[1;34m(self, error)\u001B[0m\n\u001B[0;32m     31\u001B[0m \u001B[38;5;28mself\u001B[39m\u001B[38;5;241m.\u001B[39mis_stopped \u001B[38;5;241m=\u001B[39m \u001B[38;5;28;01mTrue\u001B[39;00m\n\u001B[0;32m     33\u001B[0m \u001B[38;5;28;01mtry\u001B[39;00m:\n\u001B[1;32m---> 34\u001B[0m     \u001B[38;5;28mself\u001B[39m\u001B[38;5;241m.\u001B[39m_on_error(error)\n\u001B[0;32m     35\u001B[0m \u001B[38;5;28;01mfinally\u001B[39;00m:\n\u001B[0;32m     36\u001B[0m     \u001B[38;5;28mself\u001B[39m\u001B[38;5;241m.\u001B[39mdispose()\n",
      "File \u001B[1;32m~\\miniconda3\\envs\\pythonProject\\Lib\\site-packages\\rx\\core\\observer\\autodetachobserver.py:34\u001B[0m, in \u001B[0;36mAutoDetachObserver.on_error\u001B[1;34m(self, error)\u001B[0m\n\u001B[0;32m     31\u001B[0m \u001B[38;5;28mself\u001B[39m\u001B[38;5;241m.\u001B[39mis_stopped \u001B[38;5;241m=\u001B[39m \u001B[38;5;28;01mTrue\u001B[39;00m\n\u001B[0;32m     33\u001B[0m \u001B[38;5;28;01mtry\u001B[39;00m:\n\u001B[1;32m---> 34\u001B[0m     \u001B[38;5;28mself\u001B[39m\u001B[38;5;241m.\u001B[39m_on_error(error)\n\u001B[0;32m     35\u001B[0m \u001B[38;5;28;01mfinally\u001B[39;00m:\n\u001B[0;32m     36\u001B[0m     \u001B[38;5;28mself\u001B[39m\u001B[38;5;241m.\u001B[39mdispose()\n",
      "    \u001B[1;31m[... skipping similar frames: AutoDetachObserver.on_error at line 34 (3 times)]\u001B[0m\n",
      "File \u001B[1;32m~\\miniconda3\\envs\\pythonProject\\Lib\\site-packages\\rx\\core\\observer\\autodetachobserver.py:34\u001B[0m, in \u001B[0;36mAutoDetachObserver.on_error\u001B[1;34m(self, error)\u001B[0m\n\u001B[0;32m     31\u001B[0m \u001B[38;5;28mself\u001B[39m\u001B[38;5;241m.\u001B[39mis_stopped \u001B[38;5;241m=\u001B[39m \u001B[38;5;28;01mTrue\u001B[39;00m\n\u001B[0;32m     33\u001B[0m \u001B[38;5;28;01mtry\u001B[39;00m:\n\u001B[1;32m---> 34\u001B[0m     \u001B[38;5;28mself\u001B[39m\u001B[38;5;241m.\u001B[39m_on_error(error)\n\u001B[0;32m     35\u001B[0m \u001B[38;5;28;01mfinally\u001B[39;00m:\n\u001B[0;32m     36\u001B[0m     \u001B[38;5;28mself\u001B[39m\u001B[38;5;241m.\u001B[39mdispose()\n",
      "File \u001B[1;32m~\\miniconda3\\envs\\pythonProject\\Lib\\site-packages\\rx\\core\\operators\\windowwithcount.py:70\u001B[0m, in \u001B[0;36m_window_with_count.<locals>.window_with_count.<locals>.subscribe.<locals>.on_error\u001B[1;34m(exception)\u001B[0m\n\u001B[0;32m     68\u001B[0m \u001B[38;5;28;01mwhile\u001B[39;00m q:\n\u001B[0;32m     69\u001B[0m     q\u001B[38;5;241m.\u001B[39mpop(\u001B[38;5;241m0\u001B[39m)\u001B[38;5;241m.\u001B[39mon_error(exception)\n\u001B[1;32m---> 70\u001B[0m observer\u001B[38;5;241m.\u001B[39mon_error(exception)\n",
      "File \u001B[1;32m~\\miniconda3\\envs\\pythonProject\\Lib\\site-packages\\rx\\core\\observer\\autodetachobserver.py:34\u001B[0m, in \u001B[0;36mAutoDetachObserver.on_error\u001B[1;34m(self, error)\u001B[0m\n\u001B[0;32m     31\u001B[0m \u001B[38;5;28mself\u001B[39m\u001B[38;5;241m.\u001B[39mis_stopped \u001B[38;5;241m=\u001B[39m \u001B[38;5;28;01mTrue\u001B[39;00m\n\u001B[0;32m     33\u001B[0m \u001B[38;5;28;01mtry\u001B[39;00m:\n\u001B[1;32m---> 34\u001B[0m     \u001B[38;5;28mself\u001B[39m\u001B[38;5;241m.\u001B[39m_on_error(error)\n\u001B[0;32m     35\u001B[0m \u001B[38;5;28;01mfinally\u001B[39;00m:\n\u001B[0;32m     36\u001B[0m     \u001B[38;5;28mself\u001B[39m\u001B[38;5;241m.\u001B[39mdispose()\n",
      "File \u001B[1;32m~\\miniconda3\\envs\\pythonProject\\Lib\\site-packages\\rx\\core\\observer\\autodetachobserver.py:34\u001B[0m, in \u001B[0;36mAutoDetachObserver.on_error\u001B[1;34m(self, error)\u001B[0m\n\u001B[0;32m     31\u001B[0m \u001B[38;5;28mself\u001B[39m\u001B[38;5;241m.\u001B[39mis_stopped \u001B[38;5;241m=\u001B[39m \u001B[38;5;28;01mTrue\u001B[39;00m\n\u001B[0;32m     33\u001B[0m \u001B[38;5;28;01mtry\u001B[39;00m:\n\u001B[1;32m---> 34\u001B[0m     \u001B[38;5;28mself\u001B[39m\u001B[38;5;241m.\u001B[39m_on_error(error)\n\u001B[0;32m     35\u001B[0m \u001B[38;5;28;01mfinally\u001B[39;00m:\n\u001B[0;32m     36\u001B[0m     \u001B[38;5;28mself\u001B[39m\u001B[38;5;241m.\u001B[39mdispose()\n",
      "    \u001B[1;31m[... skipping similar frames: AutoDetachObserver.on_error at line 34 (2 times)]\u001B[0m\n",
      "File \u001B[1;32m~\\miniconda3\\envs\\pythonProject\\Lib\\site-packages\\rx\\core\\observer\\autodetachobserver.py:34\u001B[0m, in \u001B[0;36mAutoDetachObserver.on_error\u001B[1;34m(self, error)\u001B[0m\n\u001B[0;32m     31\u001B[0m \u001B[38;5;28mself\u001B[39m\u001B[38;5;241m.\u001B[39mis_stopped \u001B[38;5;241m=\u001B[39m \u001B[38;5;28;01mTrue\u001B[39;00m\n\u001B[0;32m     33\u001B[0m \u001B[38;5;28;01mtry\u001B[39;00m:\n\u001B[1;32m---> 34\u001B[0m     \u001B[38;5;28mself\u001B[39m\u001B[38;5;241m.\u001B[39m_on_error(error)\n\u001B[0;32m     35\u001B[0m \u001B[38;5;28;01mfinally\u001B[39;00m:\n\u001B[0;32m     36\u001B[0m     \u001B[38;5;28mself\u001B[39m\u001B[38;5;241m.\u001B[39mdispose()\n",
      "File \u001B[1;32m~\\miniconda3\\envs\\pythonProject\\Lib\\site-packages\\rx\\core\\operators\\do.py:52\u001B[0m, in \u001B[0;36m_do_action.<locals>.do_action.<locals>.subscribe.<locals>._on_error\u001B[1;34m(exception)\u001B[0m\n\u001B[0;32m     50\u001B[0m \u001B[38;5;28;01mdef\u001B[39;00m \u001B[38;5;21m_on_error\u001B[39m(exception):\n\u001B[0;32m     51\u001B[0m     \u001B[38;5;28;01mif\u001B[39;00m \u001B[38;5;129;01mnot\u001B[39;00m on_error:\n\u001B[1;32m---> 52\u001B[0m         observer\u001B[38;5;241m.\u001B[39mon_error(exception)\n\u001B[0;32m     53\u001B[0m     \u001B[38;5;28;01melse\u001B[39;00m:\n\u001B[0;32m     54\u001B[0m         \u001B[38;5;28;01mtry\u001B[39;00m:\n",
      "File \u001B[1;32m~\\miniconda3\\envs\\pythonProject\\Lib\\site-packages\\rx\\core\\observer\\autodetachobserver.py:34\u001B[0m, in \u001B[0;36mAutoDetachObserver.on_error\u001B[1;34m(self, error)\u001B[0m\n\u001B[0;32m     31\u001B[0m \u001B[38;5;28mself\u001B[39m\u001B[38;5;241m.\u001B[39mis_stopped \u001B[38;5;241m=\u001B[39m \u001B[38;5;28;01mTrue\u001B[39;00m\n\u001B[0;32m     33\u001B[0m \u001B[38;5;28;01mtry\u001B[39;00m:\n\u001B[1;32m---> 34\u001B[0m     \u001B[38;5;28mself\u001B[39m\u001B[38;5;241m.\u001B[39m_on_error(error)\n\u001B[0;32m     35\u001B[0m \u001B[38;5;28;01mfinally\u001B[39;00m:\n\u001B[0;32m     36\u001B[0m     \u001B[38;5;28mself\u001B[39m\u001B[38;5;241m.\u001B[39mdispose()\n",
      "File \u001B[1;32m~\\miniconda3\\envs\\pythonProject\\Lib\\site-packages\\rx\\core\\observer\\autodetachobserver.py:34\u001B[0m, in \u001B[0;36mAutoDetachObserver.on_error\u001B[1;34m(self, error)\u001B[0m\n\u001B[0;32m     31\u001B[0m \u001B[38;5;28mself\u001B[39m\u001B[38;5;241m.\u001B[39mis_stopped \u001B[38;5;241m=\u001B[39m \u001B[38;5;28;01mTrue\u001B[39;00m\n\u001B[0;32m     33\u001B[0m \u001B[38;5;28;01mtry\u001B[39;00m:\n\u001B[1;32m---> 34\u001B[0m     \u001B[38;5;28mself\u001B[39m\u001B[38;5;241m.\u001B[39m_on_error(error)\n\u001B[0;32m     35\u001B[0m \u001B[38;5;28;01mfinally\u001B[39;00m:\n\u001B[0;32m     36\u001B[0m     \u001B[38;5;28mself\u001B[39m\u001B[38;5;241m.\u001B[39mdispose()\n",
      "File \u001B[1;32m~\\miniconda3\\envs\\pythonProject\\Lib\\site-packages\\rx\\core\\operators\\do.py:52\u001B[0m, in \u001B[0;36m_do_action.<locals>.do_action.<locals>.subscribe.<locals>._on_error\u001B[1;34m(exception)\u001B[0m\n\u001B[0;32m     50\u001B[0m \u001B[38;5;28;01mdef\u001B[39;00m \u001B[38;5;21m_on_error\u001B[39m(exception):\n\u001B[0;32m     51\u001B[0m     \u001B[38;5;28;01mif\u001B[39;00m \u001B[38;5;129;01mnot\u001B[39;00m on_error:\n\u001B[1;32m---> 52\u001B[0m         observer\u001B[38;5;241m.\u001B[39mon_error(exception)\n\u001B[0;32m     53\u001B[0m     \u001B[38;5;28;01melse\u001B[39;00m:\n\u001B[0;32m     54\u001B[0m         \u001B[38;5;28;01mtry\u001B[39;00m:\n",
      "File \u001B[1;32m~\\miniconda3\\envs\\pythonProject\\Lib\\site-packages\\rx\\core\\observer\\autodetachobserver.py:34\u001B[0m, in \u001B[0;36mAutoDetachObserver.on_error\u001B[1;34m(self, error)\u001B[0m\n\u001B[0;32m     31\u001B[0m \u001B[38;5;28mself\u001B[39m\u001B[38;5;241m.\u001B[39mis_stopped \u001B[38;5;241m=\u001B[39m \u001B[38;5;28;01mTrue\u001B[39;00m\n\u001B[0;32m     33\u001B[0m \u001B[38;5;28;01mtry\u001B[39;00m:\n\u001B[1;32m---> 34\u001B[0m     \u001B[38;5;28mself\u001B[39m\u001B[38;5;241m.\u001B[39m_on_error(error)\n\u001B[0;32m     35\u001B[0m \u001B[38;5;28;01mfinally\u001B[39;00m:\n\u001B[0;32m     36\u001B[0m     \u001B[38;5;28mself\u001B[39m\u001B[38;5;241m.\u001B[39mdispose()\n",
      "File \u001B[1;32m~\\miniconda3\\envs\\pythonProject\\Lib\\site-packages\\rx\\core\\observer\\autodetachobserver.py:34\u001B[0m, in \u001B[0;36mAutoDetachObserver.on_error\u001B[1;34m(self, error)\u001B[0m\n\u001B[0;32m     31\u001B[0m \u001B[38;5;28mself\u001B[39m\u001B[38;5;241m.\u001B[39mis_stopped \u001B[38;5;241m=\u001B[39m \u001B[38;5;28;01mTrue\u001B[39;00m\n\u001B[0;32m     33\u001B[0m \u001B[38;5;28;01mtry\u001B[39;00m:\n\u001B[1;32m---> 34\u001B[0m     \u001B[38;5;28mself\u001B[39m\u001B[38;5;241m.\u001B[39m_on_error(error)\n\u001B[0;32m     35\u001B[0m \u001B[38;5;28;01mfinally\u001B[39;00m:\n\u001B[0;32m     36\u001B[0m     \u001B[38;5;28mself\u001B[39m\u001B[38;5;241m.\u001B[39mdispose()\n",
      "    \u001B[1;31m[... skipping similar frames: AutoDetachObserver.on_error at line 34 (1 times)]\u001B[0m\n",
      "File \u001B[1;32m~\\miniconda3\\envs\\pythonProject\\Lib\\site-packages\\rx\\core\\observer\\autodetachobserver.py:34\u001B[0m, in \u001B[0;36mAutoDetachObserver.on_error\u001B[1;34m(self, error)\u001B[0m\n\u001B[0;32m     31\u001B[0m \u001B[38;5;28mself\u001B[39m\u001B[38;5;241m.\u001B[39mis_stopped \u001B[38;5;241m=\u001B[39m \u001B[38;5;28;01mTrue\u001B[39;00m\n\u001B[0;32m     33\u001B[0m \u001B[38;5;28;01mtry\u001B[39;00m:\n\u001B[1;32m---> 34\u001B[0m     \u001B[38;5;28mself\u001B[39m\u001B[38;5;241m.\u001B[39m_on_error(error)\n\u001B[0;32m     35\u001B[0m \u001B[38;5;28;01mfinally\u001B[39;00m:\n\u001B[0;32m     36\u001B[0m     \u001B[38;5;28mself\u001B[39m\u001B[38;5;241m.\u001B[39mdispose()\n",
      "File \u001B[1;32m~\\miniconda3\\envs\\pythonProject\\Lib\\site-packages\\rx\\core\\operators\\do.py:59\u001B[0m, in \u001B[0;36m_do_action.<locals>.do_action.<locals>.subscribe.<locals>._on_error\u001B[1;34m(exception)\u001B[0m\n\u001B[0;32m     56\u001B[0m \u001B[38;5;28;01mexcept\u001B[39;00m \u001B[38;5;167;01mException\u001B[39;00m \u001B[38;5;28;01mas\u001B[39;00m e:  \u001B[38;5;66;03m# pylint: disable=broad-except\u001B[39;00m\n\u001B[0;32m     57\u001B[0m     observer\u001B[38;5;241m.\u001B[39mon_error(e)\n\u001B[1;32m---> 59\u001B[0m observer\u001B[38;5;241m.\u001B[39mon_error(exception)\n",
      "File \u001B[1;32m~\\miniconda3\\envs\\pythonProject\\Lib\\site-packages\\rx\\core\\observer\\autodetachobserver.py:34\u001B[0m, in \u001B[0;36mAutoDetachObserver.on_error\u001B[1;34m(self, error)\u001B[0m\n\u001B[0;32m     31\u001B[0m \u001B[38;5;28mself\u001B[39m\u001B[38;5;241m.\u001B[39mis_stopped \u001B[38;5;241m=\u001B[39m \u001B[38;5;28;01mTrue\u001B[39;00m\n\u001B[0;32m     33\u001B[0m \u001B[38;5;28;01mtry\u001B[39;00m:\n\u001B[1;32m---> 34\u001B[0m     \u001B[38;5;28mself\u001B[39m\u001B[38;5;241m.\u001B[39m_on_error(error)\n\u001B[0;32m     35\u001B[0m \u001B[38;5;28;01mfinally\u001B[39;00m:\n\u001B[0;32m     36\u001B[0m     \u001B[38;5;28mself\u001B[39m\u001B[38;5;241m.\u001B[39mdispose()\n",
      "File \u001B[1;32m~\\miniconda3\\envs\\pythonProject\\Lib\\site-packages\\rx\\core\\operators\\do.py:52\u001B[0m, in \u001B[0;36m_do_action.<locals>.do_action.<locals>.subscribe.<locals>._on_error\u001B[1;34m(exception)\u001B[0m\n\u001B[0;32m     50\u001B[0m \u001B[38;5;28;01mdef\u001B[39;00m \u001B[38;5;21m_on_error\u001B[39m(exception):\n\u001B[0;32m     51\u001B[0m     \u001B[38;5;28;01mif\u001B[39;00m \u001B[38;5;129;01mnot\u001B[39;00m on_error:\n\u001B[1;32m---> 52\u001B[0m         observer\u001B[38;5;241m.\u001B[39mon_error(exception)\n\u001B[0;32m     53\u001B[0m     \u001B[38;5;28;01melse\u001B[39;00m:\n\u001B[0;32m     54\u001B[0m         \u001B[38;5;28;01mtry\u001B[39;00m:\n",
      "File \u001B[1;32m~\\miniconda3\\envs\\pythonProject\\Lib\\site-packages\\rx\\core\\observer\\autodetachobserver.py:34\u001B[0m, in \u001B[0;36mAutoDetachObserver.on_error\u001B[1;34m(self, error)\u001B[0m\n\u001B[0;32m     31\u001B[0m \u001B[38;5;28mself\u001B[39m\u001B[38;5;241m.\u001B[39mis_stopped \u001B[38;5;241m=\u001B[39m \u001B[38;5;28;01mTrue\u001B[39;00m\n\u001B[0;32m     33\u001B[0m \u001B[38;5;28;01mtry\u001B[39;00m:\n\u001B[1;32m---> 34\u001B[0m     \u001B[38;5;28mself\u001B[39m\u001B[38;5;241m.\u001B[39m_on_error(error)\n\u001B[0;32m     35\u001B[0m \u001B[38;5;28;01mfinally\u001B[39;00m:\n\u001B[0;32m     36\u001B[0m     \u001B[38;5;28mself\u001B[39m\u001B[38;5;241m.\u001B[39mdispose()\n",
      "File \u001B[1;32m~\\miniconda3\\envs\\pythonProject\\Lib\\site-packages\\rx\\core\\operators\\do.py:59\u001B[0m, in \u001B[0;36m_do_action.<locals>.do_action.<locals>.subscribe.<locals>._on_error\u001B[1;34m(exception)\u001B[0m\n\u001B[0;32m     56\u001B[0m \u001B[38;5;28;01mexcept\u001B[39;00m \u001B[38;5;167;01mException\u001B[39;00m \u001B[38;5;28;01mas\u001B[39;00m e:  \u001B[38;5;66;03m# pylint: disable=broad-except\u001B[39;00m\n\u001B[0;32m     57\u001B[0m     observer\u001B[38;5;241m.\u001B[39mon_error(e)\n\u001B[1;32m---> 59\u001B[0m observer\u001B[38;5;241m.\u001B[39mon_error(exception)\n",
      "File \u001B[1;32m~\\miniconda3\\envs\\pythonProject\\Lib\\site-packages\\rx\\core\\observer\\autodetachobserver.py:34\u001B[0m, in \u001B[0;36mAutoDetachObserver.on_error\u001B[1;34m(self, error)\u001B[0m\n\u001B[0;32m     31\u001B[0m \u001B[38;5;28mself\u001B[39m\u001B[38;5;241m.\u001B[39mis_stopped \u001B[38;5;241m=\u001B[39m \u001B[38;5;28;01mTrue\u001B[39;00m\n\u001B[0;32m     33\u001B[0m \u001B[38;5;28;01mtry\u001B[39;00m:\n\u001B[1;32m---> 34\u001B[0m     \u001B[38;5;28mself\u001B[39m\u001B[38;5;241m.\u001B[39m_on_error(error)\n\u001B[0;32m     35\u001B[0m \u001B[38;5;28;01mfinally\u001B[39;00m:\n\u001B[0;32m     36\u001B[0m     \u001B[38;5;28mself\u001B[39m\u001B[38;5;241m.\u001B[39mdispose()\n",
      "File \u001B[1;32m~\\miniconda3\\envs\\pythonProject\\Lib\\site-packages\\rx\\core\\observer\\autodetachobserver.py:34\u001B[0m, in \u001B[0;36mAutoDetachObserver.on_error\u001B[1;34m(self, error)\u001B[0m\n\u001B[0;32m     31\u001B[0m \u001B[38;5;28mself\u001B[39m\u001B[38;5;241m.\u001B[39mis_stopped \u001B[38;5;241m=\u001B[39m \u001B[38;5;28;01mTrue\u001B[39;00m\n\u001B[0;32m     33\u001B[0m \u001B[38;5;28;01mtry\u001B[39;00m:\n\u001B[1;32m---> 34\u001B[0m     \u001B[38;5;28mself\u001B[39m\u001B[38;5;241m.\u001B[39m_on_error(error)\n\u001B[0;32m     35\u001B[0m \u001B[38;5;28;01mfinally\u001B[39;00m:\n\u001B[0;32m     36\u001B[0m     \u001B[38;5;28mself\u001B[39m\u001B[38;5;241m.\u001B[39mdispose()\n",
      "    \u001B[1;31m[... skipping similar frames: AutoDetachObserver.on_error at line 34 (1 times)]\u001B[0m\n",
      "File \u001B[1;32m~\\miniconda3\\envs\\pythonProject\\Lib\\site-packages\\rx\\core\\observer\\autodetachobserver.py:34\u001B[0m, in \u001B[0;36mAutoDetachObserver.on_error\u001B[1;34m(self, error)\u001B[0m\n\u001B[0;32m     31\u001B[0m \u001B[38;5;28mself\u001B[39m\u001B[38;5;241m.\u001B[39mis_stopped \u001B[38;5;241m=\u001B[39m \u001B[38;5;28;01mTrue\u001B[39;00m\n\u001B[0;32m     33\u001B[0m \u001B[38;5;28;01mtry\u001B[39;00m:\n\u001B[1;32m---> 34\u001B[0m     \u001B[38;5;28mself\u001B[39m\u001B[38;5;241m.\u001B[39m_on_error(error)\n\u001B[0;32m     35\u001B[0m \u001B[38;5;28;01mfinally\u001B[39;00m:\n\u001B[0;32m     36\u001B[0m     \u001B[38;5;28mself\u001B[39m\u001B[38;5;241m.\u001B[39mdispose()\n",
      "File \u001B[1;32m~\\miniconda3\\envs\\pythonProject\\Lib\\site-packages\\rx\\core\\operators\\do.py:55\u001B[0m, in \u001B[0;36m_do_action.<locals>.do_action.<locals>.subscribe.<locals>._on_error\u001B[1;34m(exception)\u001B[0m\n\u001B[0;32m     53\u001B[0m \u001B[38;5;28;01melse\u001B[39;00m:\n\u001B[0;32m     54\u001B[0m     \u001B[38;5;28;01mtry\u001B[39;00m:\n\u001B[1;32m---> 55\u001B[0m         on_error(exception)\n\u001B[0;32m     56\u001B[0m     \u001B[38;5;28;01mexcept\u001B[39;00m \u001B[38;5;167;01mException\u001B[39;00m \u001B[38;5;28;01mas\u001B[39;00m e:  \u001B[38;5;66;03m# pylint: disable=broad-except\u001B[39;00m\n\u001B[0;32m     57\u001B[0m         observer\u001B[38;5;241m.\u001B[39mon_error(e)\n",
      "File \u001B[1;32m~\\miniconda3\\envs\\pythonProject\\Lib\\site-packages\\rx\\core\\observer\\observer.py:43\u001B[0m, in \u001B[0;36mObserver.on_error\u001B[1;34m(self, error)\u001B[0m\n\u001B[0;32m     41\u001B[0m \u001B[38;5;28;01mif\u001B[39;00m \u001B[38;5;129;01mnot\u001B[39;00m \u001B[38;5;28mself\u001B[39m\u001B[38;5;241m.\u001B[39mis_stopped:\n\u001B[0;32m     42\u001B[0m     \u001B[38;5;28mself\u001B[39m\u001B[38;5;241m.\u001B[39mis_stopped \u001B[38;5;241m=\u001B[39m \u001B[38;5;28;01mTrue\u001B[39;00m\n\u001B[1;32m---> 43\u001B[0m     \u001B[38;5;28mself\u001B[39m\u001B[38;5;241m.\u001B[39m_on_error_core(error)\n",
      "File \u001B[1;32m~\\miniconda3\\envs\\pythonProject\\Lib\\site-packages\\rx\\core\\observer\\observer.py:49\u001B[0m, in \u001B[0;36mObserver._on_error_core\u001B[1;34m(self, error)\u001B[0m\n\u001B[0;32m     45\u001B[0m \u001B[38;5;28;01mdef\u001B[39;00m \u001B[38;5;21m_on_error_core\u001B[39m(\u001B[38;5;28mself\u001B[39m, error: \u001B[38;5;167;01mException\u001B[39;00m) \u001B[38;5;241m-\u001B[39m\u001B[38;5;241m>\u001B[39m \u001B[38;5;28;01mNone\u001B[39;00m:\n\u001B[0;32m     46\u001B[0m \u001B[38;5;250m    \u001B[39m\u001B[38;5;124;03m\"\"\"For Subclassing purpose. This method is called by `on_error()`\u001B[39;00m\n\u001B[0;32m     47\u001B[0m \u001B[38;5;124;03m    method until the observer is stopped.\u001B[39;00m\n\u001B[0;32m     48\u001B[0m \u001B[38;5;124;03m    \"\"\"\u001B[39;00m\n\u001B[1;32m---> 49\u001B[0m     \u001B[38;5;28mself\u001B[39m\u001B[38;5;241m.\u001B[39m_handler_on_error(error)\n",
      "File \u001B[1;32m~\\miniconda3\\envs\\pythonProject\\Lib\\site-packages\\rx\\internal\\basic.py:34\u001B[0m, in \u001B[0;36mdefault_error\u001B[1;34m(err)\u001B[0m\n\u001B[0;32m     32\u001B[0m \u001B[38;5;28;01mdef\u001B[39;00m \u001B[38;5;21mdefault_error\u001B[39m(err) \u001B[38;5;241m-\u001B[39m\u001B[38;5;241m>\u001B[39m \u001B[38;5;167;01mException\u001B[39;00m:\n\u001B[0;32m     33\u001B[0m     \u001B[38;5;28;01mif\u001B[39;00m \u001B[38;5;28misinstance\u001B[39m(err, \u001B[38;5;167;01mBaseException\u001B[39;00m):\n\u001B[1;32m---> 34\u001B[0m         \u001B[38;5;28;01mraise\u001B[39;00m err\n\u001B[0;32m     35\u001B[0m     \u001B[38;5;28;01melse\u001B[39;00m:\n\u001B[0;32m     36\u001B[0m         \u001B[38;5;28;01mraise\u001B[39;00m \u001B[38;5;167;01mException\u001B[39;00m(err)\n",
      "File \u001B[1;32m~\\miniconda3\\envs\\pythonProject\\Lib\\site-packages\\diart\\sources.py:192\u001B[0m, in \u001B[0;36mMicrophoneAudioSource.read\u001B[1;34m(self)\u001B[0m\n\u001B[0;32m    190\u001B[0m         \u001B[38;5;28;01mif\u001B[39;00m \u001B[38;5;28mself\u001B[39m\u001B[38;5;241m.\u001B[39m_mic_stream\u001B[38;5;241m.\u001B[39mclosed:\n\u001B[0;32m    191\u001B[0m             \u001B[38;5;28;01mbreak\u001B[39;00m\n\u001B[1;32m--> 192\u001B[0m     \u001B[38;5;28mself\u001B[39m\u001B[38;5;241m.\u001B[39mstream\u001B[38;5;241m.\u001B[39mon_next(\u001B[38;5;28mself\u001B[39m\u001B[38;5;241m.\u001B[39m_queue\u001B[38;5;241m.\u001B[39mget_nowait())\n\u001B[0;32m    193\u001B[0m \u001B[38;5;28;01mexcept\u001B[39;00m \u001B[38;5;167;01mBaseException\u001B[39;00m \u001B[38;5;28;01mas\u001B[39;00m e:\n\u001B[0;32m    194\u001B[0m     \u001B[38;5;28mself\u001B[39m\u001B[38;5;241m.\u001B[39mstream\u001B[38;5;241m.\u001B[39mon_error(e)\n",
      "File \u001B[1;32m~\\miniconda3\\envs\\pythonProject\\Lib\\site-packages\\rx\\subject\\subject.py:55\u001B[0m, in \u001B[0;36mSubject.on_next\u001B[1;34m(self, value)\u001B[0m\n\u001B[0;32m     53\u001B[0m \u001B[38;5;28;01mwith\u001B[39;00m \u001B[38;5;28mself\u001B[39m\u001B[38;5;241m.\u001B[39mlock:\n\u001B[0;32m     54\u001B[0m     \u001B[38;5;28mself\u001B[39m\u001B[38;5;241m.\u001B[39mcheck_disposed()\n\u001B[1;32m---> 55\u001B[0m \u001B[38;5;28msuper\u001B[39m()\u001B[38;5;241m.\u001B[39mon_next(value)\n",
      "File \u001B[1;32m~\\miniconda3\\envs\\pythonProject\\Lib\\site-packages\\rx\\core\\observer\\observer.py:26\u001B[0m, in \u001B[0;36mObserver.on_next\u001B[1;34m(self, value)\u001B[0m\n\u001B[0;32m     24\u001B[0m \u001B[38;5;250m\u001B[39m\u001B[38;5;124;03m\"\"\"Notify the observer of a new element in the sequence.\"\"\"\u001B[39;00m\n\u001B[0;32m     25\u001B[0m \u001B[38;5;28;01mif\u001B[39;00m \u001B[38;5;129;01mnot\u001B[39;00m \u001B[38;5;28mself\u001B[39m\u001B[38;5;241m.\u001B[39mis_stopped:\n\u001B[1;32m---> 26\u001B[0m     \u001B[38;5;28mself\u001B[39m\u001B[38;5;241m.\u001B[39m_on_next_core(value)\n",
      "File \u001B[1;32m~\\miniconda3\\envs\\pythonProject\\Lib\\site-packages\\rx\\subject\\subject.py:62\u001B[0m, in \u001B[0;36mSubject._on_next_core\u001B[1;34m(self, value)\u001B[0m\n\u001B[0;32m     59\u001B[0m     observers \u001B[38;5;241m=\u001B[39m \u001B[38;5;28mself\u001B[39m\u001B[38;5;241m.\u001B[39mobservers\u001B[38;5;241m.\u001B[39mcopy()\n\u001B[0;32m     61\u001B[0m \u001B[38;5;28;01mfor\u001B[39;00m observer \u001B[38;5;129;01min\u001B[39;00m observers:\n\u001B[1;32m---> 62\u001B[0m     observer\u001B[38;5;241m.\u001B[39mon_next(value)\n",
      "File \u001B[1;32m~\\miniconda3\\envs\\pythonProject\\Lib\\site-packages\\rx\\core\\observer\\autodetachobserver.py:26\u001B[0m, in \u001B[0;36mAutoDetachObserver.on_next\u001B[1;34m(self, value)\u001B[0m\n\u001B[0;32m     24\u001B[0m \u001B[38;5;28;01mif\u001B[39;00m \u001B[38;5;28mself\u001B[39m\u001B[38;5;241m.\u001B[39mis_stopped:\n\u001B[0;32m     25\u001B[0m     \u001B[38;5;28;01mreturn\u001B[39;00m\n\u001B[1;32m---> 26\u001B[0m \u001B[38;5;28mself\u001B[39m\u001B[38;5;241m.\u001B[39m_on_next(value)\n",
      "File \u001B[1;32m~\\miniconda3\\envs\\pythonProject\\Lib\\site-packages\\rx\\core\\operators\\map.py:41\u001B[0m, in \u001B[0;36m_map.<locals>.map.<locals>.subscribe.<locals>.on_next\u001B[1;34m(value)\u001B[0m\n\u001B[0;32m     39\u001B[0m     obv\u001B[38;5;241m.\u001B[39mon_error(err)\n\u001B[0;32m     40\u001B[0m \u001B[38;5;28;01melse\u001B[39;00m:\n\u001B[1;32m---> 41\u001B[0m     obv\u001B[38;5;241m.\u001B[39mon_next(result)\n",
      "File \u001B[1;32m~\\miniconda3\\envs\\pythonProject\\Lib\\site-packages\\rx\\core\\observer\\autodetachobserver.py:26\u001B[0m, in \u001B[0;36mAutoDetachObserver.on_next\u001B[1;34m(self, value)\u001B[0m\n\u001B[0;32m     24\u001B[0m \u001B[38;5;28;01mif\u001B[39;00m \u001B[38;5;28mself\u001B[39m\u001B[38;5;241m.\u001B[39mis_stopped:\n\u001B[0;32m     25\u001B[0m     \u001B[38;5;28;01mreturn\u001B[39;00m\n\u001B[1;32m---> 26\u001B[0m \u001B[38;5;28mself\u001B[39m\u001B[38;5;241m.\u001B[39m_on_next(value)\n",
      "File \u001B[1;32m~\\miniconda3\\envs\\pythonProject\\Lib\\site-packages\\rx\\core\\observer\\autodetachobserver.py:26\u001B[0m, in \u001B[0;36mAutoDetachObserver.on_next\u001B[1;34m(self, value)\u001B[0m\n\u001B[0;32m     24\u001B[0m \u001B[38;5;28;01mif\u001B[39;00m \u001B[38;5;28mself\u001B[39m\u001B[38;5;241m.\u001B[39mis_stopped:\n\u001B[0;32m     25\u001B[0m     \u001B[38;5;28;01mreturn\u001B[39;00m\n\u001B[1;32m---> 26\u001B[0m \u001B[38;5;28mself\u001B[39m\u001B[38;5;241m.\u001B[39m_on_next(value)\n",
      "File \u001B[1;32m~\\miniconda3\\envs\\pythonProject\\Lib\\site-packages\\rx\\core\\operators\\filter.py:34\u001B[0m, in \u001B[0;36m_filter.<locals>.filter.<locals>.subscribe.<locals>.on_next\u001B[1;34m(value)\u001B[0m\n\u001B[0;32m     31\u001B[0m     \u001B[38;5;28;01mreturn\u001B[39;00m\n\u001B[0;32m     33\u001B[0m \u001B[38;5;28;01mif\u001B[39;00m should_run:\n\u001B[1;32m---> 34\u001B[0m     observer\u001B[38;5;241m.\u001B[39mon_next(value)\n",
      "File \u001B[1;32m~\\miniconda3\\envs\\pythonProject\\Lib\\site-packages\\rx\\core\\observer\\autodetachobserver.py:26\u001B[0m, in \u001B[0;36mAutoDetachObserver.on_next\u001B[1;34m(self, value)\u001B[0m\n\u001B[0;32m     24\u001B[0m \u001B[38;5;28;01mif\u001B[39;00m \u001B[38;5;28mself\u001B[39m\u001B[38;5;241m.\u001B[39mis_stopped:\n\u001B[0;32m     25\u001B[0m     \u001B[38;5;28;01mreturn\u001B[39;00m\n\u001B[1;32m---> 26\u001B[0m \u001B[38;5;28mself\u001B[39m\u001B[38;5;241m.\u001B[39m_on_next(value)\n",
      "File \u001B[1;32m~\\miniconda3\\envs\\pythonProject\\Lib\\site-packages\\rx\\core\\operators\\filter.py:34\u001B[0m, in \u001B[0;36m_filter.<locals>.filter.<locals>.subscribe.<locals>.on_next\u001B[1;34m(value)\u001B[0m\n\u001B[0;32m     31\u001B[0m     \u001B[38;5;28;01mreturn\u001B[39;00m\n\u001B[0;32m     33\u001B[0m \u001B[38;5;28;01mif\u001B[39;00m should_run:\n\u001B[1;32m---> 34\u001B[0m     observer\u001B[38;5;241m.\u001B[39mon_next(value)\n",
      "File \u001B[1;32m~\\miniconda3\\envs\\pythonProject\\Lib\\site-packages\\rx\\core\\observer\\autodetachobserver.py:26\u001B[0m, in \u001B[0;36mAutoDetachObserver.on_next\u001B[1;34m(self, value)\u001B[0m\n\u001B[0;32m     24\u001B[0m \u001B[38;5;28;01mif\u001B[39;00m \u001B[38;5;28mself\u001B[39m\u001B[38;5;241m.\u001B[39mis_stopped:\n\u001B[0;32m     25\u001B[0m     \u001B[38;5;28;01mreturn\u001B[39;00m\n\u001B[1;32m---> 26\u001B[0m \u001B[38;5;28mself\u001B[39m\u001B[38;5;241m.\u001B[39m_on_next(value)\n",
      "File \u001B[1;32m~\\miniconda3\\envs\\pythonProject\\Lib\\site-packages\\rx\\core\\operators\\map.py:41\u001B[0m, in \u001B[0;36m_map.<locals>.map.<locals>.subscribe.<locals>.on_next\u001B[1;34m(value)\u001B[0m\n\u001B[0;32m     39\u001B[0m     obv\u001B[38;5;241m.\u001B[39mon_error(err)\n\u001B[0;32m     40\u001B[0m \u001B[38;5;28;01melse\u001B[39;00m:\n\u001B[1;32m---> 41\u001B[0m     obv\u001B[38;5;241m.\u001B[39mon_next(result)\n",
      "File \u001B[1;32m~\\miniconda3\\envs\\pythonProject\\Lib\\site-packages\\rx\\core\\observer\\autodetachobserver.py:26\u001B[0m, in \u001B[0;36mAutoDetachObserver.on_next\u001B[1;34m(self, value)\u001B[0m\n\u001B[0;32m     24\u001B[0m \u001B[38;5;28;01mif\u001B[39;00m \u001B[38;5;28mself\u001B[39m\u001B[38;5;241m.\u001B[39mis_stopped:\n\u001B[0;32m     25\u001B[0m     \u001B[38;5;28;01mreturn\u001B[39;00m\n\u001B[1;32m---> 26\u001B[0m \u001B[38;5;28mself\u001B[39m\u001B[38;5;241m.\u001B[39m_on_next(value)\n",
      "File \u001B[1;32m~\\miniconda3\\envs\\pythonProject\\Lib\\site-packages\\rx\\core\\operators\\windowwithcount.py:61\u001B[0m, in \u001B[0;36m_window_with_count.<locals>.window_with_count.<locals>.subscribe.<locals>.on_next\u001B[1;34m(x)\u001B[0m\n\u001B[0;32m     59\u001B[0m \u001B[38;5;28;01mif\u001B[39;00m c \u001B[38;5;241m>\u001B[39m\u001B[38;5;241m=\u001B[39m \u001B[38;5;241m0\u001B[39m \u001B[38;5;129;01mand\u001B[39;00m c \u001B[38;5;241m%\u001B[39m skip \u001B[38;5;241m==\u001B[39m \u001B[38;5;241m0\u001B[39m:\n\u001B[0;32m     60\u001B[0m     s \u001B[38;5;241m=\u001B[39m q\u001B[38;5;241m.\u001B[39mpop(\u001B[38;5;241m0\u001B[39m)\n\u001B[1;32m---> 61\u001B[0m     s\u001B[38;5;241m.\u001B[39mon_completed()\n\u001B[0;32m     63\u001B[0m n[\u001B[38;5;241m0\u001B[39m] \u001B[38;5;241m+\u001B[39m\u001B[38;5;241m=\u001B[39m \u001B[38;5;241m1\u001B[39m\n\u001B[0;32m     64\u001B[0m \u001B[38;5;28;01mif\u001B[39;00m (n[\u001B[38;5;241m0\u001B[39m] \u001B[38;5;241m%\u001B[39m skip) \u001B[38;5;241m==\u001B[39m \u001B[38;5;241m0\u001B[39m:\n",
      "File \u001B[1;32m~\\miniconda3\\envs\\pythonProject\\Lib\\site-packages\\rx\\subject\\subject.py:89\u001B[0m, in \u001B[0;36mSubject.on_completed\u001B[1;34m(self)\u001B[0m\n\u001B[0;32m     87\u001B[0m \u001B[38;5;28;01mwith\u001B[39;00m \u001B[38;5;28mself\u001B[39m\u001B[38;5;241m.\u001B[39mlock:\n\u001B[0;32m     88\u001B[0m     \u001B[38;5;28mself\u001B[39m\u001B[38;5;241m.\u001B[39mcheck_disposed()\n\u001B[1;32m---> 89\u001B[0m \u001B[38;5;28msuper\u001B[39m()\u001B[38;5;241m.\u001B[39mon_completed()\n",
      "File \u001B[1;32m~\\miniconda3\\envs\\pythonProject\\Lib\\site-packages\\rx\\core\\observer\\observer.py:56\u001B[0m, in \u001B[0;36mObserver.on_completed\u001B[1;34m(self)\u001B[0m\n\u001B[0;32m     54\u001B[0m \u001B[38;5;28;01mif\u001B[39;00m \u001B[38;5;129;01mnot\u001B[39;00m \u001B[38;5;28mself\u001B[39m\u001B[38;5;241m.\u001B[39mis_stopped:\n\u001B[0;32m     55\u001B[0m     \u001B[38;5;28mself\u001B[39m\u001B[38;5;241m.\u001B[39mis_stopped \u001B[38;5;241m=\u001B[39m \u001B[38;5;28;01mTrue\u001B[39;00m\n\u001B[1;32m---> 56\u001B[0m     \u001B[38;5;28mself\u001B[39m\u001B[38;5;241m.\u001B[39m_on_completed_core()\n",
      "File \u001B[1;32m~\\miniconda3\\envs\\pythonProject\\Lib\\site-packages\\rx\\subject\\subject.py:97\u001B[0m, in \u001B[0;36mSubject._on_completed_core\u001B[1;34m(self)\u001B[0m\n\u001B[0;32m     94\u001B[0m     \u001B[38;5;28mself\u001B[39m\u001B[38;5;241m.\u001B[39mobservers\u001B[38;5;241m.\u001B[39mclear()\n\u001B[0;32m     96\u001B[0m \u001B[38;5;28;01mfor\u001B[39;00m observer \u001B[38;5;129;01min\u001B[39;00m observers:\n\u001B[1;32m---> 97\u001B[0m     observer\u001B[38;5;241m.\u001B[39mon_completed()\n",
      "File \u001B[1;32m~\\miniconda3\\envs\\pythonProject\\Lib\\site-packages\\rx\\core\\observer\\autodetachobserver.py:44\u001B[0m, in \u001B[0;36mAutoDetachObserver.on_completed\u001B[1;34m(self)\u001B[0m\n\u001B[0;32m     41\u001B[0m \u001B[38;5;28mself\u001B[39m\u001B[38;5;241m.\u001B[39mis_stopped \u001B[38;5;241m=\u001B[39m \u001B[38;5;28;01mTrue\u001B[39;00m\n\u001B[0;32m     43\u001B[0m \u001B[38;5;28;01mtry\u001B[39;00m:\n\u001B[1;32m---> 44\u001B[0m     \u001B[38;5;28mself\u001B[39m\u001B[38;5;241m.\u001B[39m_on_completed()\n\u001B[0;32m     45\u001B[0m \u001B[38;5;28;01mfinally\u001B[39;00m:\n\u001B[0;32m     46\u001B[0m     \u001B[38;5;28mself\u001B[39m\u001B[38;5;241m.\u001B[39mdispose()\n",
      "File \u001B[1;32m~\\miniconda3\\envs\\pythonProject\\Lib\\site-packages\\rx\\core\\observer\\autodetachobserver.py:44\u001B[0m, in \u001B[0;36mAutoDetachObserver.on_completed\u001B[1;34m(self)\u001B[0m\n\u001B[0;32m     41\u001B[0m \u001B[38;5;28mself\u001B[39m\u001B[38;5;241m.\u001B[39mis_stopped \u001B[38;5;241m=\u001B[39m \u001B[38;5;28;01mTrue\u001B[39;00m\n\u001B[0;32m     43\u001B[0m \u001B[38;5;28;01mtry\u001B[39;00m:\n\u001B[1;32m---> 44\u001B[0m     \u001B[38;5;28mself\u001B[39m\u001B[38;5;241m.\u001B[39m_on_completed()\n\u001B[0;32m     45\u001B[0m \u001B[38;5;28;01mfinally\u001B[39;00m:\n\u001B[0;32m     46\u001B[0m     \u001B[38;5;28mself\u001B[39m\u001B[38;5;241m.\u001B[39mdispose()\n",
      "File \u001B[1;32m~\\miniconda3\\envs\\pythonProject\\Lib\\site-packages\\rx\\core\\operators\\toiterable.py:24\u001B[0m, in \u001B[0;36m_to_iterable.<locals>.to_iterable.<locals>.subscribe.<locals>.on_completed\u001B[1;34m()\u001B[0m\n\u001B[0;32m     22\u001B[0m \u001B[38;5;28;01mdef\u001B[39;00m \u001B[38;5;21mon_completed\u001B[39m():\n\u001B[0;32m     23\u001B[0m     \u001B[38;5;28;01mnonlocal\u001B[39;00m queue\n\u001B[1;32m---> 24\u001B[0m     observer\u001B[38;5;241m.\u001B[39mon_next(queue)\n\u001B[0;32m     25\u001B[0m     queue \u001B[38;5;241m=\u001B[39m []\n\u001B[0;32m     26\u001B[0m     observer\u001B[38;5;241m.\u001B[39mon_completed()\n",
      "File \u001B[1;32m~\\miniconda3\\envs\\pythonProject\\Lib\\site-packages\\rx\\core\\observer\\autodetachobserver.py:26\u001B[0m, in \u001B[0;36mAutoDetachObserver.on_next\u001B[1;34m(self, value)\u001B[0m\n\u001B[0;32m     24\u001B[0m \u001B[38;5;28;01mif\u001B[39;00m \u001B[38;5;28mself\u001B[39m\u001B[38;5;241m.\u001B[39mis_stopped:\n\u001B[0;32m     25\u001B[0m     \u001B[38;5;28;01mreturn\u001B[39;00m\n\u001B[1;32m---> 26\u001B[0m \u001B[38;5;28mself\u001B[39m\u001B[38;5;241m.\u001B[39m_on_next(value)\n",
      "File \u001B[1;32m~\\miniconda3\\envs\\pythonProject\\Lib\\site-packages\\rx\\core\\operators\\map.py:41\u001B[0m, in \u001B[0;36m_map.<locals>.map.<locals>.subscribe.<locals>.on_next\u001B[1;34m(value)\u001B[0m\n\u001B[0;32m     39\u001B[0m     obv\u001B[38;5;241m.\u001B[39mon_error(err)\n\u001B[0;32m     40\u001B[0m \u001B[38;5;28;01melse\u001B[39;00m:\n\u001B[1;32m---> 41\u001B[0m     obv\u001B[38;5;241m.\u001B[39mon_next(result)\n",
      "File \u001B[1;32m~\\miniconda3\\envs\\pythonProject\\Lib\\site-packages\\rx\\core\\observer\\autodetachobserver.py:26\u001B[0m, in \u001B[0;36mAutoDetachObserver.on_next\u001B[1;34m(self, value)\u001B[0m\n\u001B[0;32m     24\u001B[0m \u001B[38;5;28;01mif\u001B[39;00m \u001B[38;5;28mself\u001B[39m\u001B[38;5;241m.\u001B[39mis_stopped:\n\u001B[0;32m     25\u001B[0m     \u001B[38;5;28;01mreturn\u001B[39;00m\n\u001B[1;32m---> 26\u001B[0m \u001B[38;5;28mself\u001B[39m\u001B[38;5;241m.\u001B[39m_on_next(value)\n",
      "File \u001B[1;32m~\\miniconda3\\envs\\pythonProject\\Lib\\site-packages\\rx\\internal\\concurrency.py:16\u001B[0m, in \u001B[0;36msynchronized.<locals>.wrapper.<locals>.inner\u001B[1;34m(*args, **kw)\u001B[0m\n\u001B[0;32m     14\u001B[0m \u001B[38;5;28;01mdef\u001B[39;00m \u001B[38;5;21minner\u001B[39m(\u001B[38;5;241m*\u001B[39margs, \u001B[38;5;241m*\u001B[39m\u001B[38;5;241m*\u001B[39mkw):\n\u001B[0;32m     15\u001B[0m     \u001B[38;5;28;01mwith\u001B[39;00m lock:\n\u001B[1;32m---> 16\u001B[0m         \u001B[38;5;28;01mreturn\u001B[39;00m fn(\u001B[38;5;241m*\u001B[39margs, \u001B[38;5;241m*\u001B[39m\u001B[38;5;241m*\u001B[39mkw)\n",
      "File \u001B[1;32m~\\miniconda3\\envs\\pythonProject\\Lib\\site-packages\\rx\\core\\observer\\autodetachobserver.py:26\u001B[0m, in \u001B[0;36mAutoDetachObserver.on_next\u001B[1;34m(self, value)\u001B[0m\n\u001B[0;32m     24\u001B[0m \u001B[38;5;28;01mif\u001B[39;00m \u001B[38;5;28mself\u001B[39m\u001B[38;5;241m.\u001B[39mis_stopped:\n\u001B[0;32m     25\u001B[0m     \u001B[38;5;28;01mreturn\u001B[39;00m\n\u001B[1;32m---> 26\u001B[0m \u001B[38;5;28mself\u001B[39m\u001B[38;5;241m.\u001B[39m_on_next(value)\n",
      "File \u001B[1;32m~\\miniconda3\\envs\\pythonProject\\Lib\\site-packages\\rx\\core\\operators\\filter.py:34\u001B[0m, in \u001B[0;36m_filter.<locals>.filter.<locals>.subscribe.<locals>.on_next\u001B[1;34m(value)\u001B[0m\n\u001B[0;32m     31\u001B[0m     \u001B[38;5;28;01mreturn\u001B[39;00m\n\u001B[0;32m     33\u001B[0m \u001B[38;5;28;01mif\u001B[39;00m should_run:\n\u001B[1;32m---> 34\u001B[0m     observer\u001B[38;5;241m.\u001B[39mon_next(value)\n",
      "File \u001B[1;32m~\\miniconda3\\envs\\pythonProject\\Lib\\site-packages\\rx\\core\\observer\\autodetachobserver.py:26\u001B[0m, in \u001B[0;36mAutoDetachObserver.on_next\u001B[1;34m(self, value)\u001B[0m\n\u001B[0;32m     24\u001B[0m \u001B[38;5;28;01mif\u001B[39;00m \u001B[38;5;28mself\u001B[39m\u001B[38;5;241m.\u001B[39mis_stopped:\n\u001B[0;32m     25\u001B[0m     \u001B[38;5;28;01mreturn\u001B[39;00m\n\u001B[1;32m---> 26\u001B[0m \u001B[38;5;28mself\u001B[39m\u001B[38;5;241m.\u001B[39m_on_next(value)\n",
      "File \u001B[1;32m~\\miniconda3\\envs\\pythonProject\\Lib\\site-packages\\rx\\core\\operators\\do.py:48\u001B[0m, in \u001B[0;36m_do_action.<locals>.do_action.<locals>.subscribe.<locals>._on_next\u001B[1;34m(x)\u001B[0m\n\u001B[0;32m     45\u001B[0m \u001B[38;5;28;01mexcept\u001B[39;00m \u001B[38;5;167;01mException\u001B[39;00m \u001B[38;5;28;01mas\u001B[39;00m e:  \u001B[38;5;66;03m# pylint: disable=broad-except\u001B[39;00m\n\u001B[0;32m     46\u001B[0m     observer\u001B[38;5;241m.\u001B[39mon_error(e)\n\u001B[1;32m---> 48\u001B[0m observer\u001B[38;5;241m.\u001B[39mon_next(x)\n",
      "File \u001B[1;32m~\\miniconda3\\envs\\pythonProject\\Lib\\site-packages\\rx\\core\\observer\\autodetachobserver.py:26\u001B[0m, in \u001B[0;36mAutoDetachObserver.on_next\u001B[1;34m(self, value)\u001B[0m\n\u001B[0;32m     24\u001B[0m \u001B[38;5;28;01mif\u001B[39;00m \u001B[38;5;28mself\u001B[39m\u001B[38;5;241m.\u001B[39mis_stopped:\n\u001B[0;32m     25\u001B[0m     \u001B[38;5;28;01mreturn\u001B[39;00m\n\u001B[1;32m---> 26\u001B[0m \u001B[38;5;28mself\u001B[39m\u001B[38;5;241m.\u001B[39m_on_next(value)\n",
      "File \u001B[1;32m~\\miniconda3\\envs\\pythonProject\\Lib\\site-packages\\rx\\core\\operators\\map.py:41\u001B[0m, in \u001B[0;36m_map.<locals>.map.<locals>.subscribe.<locals>.on_next\u001B[1;34m(value)\u001B[0m\n\u001B[0;32m     39\u001B[0m     obv\u001B[38;5;241m.\u001B[39mon_error(err)\n\u001B[0;32m     40\u001B[0m \u001B[38;5;28;01melse\u001B[39;00m:\n\u001B[1;32m---> 41\u001B[0m     obv\u001B[38;5;241m.\u001B[39mon_next(result)\n",
      "    \u001B[1;31m[... skipping similar frames: AutoDetachObserver.on_next at line 26 (1 times)]\u001B[0m\n",
      "File \u001B[1;32m~\\miniconda3\\envs\\pythonProject\\Lib\\site-packages\\rx\\core\\operators\\do.py:48\u001B[0m, in \u001B[0;36m_do_action.<locals>.do_action.<locals>.subscribe.<locals>._on_next\u001B[1;34m(x)\u001B[0m\n\u001B[0;32m     45\u001B[0m \u001B[38;5;28;01mexcept\u001B[39;00m \u001B[38;5;167;01mException\u001B[39;00m \u001B[38;5;28;01mas\u001B[39;00m e:  \u001B[38;5;66;03m# pylint: disable=broad-except\u001B[39;00m\n\u001B[0;32m     46\u001B[0m     observer\u001B[38;5;241m.\u001B[39mon_error(e)\n\u001B[1;32m---> 48\u001B[0m observer\u001B[38;5;241m.\u001B[39mon_next(x)\n",
      "File \u001B[1;32m~\\miniconda3\\envs\\pythonProject\\Lib\\site-packages\\rx\\core\\observer\\autodetachobserver.py:26\u001B[0m, in \u001B[0;36mAutoDetachObserver.on_next\u001B[1;34m(self, value)\u001B[0m\n\u001B[0;32m     24\u001B[0m \u001B[38;5;28;01mif\u001B[39;00m \u001B[38;5;28mself\u001B[39m\u001B[38;5;241m.\u001B[39mis_stopped:\n\u001B[0;32m     25\u001B[0m     \u001B[38;5;28;01mreturn\u001B[39;00m\n\u001B[1;32m---> 26\u001B[0m \u001B[38;5;28mself\u001B[39m\u001B[38;5;241m.\u001B[39m_on_next(value)\n",
      "File \u001B[1;32m~\\miniconda3\\envs\\pythonProject\\Lib\\site-packages\\rx\\core\\operators\\zip.py:60\u001B[0m, in \u001B[0;36m_zip_with_iterable.<locals>.zip_with_iterable.<locals>.subscribe.<locals>.on_next\u001B[1;34m(left)\u001B[0m\n\u001B[0;32m     58\u001B[0m \u001B[38;5;28;01melse\u001B[39;00m:\n\u001B[0;32m     59\u001B[0m     result \u001B[38;5;241m=\u001B[39m (left, right)\n\u001B[1;32m---> 60\u001B[0m     observer\u001B[38;5;241m.\u001B[39mon_next(result)\n",
      "File \u001B[1;32m~\\miniconda3\\envs\\pythonProject\\Lib\\site-packages\\rx\\core\\observer\\autodetachobserver.py:26\u001B[0m, in \u001B[0;36mAutoDetachObserver.on_next\u001B[1;34m(self, value)\u001B[0m\n\u001B[0;32m     24\u001B[0m \u001B[38;5;28;01mif\u001B[39;00m \u001B[38;5;28mself\u001B[39m\u001B[38;5;241m.\u001B[39mis_stopped:\n\u001B[0;32m     25\u001B[0m     \u001B[38;5;28;01mreturn\u001B[39;00m\n\u001B[1;32m---> 26\u001B[0m \u001B[38;5;28mself\u001B[39m\u001B[38;5;241m.\u001B[39m_on_next(value)\n",
      "File \u001B[1;32m~\\miniconda3\\envs\\pythonProject\\Lib\\site-packages\\rx\\core\\operators\\map.py:41\u001B[0m, in \u001B[0;36m_map.<locals>.map.<locals>.subscribe.<locals>.on_next\u001B[1;34m(value)\u001B[0m\n\u001B[0;32m     39\u001B[0m     obv\u001B[38;5;241m.\u001B[39mon_error(err)\n\u001B[0;32m     40\u001B[0m \u001B[38;5;28;01melse\u001B[39;00m:\n\u001B[1;32m---> 41\u001B[0m     obv\u001B[38;5;241m.\u001B[39mon_next(result)\n",
      "File \u001B[1;32m~\\miniconda3\\envs\\pythonProject\\Lib\\site-packages\\rx\\core\\observer\\autodetachobserver.py:26\u001B[0m, in \u001B[0;36mAutoDetachObserver.on_next\u001B[1;34m(self, value)\u001B[0m\n\u001B[0;32m     24\u001B[0m \u001B[38;5;28;01mif\u001B[39;00m \u001B[38;5;28mself\u001B[39m\u001B[38;5;241m.\u001B[39mis_stopped:\n\u001B[0;32m     25\u001B[0m     \u001B[38;5;28;01mreturn\u001B[39;00m\n\u001B[1;32m---> 26\u001B[0m \u001B[38;5;28mself\u001B[39m\u001B[38;5;241m.\u001B[39m_on_next(value)\n",
      "File \u001B[1;32m~\\miniconda3\\envs\\pythonProject\\Lib\\site-packages\\rx\\core\\operators\\merge.py:113\u001B[0m, in \u001B[0;36m_merge_all.<locals>.merge_all.<locals>.subscribe.<locals>.on_next\u001B[1;34m(inner_source)\u001B[0m\n\u001B[0;32m    111\u001B[0m on_next \u001B[38;5;241m=\u001B[39m synchronized(source\u001B[38;5;241m.\u001B[39mlock)(observer\u001B[38;5;241m.\u001B[39mon_next)\n\u001B[0;32m    112\u001B[0m on_error \u001B[38;5;241m=\u001B[39m synchronized(source\u001B[38;5;241m.\u001B[39mlock)(observer\u001B[38;5;241m.\u001B[39mon_error)\n\u001B[1;32m--> 113\u001B[0m subscription \u001B[38;5;241m=\u001B[39m inner_source\u001B[38;5;241m.\u001B[39msubscribe_(on_next, on_error, on_completed, scheduler)\n\u001B[0;32m    114\u001B[0m inner_subscription\u001B[38;5;241m.\u001B[39mdisposable \u001B[38;5;241m=\u001B[39m subscription\n",
      "File \u001B[1;32m~\\miniconda3\\envs\\pythonProject\\Lib\\site-packages\\rx\\core\\observable\\observable.py:154\u001B[0m, in \u001B[0;36mObservable.subscribe_\u001B[1;34m(self, on_next, on_error, on_completed, scheduler)\u001B[0m\n\u001B[0;32m    152\u001B[0m current_thread_scheduler \u001B[38;5;241m=\u001B[39m CurrentThreadScheduler\u001B[38;5;241m.\u001B[39msingleton()\n\u001B[0;32m    153\u001B[0m \u001B[38;5;28;01mif\u001B[39;00m current_thread_scheduler\u001B[38;5;241m.\u001B[39mschedule_required():\n\u001B[1;32m--> 154\u001B[0m     current_thread_scheduler\u001B[38;5;241m.\u001B[39mschedule(set_disposable)\n\u001B[0;32m    155\u001B[0m \u001B[38;5;28;01melse\u001B[39;00m:\n\u001B[0;32m    156\u001B[0m     set_disposable()\n",
      "File \u001B[1;32m~\\miniconda3\\envs\\pythonProject\\Lib\\site-packages\\rx\\scheduler\\trampolinescheduler.py:50\u001B[0m, in \u001B[0;36mTrampolineScheduler.schedule\u001B[1;34m(self, action, state)\u001B[0m\n\u001B[0;32m     35\u001B[0m \u001B[38;5;28;01mdef\u001B[39;00m \u001B[38;5;21mschedule\u001B[39m(\u001B[38;5;28mself\u001B[39m,\n\u001B[0;32m     36\u001B[0m              action: typing\u001B[38;5;241m.\u001B[39mScheduledAction,\n\u001B[0;32m     37\u001B[0m              state: Optional[typing\u001B[38;5;241m.\u001B[39mTState] \u001B[38;5;241m=\u001B[39m \u001B[38;5;28;01mNone\u001B[39;00m\n\u001B[0;32m     38\u001B[0m              ) \u001B[38;5;241m-\u001B[39m\u001B[38;5;241m>\u001B[39m typing\u001B[38;5;241m.\u001B[39mDisposable:\n\u001B[0;32m     39\u001B[0m \u001B[38;5;250m    \u001B[39m\u001B[38;5;124;03m\"\"\"Schedules an action to be executed.\u001B[39;00m\n\u001B[0;32m     40\u001B[0m \n\u001B[0;32m     41\u001B[0m \u001B[38;5;124;03m    Args:\u001B[39;00m\n\u001B[1;32m   (...)\u001B[0m\n\u001B[0;32m     47\u001B[0m \u001B[38;5;124;03m        (best effort).\u001B[39;00m\n\u001B[0;32m     48\u001B[0m \u001B[38;5;124;03m    \"\"\"\u001B[39;00m\n\u001B[1;32m---> 50\u001B[0m     \u001B[38;5;28;01mreturn\u001B[39;00m \u001B[38;5;28mself\u001B[39m\u001B[38;5;241m.\u001B[39mschedule_absolute(\u001B[38;5;28mself\u001B[39m\u001B[38;5;241m.\u001B[39mnow, action, state\u001B[38;5;241m=\u001B[39mstate)\n",
      "File \u001B[1;32m~\\miniconda3\\envs\\pythonProject\\Lib\\site-packages\\rx\\scheduler\\trampolinescheduler.py:94\u001B[0m, in \u001B[0;36mTrampolineScheduler.schedule_absolute\u001B[1;34m(self, duetime, action, state)\u001B[0m\n\u001B[0;32m     91\u001B[0m     log\u001B[38;5;241m.\u001B[39mwarning(\u001B[38;5;124m'\u001B[39m\u001B[38;5;124mDo not schedule blocking work!\u001B[39m\u001B[38;5;124m'\u001B[39m)\n\u001B[0;32m     92\u001B[0m item: ScheduledItem \u001B[38;5;241m=\u001B[39m ScheduledItem(\u001B[38;5;28mself\u001B[39m, state, action, dt)\n\u001B[1;32m---> 94\u001B[0m \u001B[38;5;28mself\u001B[39m\u001B[38;5;241m.\u001B[39mget_trampoline()\u001B[38;5;241m.\u001B[39mrun(item)\n\u001B[0;32m     96\u001B[0m \u001B[38;5;28;01mreturn\u001B[39;00m item\u001B[38;5;241m.\u001B[39mdisposable\n",
      "File \u001B[1;32m~\\miniconda3\\envs\\pythonProject\\Lib\\site-packages\\rx\\scheduler\\trampoline.py:31\u001B[0m, in \u001B[0;36mTrampoline.run\u001B[1;34m(self, item)\u001B[0m\n\u001B[0;32m     29\u001B[0m         \u001B[38;5;28;01mreturn\u001B[39;00m\n\u001B[0;32m     30\u001B[0m \u001B[38;5;28;01mtry\u001B[39;00m:\n\u001B[1;32m---> 31\u001B[0m     \u001B[38;5;28mself\u001B[39m\u001B[38;5;241m.\u001B[39m_run()\n\u001B[0;32m     32\u001B[0m \u001B[38;5;28;01mfinally\u001B[39;00m:\n\u001B[0;32m     33\u001B[0m     \u001B[38;5;28;01mwith\u001B[39;00m \u001B[38;5;28mself\u001B[39m\u001B[38;5;241m.\u001B[39m_lock:\n",
      "File \u001B[1;32m~\\miniconda3\\envs\\pythonProject\\Lib\\site-packages\\rx\\scheduler\\trampoline.py:52\u001B[0m, in \u001B[0;36mTrampoline._run\u001B[1;34m(self)\u001B[0m\n\u001B[0;32m     50\u001B[0m     item \u001B[38;5;241m=\u001B[39m ready\u001B[38;5;241m.\u001B[39mpopleft()\n\u001B[0;32m     51\u001B[0m     \u001B[38;5;28;01mif\u001B[39;00m \u001B[38;5;129;01mnot\u001B[39;00m item\u001B[38;5;241m.\u001B[39mis_cancelled():\n\u001B[1;32m---> 52\u001B[0m         item\u001B[38;5;241m.\u001B[39minvoke()\n\u001B[0;32m     54\u001B[0m \u001B[38;5;28;01mwith\u001B[39;00m \u001B[38;5;28mself\u001B[39m\u001B[38;5;241m.\u001B[39m_lock:\n\u001B[0;32m     55\u001B[0m     \u001B[38;5;28;01mif\u001B[39;00m \u001B[38;5;28mlen\u001B[39m(\u001B[38;5;28mself\u001B[39m\u001B[38;5;241m.\u001B[39m_queue) \u001B[38;5;241m==\u001B[39m \u001B[38;5;241m0\u001B[39m:\n",
      "File \u001B[1;32m~\\miniconda3\\envs\\pythonProject\\Lib\\site-packages\\rx\\scheduler\\scheduleditem.py:25\u001B[0m, in \u001B[0;36mScheduledItem.invoke\u001B[1;34m(self)\u001B[0m\n\u001B[0;32m     24\u001B[0m \u001B[38;5;28;01mdef\u001B[39;00m \u001B[38;5;21minvoke\u001B[39m(\u001B[38;5;28mself\u001B[39m) \u001B[38;5;241m-\u001B[39m\u001B[38;5;241m>\u001B[39m \u001B[38;5;28;01mNone\u001B[39;00m:\n\u001B[1;32m---> 25\u001B[0m     ret \u001B[38;5;241m=\u001B[39m \u001B[38;5;28mself\u001B[39m\u001B[38;5;241m.\u001B[39mscheduler\u001B[38;5;241m.\u001B[39minvoke_action(\u001B[38;5;28mself\u001B[39m\u001B[38;5;241m.\u001B[39maction, state\u001B[38;5;241m=\u001B[39m\u001B[38;5;28mself\u001B[39m\u001B[38;5;241m.\u001B[39mstate)\n\u001B[0;32m     26\u001B[0m     \u001B[38;5;28mself\u001B[39m\u001B[38;5;241m.\u001B[39mdisposable\u001B[38;5;241m.\u001B[39mdisposable \u001B[38;5;241m=\u001B[39m ret\n",
      "File \u001B[1;32m~\\miniconda3\\envs\\pythonProject\\Lib\\site-packages\\rx\\scheduler\\scheduler.py:103\u001B[0m, in \u001B[0;36mScheduler.invoke_action\u001B[1;34m(self, action, state)\u001B[0m\n\u001B[0;32m     87\u001B[0m \u001B[38;5;28;01mdef\u001B[39;00m \u001B[38;5;21minvoke_action\u001B[39m(\u001B[38;5;28mself\u001B[39m,\n\u001B[0;32m     88\u001B[0m                   action: typing\u001B[38;5;241m.\u001B[39mScheduledAction,\n\u001B[0;32m     89\u001B[0m                   state: Optional[typing\u001B[38;5;241m.\u001B[39mTState] \u001B[38;5;241m=\u001B[39m \u001B[38;5;28;01mNone\u001B[39;00m\n\u001B[0;32m     90\u001B[0m                   ) \u001B[38;5;241m-\u001B[39m\u001B[38;5;241m>\u001B[39m typing\u001B[38;5;241m.\u001B[39mDisposable:\n\u001B[0;32m     91\u001B[0m \u001B[38;5;250m    \u001B[39m\u001B[38;5;124;03m\"\"\"Invoke the given given action. This is typically called by instances\u001B[39;00m\n\u001B[0;32m     92\u001B[0m \u001B[38;5;124;03m    of ScheduledItem.\u001B[39;00m\n\u001B[0;32m     93\u001B[0m \n\u001B[1;32m   (...)\u001B[0m\n\u001B[0;32m    100\u001B[0m \u001B[38;5;124;03m        (no-op) disposable otherwise.\u001B[39;00m\n\u001B[0;32m    101\u001B[0m \u001B[38;5;124;03m    \"\"\"\u001B[39;00m\n\u001B[1;32m--> 103\u001B[0m     ret \u001B[38;5;241m=\u001B[39m action(\u001B[38;5;28mself\u001B[39m, state)\n\u001B[0;32m    104\u001B[0m     \u001B[38;5;28;01mif\u001B[39;00m \u001B[38;5;28misinstance\u001B[39m(ret, typing\u001B[38;5;241m.\u001B[39mDisposable):\n\u001B[0;32m    105\u001B[0m         \u001B[38;5;28;01mreturn\u001B[39;00m ret\n",
      "File \u001B[1;32m~\\miniconda3\\envs\\pythonProject\\Lib\\site-packages\\rx\\core\\observable\\fromiterable.py:34\u001B[0m, in \u001B[0;36mfrom_iterable.<locals>.subscribe.<locals>.action\u001B[1;34m(_, __)\u001B[0m\n\u001B[0;32m     32\u001B[0m     \u001B[38;5;28;01mwhile\u001B[39;00m \u001B[38;5;129;01mnot\u001B[39;00m disposed:\n\u001B[0;32m     33\u001B[0m         value \u001B[38;5;241m=\u001B[39m \u001B[38;5;28mnext\u001B[39m(iterator)\n\u001B[1;32m---> 34\u001B[0m         observer\u001B[38;5;241m.\u001B[39mon_next(value)\n\u001B[0;32m     35\u001B[0m \u001B[38;5;28;01mexcept\u001B[39;00m \u001B[38;5;167;01mStopIteration\u001B[39;00m:\n\u001B[0;32m     36\u001B[0m     observer\u001B[38;5;241m.\u001B[39mon_completed()\n",
      "File \u001B[1;32m~\\miniconda3\\envs\\pythonProject\\Lib\\site-packages\\rx\\core\\observer\\autodetachobserver.py:26\u001B[0m, in \u001B[0;36mAutoDetachObserver.on_next\u001B[1;34m(self, value)\u001B[0m\n\u001B[0;32m     24\u001B[0m \u001B[38;5;28;01mif\u001B[39;00m \u001B[38;5;28mself\u001B[39m\u001B[38;5;241m.\u001B[39mis_stopped:\n\u001B[0;32m     25\u001B[0m     \u001B[38;5;28;01mreturn\u001B[39;00m\n\u001B[1;32m---> 26\u001B[0m \u001B[38;5;28mself\u001B[39m\u001B[38;5;241m.\u001B[39m_on_next(value)\n",
      "File \u001B[1;32m~\\miniconda3\\envs\\pythonProject\\Lib\\site-packages\\rx\\internal\\concurrency.py:16\u001B[0m, in \u001B[0;36msynchronized.<locals>.wrapper.<locals>.inner\u001B[1;34m(*args, **kw)\u001B[0m\n\u001B[0;32m     14\u001B[0m \u001B[38;5;28;01mdef\u001B[39;00m \u001B[38;5;21minner\u001B[39m(\u001B[38;5;241m*\u001B[39margs, \u001B[38;5;241m*\u001B[39m\u001B[38;5;241m*\u001B[39mkw):\n\u001B[0;32m     15\u001B[0m     \u001B[38;5;28;01mwith\u001B[39;00m lock:\n\u001B[1;32m---> 16\u001B[0m         \u001B[38;5;28;01mreturn\u001B[39;00m fn(\u001B[38;5;241m*\u001B[39margs, \u001B[38;5;241m*\u001B[39m\u001B[38;5;241m*\u001B[39mkw)\n",
      "File \u001B[1;32m~\\miniconda3\\envs\\pythonProject\\Lib\\site-packages\\rx\\core\\observer\\autodetachobserver.py:26\u001B[0m, in \u001B[0;36mAutoDetachObserver.on_next\u001B[1;34m(self, value)\u001B[0m\n\u001B[0;32m     24\u001B[0m \u001B[38;5;28;01mif\u001B[39;00m \u001B[38;5;28mself\u001B[39m\u001B[38;5;241m.\u001B[39mis_stopped:\n\u001B[0;32m     25\u001B[0m     \u001B[38;5;28;01mreturn\u001B[39;00m\n\u001B[1;32m---> 26\u001B[0m \u001B[38;5;28mself\u001B[39m\u001B[38;5;241m.\u001B[39m_on_next(value)\n",
      "File \u001B[1;32m~\\miniconda3\\envs\\pythonProject\\Lib\\site-packages\\rx\\core\\operators\\do.py:48\u001B[0m, in \u001B[0;36m_do_action.<locals>.do_action.<locals>.subscribe.<locals>._on_next\u001B[1;34m(x)\u001B[0m\n\u001B[0;32m     45\u001B[0m \u001B[38;5;28;01mexcept\u001B[39;00m \u001B[38;5;167;01mException\u001B[39;00m \u001B[38;5;28;01mas\u001B[39;00m e:  \u001B[38;5;66;03m# pylint: disable=broad-except\u001B[39;00m\n\u001B[0;32m     46\u001B[0m     observer\u001B[38;5;241m.\u001B[39mon_error(e)\n\u001B[1;32m---> 48\u001B[0m observer\u001B[38;5;241m.\u001B[39mon_next(x)\n",
      "File \u001B[1;32m~\\miniconda3\\envs\\pythonProject\\Lib\\site-packages\\rx\\core\\observer\\autodetachobserver.py:26\u001B[0m, in \u001B[0;36mAutoDetachObserver.on_next\u001B[1;34m(self, value)\u001B[0m\n\u001B[0;32m     24\u001B[0m \u001B[38;5;28;01mif\u001B[39;00m \u001B[38;5;28mself\u001B[39m\u001B[38;5;241m.\u001B[39mis_stopped:\n\u001B[0;32m     25\u001B[0m     \u001B[38;5;28;01mreturn\u001B[39;00m\n\u001B[1;32m---> 26\u001B[0m \u001B[38;5;28mself\u001B[39m\u001B[38;5;241m.\u001B[39m_on_next(value)\n",
      "File \u001B[1;32m~\\miniconda3\\envs\\pythonProject\\Lib\\site-packages\\rx\\core\\operators\\do.py:48\u001B[0m, in \u001B[0;36m_do_action.<locals>.do_action.<locals>.subscribe.<locals>._on_next\u001B[1;34m(x)\u001B[0m\n\u001B[0;32m     45\u001B[0m \u001B[38;5;28;01mexcept\u001B[39;00m \u001B[38;5;167;01mException\u001B[39;00m \u001B[38;5;28;01mas\u001B[39;00m e:  \u001B[38;5;66;03m# pylint: disable=broad-except\u001B[39;00m\n\u001B[0;32m     46\u001B[0m     observer\u001B[38;5;241m.\u001B[39mon_error(e)\n\u001B[1;32m---> 48\u001B[0m observer\u001B[38;5;241m.\u001B[39mon_next(x)\n",
      "    \u001B[1;31m[... skipping similar frames: AutoDetachObserver.on_next at line 26 (1 times)]\u001B[0m\n",
      "File \u001B[1;32m~\\miniconda3\\envs\\pythonProject\\Lib\\site-packages\\rx\\core\\operators\\do.py:48\u001B[0m, in \u001B[0;36m_do_action.<locals>.do_action.<locals>.subscribe.<locals>._on_next\u001B[1;34m(x)\u001B[0m\n\u001B[0;32m     45\u001B[0m \u001B[38;5;28;01mexcept\u001B[39;00m \u001B[38;5;167;01mException\u001B[39;00m \u001B[38;5;28;01mas\u001B[39;00m e:  \u001B[38;5;66;03m# pylint: disable=broad-except\u001B[39;00m\n\u001B[0;32m     46\u001B[0m     observer\u001B[38;5;241m.\u001B[39mon_error(e)\n\u001B[1;32m---> 48\u001B[0m observer\u001B[38;5;241m.\u001B[39mon_next(x)\n",
      "    \u001B[1;31m[... skipping similar frames: AutoDetachObserver.on_next at line 26 (1 times)]\u001B[0m\n",
      "File \u001B[1;32m~\\miniconda3\\envs\\pythonProject\\Lib\\site-packages\\rx\\core\\operators\\map.py:41\u001B[0m, in \u001B[0;36m_map.<locals>.map.<locals>.subscribe.<locals>.on_next\u001B[1;34m(value)\u001B[0m\n\u001B[0;32m     39\u001B[0m     obv\u001B[38;5;241m.\u001B[39mon_error(err)\n\u001B[0;32m     40\u001B[0m \u001B[38;5;28;01melse\u001B[39;00m:\n\u001B[1;32m---> 41\u001B[0m     obv\u001B[38;5;241m.\u001B[39mon_next(result)\n",
      "    \u001B[1;31m[... skipping similar frames: AutoDetachObserver.on_next at line 26 (2 times)]\u001B[0m\n",
      "File \u001B[1;32m~\\miniconda3\\envs\\pythonProject\\Lib\\site-packages\\rx\\core\\operators\\map.py:41\u001B[0m, in \u001B[0;36m_map.<locals>.map.<locals>.subscribe.<locals>.on_next\u001B[1;34m(value)\u001B[0m\n\u001B[0;32m     39\u001B[0m     obv\u001B[38;5;241m.\u001B[39mon_error(err)\n\u001B[0;32m     40\u001B[0m \u001B[38;5;28;01melse\u001B[39;00m:\n\u001B[1;32m---> 41\u001B[0m     obv\u001B[38;5;241m.\u001B[39mon_next(result)\n",
      "File \u001B[1;32m~\\miniconda3\\envs\\pythonProject\\Lib\\site-packages\\rx\\core\\observer\\autodetachobserver.py:26\u001B[0m, in \u001B[0;36mAutoDetachObserver.on_next\u001B[1;34m(self, value)\u001B[0m\n\u001B[0;32m     24\u001B[0m \u001B[38;5;28;01mif\u001B[39;00m \u001B[38;5;28mself\u001B[39m\u001B[38;5;241m.\u001B[39mis_stopped:\n\u001B[0;32m     25\u001B[0m     \u001B[38;5;28;01mreturn\u001B[39;00m\n\u001B[1;32m---> 26\u001B[0m \u001B[38;5;28mself\u001B[39m\u001B[38;5;241m.\u001B[39m_on_next(value)\n",
      "File \u001B[1;32m~\\miniconda3\\envs\\pythonProject\\Lib\\site-packages\\rx\\core\\operators\\do.py:44\u001B[0m, in \u001B[0;36m_do_action.<locals>.do_action.<locals>.subscribe.<locals>._on_next\u001B[1;34m(x)\u001B[0m\n\u001B[0;32m     42\u001B[0m \u001B[38;5;28;01melse\u001B[39;00m:\n\u001B[0;32m     43\u001B[0m     \u001B[38;5;28;01mtry\u001B[39;00m:\n\u001B[1;32m---> 44\u001B[0m         on_next(x)\n\u001B[0;32m     45\u001B[0m     \u001B[38;5;28;01mexcept\u001B[39;00m \u001B[38;5;167;01mException\u001B[39;00m \u001B[38;5;28;01mas\u001B[39;00m e:  \u001B[38;5;66;03m# pylint: disable=broad-except\u001B[39;00m\n\u001B[0;32m     46\u001B[0m         observer\u001B[38;5;241m.\u001B[39mon_error(e)\n",
      "File \u001B[1;32m~\\miniconda3\\envs\\pythonProject\\Lib\\site-packages\\diart\\sinks.py:175\u001B[0m, in \u001B[0;36mStreamingPlot.on_next\u001B[1;34m(self, values)\u001B[0m\n\u001B[0;32m    173\u001B[0m \u001B[38;5;66;03m# Draw\u001B[39;00m\n\u001B[0;32m    174\u001B[0m plt\u001B[38;5;241m.\u001B[39mtight_layout()\n\u001B[1;32m--> 175\u001B[0m \u001B[38;5;28mself\u001B[39m\u001B[38;5;241m.\u001B[39mfigure\u001B[38;5;241m.\u001B[39mcanvas\u001B[38;5;241m.\u001B[39mdraw()\n\u001B[0;32m    176\u001B[0m \u001B[38;5;28mself\u001B[39m\u001B[38;5;241m.\u001B[39mfigure\u001B[38;5;241m.\u001B[39mcanvas\u001B[38;5;241m.\u001B[39mflush_events()\n\u001B[0;32m    177\u001B[0m plt\u001B[38;5;241m.\u001B[39mpause(\u001B[38;5;241m0.05\u001B[39m)\n",
      "File \u001B[1;32m~\\miniconda3\\envs\\pythonProject\\Lib\\site-packages\\matplotlib\\backends\\backend_agg.py:388\u001B[0m, in \u001B[0;36mFigureCanvasAgg.draw\u001B[1;34m(self)\u001B[0m\n\u001B[0;32m    385\u001B[0m \u001B[38;5;66;03m# Acquire a lock on the shared font cache.\u001B[39;00m\n\u001B[0;32m    386\u001B[0m \u001B[38;5;28;01mwith\u001B[39;00m (\u001B[38;5;28mself\u001B[39m\u001B[38;5;241m.\u001B[39mtoolbar\u001B[38;5;241m.\u001B[39m_wait_cursor_for_draw_cm() \u001B[38;5;28;01mif\u001B[39;00m \u001B[38;5;28mself\u001B[39m\u001B[38;5;241m.\u001B[39mtoolbar\n\u001B[0;32m    387\u001B[0m       \u001B[38;5;28;01melse\u001B[39;00m nullcontext()):\n\u001B[1;32m--> 388\u001B[0m     \u001B[38;5;28mself\u001B[39m\u001B[38;5;241m.\u001B[39mfigure\u001B[38;5;241m.\u001B[39mdraw(\u001B[38;5;28mself\u001B[39m\u001B[38;5;241m.\u001B[39mrenderer)\n\u001B[0;32m    389\u001B[0m     \u001B[38;5;66;03m# A GUI class may be need to update a window using this draw, so\u001B[39;00m\n\u001B[0;32m    390\u001B[0m     \u001B[38;5;66;03m# don't forget to call the superclass.\u001B[39;00m\n\u001B[0;32m    391\u001B[0m     \u001B[38;5;28msuper\u001B[39m()\u001B[38;5;241m.\u001B[39mdraw()\n",
      "File \u001B[1;32m~\\miniconda3\\envs\\pythonProject\\Lib\\site-packages\\matplotlib\\artist.py:95\u001B[0m, in \u001B[0;36m_finalize_rasterization.<locals>.draw_wrapper\u001B[1;34m(artist, renderer, *args, **kwargs)\u001B[0m\n\u001B[0;32m     93\u001B[0m \u001B[38;5;129m@wraps\u001B[39m(draw)\n\u001B[0;32m     94\u001B[0m \u001B[38;5;28;01mdef\u001B[39;00m \u001B[38;5;21mdraw_wrapper\u001B[39m(artist, renderer, \u001B[38;5;241m*\u001B[39margs, \u001B[38;5;241m*\u001B[39m\u001B[38;5;241m*\u001B[39mkwargs):\n\u001B[1;32m---> 95\u001B[0m     result \u001B[38;5;241m=\u001B[39m draw(artist, renderer, \u001B[38;5;241m*\u001B[39margs, \u001B[38;5;241m*\u001B[39m\u001B[38;5;241m*\u001B[39mkwargs)\n\u001B[0;32m     96\u001B[0m     \u001B[38;5;28;01mif\u001B[39;00m renderer\u001B[38;5;241m.\u001B[39m_rasterizing:\n\u001B[0;32m     97\u001B[0m         renderer\u001B[38;5;241m.\u001B[39mstop_rasterizing()\n",
      "File \u001B[1;32m~\\miniconda3\\envs\\pythonProject\\Lib\\site-packages\\matplotlib\\artist.py:72\u001B[0m, in \u001B[0;36mallow_rasterization.<locals>.draw_wrapper\u001B[1;34m(artist, renderer)\u001B[0m\n\u001B[0;32m     69\u001B[0m     \u001B[38;5;28;01mif\u001B[39;00m artist\u001B[38;5;241m.\u001B[39mget_agg_filter() \u001B[38;5;129;01mis\u001B[39;00m \u001B[38;5;129;01mnot\u001B[39;00m \u001B[38;5;28;01mNone\u001B[39;00m:\n\u001B[0;32m     70\u001B[0m         renderer\u001B[38;5;241m.\u001B[39mstart_filter()\n\u001B[1;32m---> 72\u001B[0m     \u001B[38;5;28;01mreturn\u001B[39;00m draw(artist, renderer)\n\u001B[0;32m     73\u001B[0m \u001B[38;5;28;01mfinally\u001B[39;00m:\n\u001B[0;32m     74\u001B[0m     \u001B[38;5;28;01mif\u001B[39;00m artist\u001B[38;5;241m.\u001B[39mget_agg_filter() \u001B[38;5;129;01mis\u001B[39;00m \u001B[38;5;129;01mnot\u001B[39;00m \u001B[38;5;28;01mNone\u001B[39;00m:\n",
      "File \u001B[1;32m~\\miniconda3\\envs\\pythonProject\\Lib\\site-packages\\matplotlib\\figure.py:3154\u001B[0m, in \u001B[0;36mFigure.draw\u001B[1;34m(self, renderer)\u001B[0m\n\u001B[0;32m   3151\u001B[0m         \u001B[38;5;66;03m# ValueError can occur when resizing a window.\u001B[39;00m\n\u001B[0;32m   3153\u001B[0m \u001B[38;5;28mself\u001B[39m\u001B[38;5;241m.\u001B[39mpatch\u001B[38;5;241m.\u001B[39mdraw(renderer)\n\u001B[1;32m-> 3154\u001B[0m mimage\u001B[38;5;241m.\u001B[39m_draw_list_compositing_images(\n\u001B[0;32m   3155\u001B[0m     renderer, \u001B[38;5;28mself\u001B[39m, artists, \u001B[38;5;28mself\u001B[39m\u001B[38;5;241m.\u001B[39msuppressComposite)\n\u001B[0;32m   3157\u001B[0m \u001B[38;5;28;01mfor\u001B[39;00m sfig \u001B[38;5;129;01min\u001B[39;00m \u001B[38;5;28mself\u001B[39m\u001B[38;5;241m.\u001B[39msubfigs:\n\u001B[0;32m   3158\u001B[0m     sfig\u001B[38;5;241m.\u001B[39mdraw(renderer)\n",
      "File \u001B[1;32m~\\miniconda3\\envs\\pythonProject\\Lib\\site-packages\\matplotlib\\image.py:132\u001B[0m, in \u001B[0;36m_draw_list_compositing_images\u001B[1;34m(renderer, parent, artists, suppress_composite)\u001B[0m\n\u001B[0;32m    130\u001B[0m \u001B[38;5;28;01mif\u001B[39;00m not_composite \u001B[38;5;129;01mor\u001B[39;00m \u001B[38;5;129;01mnot\u001B[39;00m has_images:\n\u001B[0;32m    131\u001B[0m     \u001B[38;5;28;01mfor\u001B[39;00m a \u001B[38;5;129;01min\u001B[39;00m artists:\n\u001B[1;32m--> 132\u001B[0m         a\u001B[38;5;241m.\u001B[39mdraw(renderer)\n\u001B[0;32m    133\u001B[0m \u001B[38;5;28;01melse\u001B[39;00m:\n\u001B[0;32m    134\u001B[0m     \u001B[38;5;66;03m# Composite any adjacent images together\u001B[39;00m\n\u001B[0;32m    135\u001B[0m     image_group \u001B[38;5;241m=\u001B[39m []\n",
      "File \u001B[1;32m~\\miniconda3\\envs\\pythonProject\\Lib\\site-packages\\matplotlib\\artist.py:72\u001B[0m, in \u001B[0;36mallow_rasterization.<locals>.draw_wrapper\u001B[1;34m(artist, renderer)\u001B[0m\n\u001B[0;32m     69\u001B[0m     \u001B[38;5;28;01mif\u001B[39;00m artist\u001B[38;5;241m.\u001B[39mget_agg_filter() \u001B[38;5;129;01mis\u001B[39;00m \u001B[38;5;129;01mnot\u001B[39;00m \u001B[38;5;28;01mNone\u001B[39;00m:\n\u001B[0;32m     70\u001B[0m         renderer\u001B[38;5;241m.\u001B[39mstart_filter()\n\u001B[1;32m---> 72\u001B[0m     \u001B[38;5;28;01mreturn\u001B[39;00m draw(artist, renderer)\n\u001B[0;32m     73\u001B[0m \u001B[38;5;28;01mfinally\u001B[39;00m:\n\u001B[0;32m     74\u001B[0m     \u001B[38;5;28;01mif\u001B[39;00m artist\u001B[38;5;241m.\u001B[39mget_agg_filter() \u001B[38;5;129;01mis\u001B[39;00m \u001B[38;5;129;01mnot\u001B[39;00m \u001B[38;5;28;01mNone\u001B[39;00m:\n",
      "File \u001B[1;32m~\\miniconda3\\envs\\pythonProject\\Lib\\site-packages\\matplotlib\\axes\\_base.py:3070\u001B[0m, in \u001B[0;36m_AxesBase.draw\u001B[1;34m(self, renderer)\u001B[0m\n\u001B[0;32m   3067\u001B[0m \u001B[38;5;28;01mif\u001B[39;00m artists_rasterized:\n\u001B[0;32m   3068\u001B[0m     _draw_rasterized(\u001B[38;5;28mself\u001B[39m\u001B[38;5;241m.\u001B[39mfigure, artists_rasterized, renderer)\n\u001B[1;32m-> 3070\u001B[0m mimage\u001B[38;5;241m.\u001B[39m_draw_list_compositing_images(\n\u001B[0;32m   3071\u001B[0m     renderer, \u001B[38;5;28mself\u001B[39m, artists, \u001B[38;5;28mself\u001B[39m\u001B[38;5;241m.\u001B[39mfigure\u001B[38;5;241m.\u001B[39msuppressComposite)\n\u001B[0;32m   3073\u001B[0m renderer\u001B[38;5;241m.\u001B[39mclose_group(\u001B[38;5;124m'\u001B[39m\u001B[38;5;124maxes\u001B[39m\u001B[38;5;124m'\u001B[39m)\n\u001B[0;32m   3074\u001B[0m \u001B[38;5;28mself\u001B[39m\u001B[38;5;241m.\u001B[39mstale \u001B[38;5;241m=\u001B[39m \u001B[38;5;28;01mFalse\u001B[39;00m\n",
      "File \u001B[1;32m~\\miniconda3\\envs\\pythonProject\\Lib\\site-packages\\matplotlib\\image.py:132\u001B[0m, in \u001B[0;36m_draw_list_compositing_images\u001B[1;34m(renderer, parent, artists, suppress_composite)\u001B[0m\n\u001B[0;32m    130\u001B[0m \u001B[38;5;28;01mif\u001B[39;00m not_composite \u001B[38;5;129;01mor\u001B[39;00m \u001B[38;5;129;01mnot\u001B[39;00m has_images:\n\u001B[0;32m    131\u001B[0m     \u001B[38;5;28;01mfor\u001B[39;00m a \u001B[38;5;129;01min\u001B[39;00m artists:\n\u001B[1;32m--> 132\u001B[0m         a\u001B[38;5;241m.\u001B[39mdraw(renderer)\n\u001B[0;32m    133\u001B[0m \u001B[38;5;28;01melse\u001B[39;00m:\n\u001B[0;32m    134\u001B[0m     \u001B[38;5;66;03m# Composite any adjacent images together\u001B[39;00m\n\u001B[0;32m    135\u001B[0m     image_group \u001B[38;5;241m=\u001B[39m []\n",
      "File \u001B[1;32m~\\miniconda3\\envs\\pythonProject\\Lib\\site-packages\\matplotlib\\artist.py:72\u001B[0m, in \u001B[0;36mallow_rasterization.<locals>.draw_wrapper\u001B[1;34m(artist, renderer)\u001B[0m\n\u001B[0;32m     69\u001B[0m     \u001B[38;5;28;01mif\u001B[39;00m artist\u001B[38;5;241m.\u001B[39mget_agg_filter() \u001B[38;5;129;01mis\u001B[39;00m \u001B[38;5;129;01mnot\u001B[39;00m \u001B[38;5;28;01mNone\u001B[39;00m:\n\u001B[0;32m     70\u001B[0m         renderer\u001B[38;5;241m.\u001B[39mstart_filter()\n\u001B[1;32m---> 72\u001B[0m     \u001B[38;5;28;01mreturn\u001B[39;00m draw(artist, renderer)\n\u001B[0;32m     73\u001B[0m \u001B[38;5;28;01mfinally\u001B[39;00m:\n\u001B[0;32m     74\u001B[0m     \u001B[38;5;28;01mif\u001B[39;00m artist\u001B[38;5;241m.\u001B[39mget_agg_filter() \u001B[38;5;129;01mis\u001B[39;00m \u001B[38;5;129;01mnot\u001B[39;00m \u001B[38;5;28;01mNone\u001B[39;00m:\n",
      "File \u001B[1;32m~\\miniconda3\\envs\\pythonProject\\Lib\\site-packages\\matplotlib\\legend.py:769\u001B[0m, in \u001B[0;36mLegend.draw\u001B[1;34m(self, renderer)\u001B[0m\n\u001B[0;32m    765\u001B[0m     \u001B[38;5;28mself\u001B[39m\u001B[38;5;241m.\u001B[39m_legend_box\u001B[38;5;241m.\u001B[39mset_width(\u001B[38;5;28mself\u001B[39m\u001B[38;5;241m.\u001B[39mget_bbox_to_anchor()\u001B[38;5;241m.\u001B[39mwidth \u001B[38;5;241m-\u001B[39m pad)\n\u001B[0;32m    767\u001B[0m \u001B[38;5;66;03m# update the location and size of the legend. This needs to\u001B[39;00m\n\u001B[0;32m    768\u001B[0m \u001B[38;5;66;03m# be done in any case to clip the figure right.\u001B[39;00m\n\u001B[1;32m--> 769\u001B[0m bbox \u001B[38;5;241m=\u001B[39m \u001B[38;5;28mself\u001B[39m\u001B[38;5;241m.\u001B[39m_legend_box\u001B[38;5;241m.\u001B[39mget_window_extent(renderer)\n\u001B[0;32m    770\u001B[0m \u001B[38;5;28mself\u001B[39m\u001B[38;5;241m.\u001B[39mlegendPatch\u001B[38;5;241m.\u001B[39mset_bounds(bbox\u001B[38;5;241m.\u001B[39mbounds)\n\u001B[0;32m    771\u001B[0m \u001B[38;5;28mself\u001B[39m\u001B[38;5;241m.\u001B[39mlegendPatch\u001B[38;5;241m.\u001B[39mset_mutation_scale(fontsize)\n",
      "File \u001B[1;32m~\\miniconda3\\envs\\pythonProject\\Lib\\site-packages\\matplotlib\\offsetbox.py:399\u001B[0m, in \u001B[0;36mOffsetBox.get_window_extent\u001B[1;34m(self, renderer)\u001B[0m\n\u001B[0;32m    397\u001B[0m \u001B[38;5;28;01mif\u001B[39;00m renderer \u001B[38;5;129;01mis\u001B[39;00m \u001B[38;5;28;01mNone\u001B[39;00m:\n\u001B[0;32m    398\u001B[0m     renderer \u001B[38;5;241m=\u001B[39m \u001B[38;5;28mself\u001B[39m\u001B[38;5;241m.\u001B[39mfigure\u001B[38;5;241m.\u001B[39m_get_renderer()\n\u001B[1;32m--> 399\u001B[0m bbox \u001B[38;5;241m=\u001B[39m \u001B[38;5;28mself\u001B[39m\u001B[38;5;241m.\u001B[39mget_bbox(renderer)\n\u001B[0;32m    400\u001B[0m \u001B[38;5;28;01mtry\u001B[39;00m:  \u001B[38;5;66;03m# Some subclasses redefine get_offset to take no args.\u001B[39;00m\n\u001B[0;32m    401\u001B[0m     px, py \u001B[38;5;241m=\u001B[39m \u001B[38;5;28mself\u001B[39m\u001B[38;5;241m.\u001B[39mget_offset(bbox, renderer)\n",
      "File \u001B[1;32m~\\miniconda3\\envs\\pythonProject\\Lib\\site-packages\\matplotlib\\offsetbox.py:366\u001B[0m, in \u001B[0;36mOffsetBox.get_bbox\u001B[1;34m(self, renderer)\u001B[0m\n\u001B[0;32m    364\u001B[0m \u001B[38;5;28;01mdef\u001B[39;00m \u001B[38;5;21mget_bbox\u001B[39m(\u001B[38;5;28mself\u001B[39m, renderer):\n\u001B[0;32m    365\u001B[0m \u001B[38;5;250m    \u001B[39m\u001B[38;5;124;03m\"\"\"Return the bbox of the offsetbox, ignoring parent offsets.\"\"\"\u001B[39;00m\n\u001B[1;32m--> 366\u001B[0m     bbox, offsets \u001B[38;5;241m=\u001B[39m \u001B[38;5;28mself\u001B[39m\u001B[38;5;241m.\u001B[39m_get_bbox_and_child_offsets(renderer)\n\u001B[0;32m    367\u001B[0m     \u001B[38;5;28;01mreturn\u001B[39;00m bbox\n",
      "File \u001B[1;32m~\\miniconda3\\envs\\pythonProject\\Lib\\site-packages\\matplotlib\\offsetbox.py:484\u001B[0m, in \u001B[0;36mVPacker._get_bbox_and_child_offsets\u001B[1;34m(self, renderer)\u001B[0m\n\u001B[0;32m    481\u001B[0m         \u001B[38;5;28;01mif\u001B[39;00m \u001B[38;5;28misinstance\u001B[39m(c, PackerBase) \u001B[38;5;129;01mand\u001B[39;00m c\u001B[38;5;241m.\u001B[39mmode \u001B[38;5;241m==\u001B[39m \u001B[38;5;124m\"\u001B[39m\u001B[38;5;124mexpand\u001B[39m\u001B[38;5;124m\"\u001B[39m:\n\u001B[0;32m    482\u001B[0m             c\u001B[38;5;241m.\u001B[39mset_width(\u001B[38;5;28mself\u001B[39m\u001B[38;5;241m.\u001B[39mwidth)\n\u001B[1;32m--> 484\u001B[0m bboxes \u001B[38;5;241m=\u001B[39m [c\u001B[38;5;241m.\u001B[39mget_bbox(renderer) \u001B[38;5;28;01mfor\u001B[39;00m c \u001B[38;5;129;01min\u001B[39;00m \u001B[38;5;28mself\u001B[39m\u001B[38;5;241m.\u001B[39mget_visible_children()]\n\u001B[0;32m    485\u001B[0m (x0, x1), xoffsets \u001B[38;5;241m=\u001B[39m _get_aligned_offsets(\n\u001B[0;32m    486\u001B[0m     [bbox\u001B[38;5;241m.\u001B[39mintervalx \u001B[38;5;28;01mfor\u001B[39;00m bbox \u001B[38;5;129;01min\u001B[39;00m bboxes], \u001B[38;5;28mself\u001B[39m\u001B[38;5;241m.\u001B[39mwidth, \u001B[38;5;28mself\u001B[39m\u001B[38;5;241m.\u001B[39malign)\n\u001B[0;32m    487\u001B[0m height, yoffsets \u001B[38;5;241m=\u001B[39m _get_packed_offsets(\n\u001B[0;32m    488\u001B[0m     [bbox\u001B[38;5;241m.\u001B[39mheight \u001B[38;5;28;01mfor\u001B[39;00m bbox \u001B[38;5;129;01min\u001B[39;00m bboxes], \u001B[38;5;28mself\u001B[39m\u001B[38;5;241m.\u001B[39mheight, sep, \u001B[38;5;28mself\u001B[39m\u001B[38;5;241m.\u001B[39mmode)\n",
      "File \u001B[1;32m~\\miniconda3\\envs\\pythonProject\\Lib\\site-packages\\matplotlib\\offsetbox.py:484\u001B[0m, in \u001B[0;36m<listcomp>\u001B[1;34m(.0)\u001B[0m\n\u001B[0;32m    481\u001B[0m         \u001B[38;5;28;01mif\u001B[39;00m \u001B[38;5;28misinstance\u001B[39m(c, PackerBase) \u001B[38;5;129;01mand\u001B[39;00m c\u001B[38;5;241m.\u001B[39mmode \u001B[38;5;241m==\u001B[39m \u001B[38;5;124m\"\u001B[39m\u001B[38;5;124mexpand\u001B[39m\u001B[38;5;124m\"\u001B[39m:\n\u001B[0;32m    482\u001B[0m             c\u001B[38;5;241m.\u001B[39mset_width(\u001B[38;5;28mself\u001B[39m\u001B[38;5;241m.\u001B[39mwidth)\n\u001B[1;32m--> 484\u001B[0m bboxes \u001B[38;5;241m=\u001B[39m [c\u001B[38;5;241m.\u001B[39mget_bbox(renderer) \u001B[38;5;28;01mfor\u001B[39;00m c \u001B[38;5;129;01min\u001B[39;00m \u001B[38;5;28mself\u001B[39m\u001B[38;5;241m.\u001B[39mget_visible_children()]\n\u001B[0;32m    485\u001B[0m (x0, x1), xoffsets \u001B[38;5;241m=\u001B[39m _get_aligned_offsets(\n\u001B[0;32m    486\u001B[0m     [bbox\u001B[38;5;241m.\u001B[39mintervalx \u001B[38;5;28;01mfor\u001B[39;00m bbox \u001B[38;5;129;01min\u001B[39;00m bboxes], \u001B[38;5;28mself\u001B[39m\u001B[38;5;241m.\u001B[39mwidth, \u001B[38;5;28mself\u001B[39m\u001B[38;5;241m.\u001B[39malign)\n\u001B[0;32m    487\u001B[0m height, yoffsets \u001B[38;5;241m=\u001B[39m _get_packed_offsets(\n\u001B[0;32m    488\u001B[0m     [bbox\u001B[38;5;241m.\u001B[39mheight \u001B[38;5;28;01mfor\u001B[39;00m bbox \u001B[38;5;129;01min\u001B[39;00m bboxes], \u001B[38;5;28mself\u001B[39m\u001B[38;5;241m.\u001B[39mheight, sep, \u001B[38;5;28mself\u001B[39m\u001B[38;5;241m.\u001B[39mmode)\n",
      "File \u001B[1;32m~\\miniconda3\\envs\\pythonProject\\Lib\\site-packages\\matplotlib\\offsetbox.py:366\u001B[0m, in \u001B[0;36mOffsetBox.get_bbox\u001B[1;34m(self, renderer)\u001B[0m\n\u001B[0;32m    364\u001B[0m \u001B[38;5;28;01mdef\u001B[39;00m \u001B[38;5;21mget_bbox\u001B[39m(\u001B[38;5;28mself\u001B[39m, renderer):\n\u001B[0;32m    365\u001B[0m \u001B[38;5;250m    \u001B[39m\u001B[38;5;124;03m\"\"\"Return the bbox of the offsetbox, ignoring parent offsets.\"\"\"\u001B[39;00m\n\u001B[1;32m--> 366\u001B[0m     bbox, offsets \u001B[38;5;241m=\u001B[39m \u001B[38;5;28mself\u001B[39m\u001B[38;5;241m.\u001B[39m_get_bbox_and_child_offsets(renderer)\n\u001B[0;32m    367\u001B[0m     \u001B[38;5;28;01mreturn\u001B[39;00m bbox\n",
      "File \u001B[1;32m~\\miniconda3\\envs\\pythonProject\\Lib\\site-packages\\matplotlib\\offsetbox.py:511\u001B[0m, in \u001B[0;36mHPacker._get_bbox_and_child_offsets\u001B[1;34m(self, renderer)\u001B[0m\n\u001B[0;32m    508\u001B[0m pad \u001B[38;5;241m=\u001B[39m \u001B[38;5;28mself\u001B[39m\u001B[38;5;241m.\u001B[39mpad \u001B[38;5;241m*\u001B[39m dpicor\n\u001B[0;32m    509\u001B[0m sep \u001B[38;5;241m=\u001B[39m \u001B[38;5;28mself\u001B[39m\u001B[38;5;241m.\u001B[39msep \u001B[38;5;241m*\u001B[39m dpicor\n\u001B[1;32m--> 511\u001B[0m bboxes \u001B[38;5;241m=\u001B[39m [c\u001B[38;5;241m.\u001B[39mget_bbox(renderer) \u001B[38;5;28;01mfor\u001B[39;00m c \u001B[38;5;129;01min\u001B[39;00m \u001B[38;5;28mself\u001B[39m\u001B[38;5;241m.\u001B[39mget_visible_children()]\n\u001B[0;32m    512\u001B[0m \u001B[38;5;28;01mif\u001B[39;00m \u001B[38;5;129;01mnot\u001B[39;00m bboxes:\n\u001B[0;32m    513\u001B[0m     \u001B[38;5;28;01mreturn\u001B[39;00m Bbox\u001B[38;5;241m.\u001B[39mfrom_bounds(\u001B[38;5;241m0\u001B[39m, \u001B[38;5;241m0\u001B[39m, \u001B[38;5;241m0\u001B[39m, \u001B[38;5;241m0\u001B[39m)\u001B[38;5;241m.\u001B[39mpadded(pad), []\n",
      "File \u001B[1;32m~\\miniconda3\\envs\\pythonProject\\Lib\\site-packages\\matplotlib\\offsetbox.py:511\u001B[0m, in \u001B[0;36m<listcomp>\u001B[1;34m(.0)\u001B[0m\n\u001B[0;32m    508\u001B[0m pad \u001B[38;5;241m=\u001B[39m \u001B[38;5;28mself\u001B[39m\u001B[38;5;241m.\u001B[39mpad \u001B[38;5;241m*\u001B[39m dpicor\n\u001B[0;32m    509\u001B[0m sep \u001B[38;5;241m=\u001B[39m \u001B[38;5;28mself\u001B[39m\u001B[38;5;241m.\u001B[39msep \u001B[38;5;241m*\u001B[39m dpicor\n\u001B[1;32m--> 511\u001B[0m bboxes \u001B[38;5;241m=\u001B[39m [c\u001B[38;5;241m.\u001B[39mget_bbox(renderer) \u001B[38;5;28;01mfor\u001B[39;00m c \u001B[38;5;129;01min\u001B[39;00m \u001B[38;5;28mself\u001B[39m\u001B[38;5;241m.\u001B[39mget_visible_children()]\n\u001B[0;32m    512\u001B[0m \u001B[38;5;28;01mif\u001B[39;00m \u001B[38;5;129;01mnot\u001B[39;00m bboxes:\n\u001B[0;32m    513\u001B[0m     \u001B[38;5;28;01mreturn\u001B[39;00m Bbox\u001B[38;5;241m.\u001B[39mfrom_bounds(\u001B[38;5;241m0\u001B[39m, \u001B[38;5;241m0\u001B[39m, \u001B[38;5;241m0\u001B[39m, \u001B[38;5;241m0\u001B[39m)\u001B[38;5;241m.\u001B[39mpadded(pad), []\n",
      "File \u001B[1;32m~\\miniconda3\\envs\\pythonProject\\Lib\\site-packages\\matplotlib\\offsetbox.py:366\u001B[0m, in \u001B[0;36mOffsetBox.get_bbox\u001B[1;34m(self, renderer)\u001B[0m\n\u001B[0;32m    364\u001B[0m \u001B[38;5;28;01mdef\u001B[39;00m \u001B[38;5;21mget_bbox\u001B[39m(\u001B[38;5;28mself\u001B[39m, renderer):\n\u001B[0;32m    365\u001B[0m \u001B[38;5;250m    \u001B[39m\u001B[38;5;124;03m\"\"\"Return the bbox of the offsetbox, ignoring parent offsets.\"\"\"\u001B[39;00m\n\u001B[1;32m--> 366\u001B[0m     bbox, offsets \u001B[38;5;241m=\u001B[39m \u001B[38;5;28mself\u001B[39m\u001B[38;5;241m.\u001B[39m_get_bbox_and_child_offsets(renderer)\n\u001B[0;32m    367\u001B[0m     \u001B[38;5;28;01mreturn\u001B[39;00m bbox\n",
      "File \u001B[1;32m~\\miniconda3\\envs\\pythonProject\\Lib\\site-packages\\matplotlib\\offsetbox.py:484\u001B[0m, in \u001B[0;36mVPacker._get_bbox_and_child_offsets\u001B[1;34m(self, renderer)\u001B[0m\n\u001B[0;32m    481\u001B[0m         \u001B[38;5;28;01mif\u001B[39;00m \u001B[38;5;28misinstance\u001B[39m(c, PackerBase) \u001B[38;5;129;01mand\u001B[39;00m c\u001B[38;5;241m.\u001B[39mmode \u001B[38;5;241m==\u001B[39m \u001B[38;5;124m\"\u001B[39m\u001B[38;5;124mexpand\u001B[39m\u001B[38;5;124m\"\u001B[39m:\n\u001B[0;32m    482\u001B[0m             c\u001B[38;5;241m.\u001B[39mset_width(\u001B[38;5;28mself\u001B[39m\u001B[38;5;241m.\u001B[39mwidth)\n\u001B[1;32m--> 484\u001B[0m bboxes \u001B[38;5;241m=\u001B[39m [c\u001B[38;5;241m.\u001B[39mget_bbox(renderer) \u001B[38;5;28;01mfor\u001B[39;00m c \u001B[38;5;129;01min\u001B[39;00m \u001B[38;5;28mself\u001B[39m\u001B[38;5;241m.\u001B[39mget_visible_children()]\n\u001B[0;32m    485\u001B[0m (x0, x1), xoffsets \u001B[38;5;241m=\u001B[39m _get_aligned_offsets(\n\u001B[0;32m    486\u001B[0m     [bbox\u001B[38;5;241m.\u001B[39mintervalx \u001B[38;5;28;01mfor\u001B[39;00m bbox \u001B[38;5;129;01min\u001B[39;00m bboxes], \u001B[38;5;28mself\u001B[39m\u001B[38;5;241m.\u001B[39mwidth, \u001B[38;5;28mself\u001B[39m\u001B[38;5;241m.\u001B[39malign)\n\u001B[0;32m    487\u001B[0m height, yoffsets \u001B[38;5;241m=\u001B[39m _get_packed_offsets(\n\u001B[0;32m    488\u001B[0m     [bbox\u001B[38;5;241m.\u001B[39mheight \u001B[38;5;28;01mfor\u001B[39;00m bbox \u001B[38;5;129;01min\u001B[39;00m bboxes], \u001B[38;5;28mself\u001B[39m\u001B[38;5;241m.\u001B[39mheight, sep, \u001B[38;5;28mself\u001B[39m\u001B[38;5;241m.\u001B[39mmode)\n",
      "File \u001B[1;32m~\\miniconda3\\envs\\pythonProject\\Lib\\site-packages\\matplotlib\\offsetbox.py:484\u001B[0m, in \u001B[0;36m<listcomp>\u001B[1;34m(.0)\u001B[0m\n\u001B[0;32m    481\u001B[0m         \u001B[38;5;28;01mif\u001B[39;00m \u001B[38;5;28misinstance\u001B[39m(c, PackerBase) \u001B[38;5;129;01mand\u001B[39;00m c\u001B[38;5;241m.\u001B[39mmode \u001B[38;5;241m==\u001B[39m \u001B[38;5;124m\"\u001B[39m\u001B[38;5;124mexpand\u001B[39m\u001B[38;5;124m\"\u001B[39m:\n\u001B[0;32m    482\u001B[0m             c\u001B[38;5;241m.\u001B[39mset_width(\u001B[38;5;28mself\u001B[39m\u001B[38;5;241m.\u001B[39mwidth)\n\u001B[1;32m--> 484\u001B[0m bboxes \u001B[38;5;241m=\u001B[39m [c\u001B[38;5;241m.\u001B[39mget_bbox(renderer) \u001B[38;5;28;01mfor\u001B[39;00m c \u001B[38;5;129;01min\u001B[39;00m \u001B[38;5;28mself\u001B[39m\u001B[38;5;241m.\u001B[39mget_visible_children()]\n\u001B[0;32m    485\u001B[0m (x0, x1), xoffsets \u001B[38;5;241m=\u001B[39m _get_aligned_offsets(\n\u001B[0;32m    486\u001B[0m     [bbox\u001B[38;5;241m.\u001B[39mintervalx \u001B[38;5;28;01mfor\u001B[39;00m bbox \u001B[38;5;129;01min\u001B[39;00m bboxes], \u001B[38;5;28mself\u001B[39m\u001B[38;5;241m.\u001B[39mwidth, \u001B[38;5;28mself\u001B[39m\u001B[38;5;241m.\u001B[39malign)\n\u001B[0;32m    487\u001B[0m height, yoffsets \u001B[38;5;241m=\u001B[39m _get_packed_offsets(\n\u001B[0;32m    488\u001B[0m     [bbox\u001B[38;5;241m.\u001B[39mheight \u001B[38;5;28;01mfor\u001B[39;00m bbox \u001B[38;5;129;01min\u001B[39;00m bboxes], \u001B[38;5;28mself\u001B[39m\u001B[38;5;241m.\u001B[39mheight, sep, \u001B[38;5;28mself\u001B[39m\u001B[38;5;241m.\u001B[39mmode)\n",
      "File \u001B[1;32m~\\miniconda3\\envs\\pythonProject\\Lib\\site-packages\\matplotlib\\offsetbox.py:366\u001B[0m, in \u001B[0;36mOffsetBox.get_bbox\u001B[1;34m(self, renderer)\u001B[0m\n\u001B[0;32m    364\u001B[0m \u001B[38;5;28;01mdef\u001B[39;00m \u001B[38;5;21mget_bbox\u001B[39m(\u001B[38;5;28mself\u001B[39m, renderer):\n\u001B[0;32m    365\u001B[0m \u001B[38;5;250m    \u001B[39m\u001B[38;5;124;03m\"\"\"Return the bbox of the offsetbox, ignoring parent offsets.\"\"\"\u001B[39;00m\n\u001B[1;32m--> 366\u001B[0m     bbox, offsets \u001B[38;5;241m=\u001B[39m \u001B[38;5;28mself\u001B[39m\u001B[38;5;241m.\u001B[39m_get_bbox_and_child_offsets(renderer)\n\u001B[0;32m    367\u001B[0m     \u001B[38;5;28;01mreturn\u001B[39;00m bbox\n",
      "File \u001B[1;32m~\\miniconda3\\envs\\pythonProject\\Lib\\site-packages\\matplotlib\\offsetbox.py:511\u001B[0m, in \u001B[0;36mHPacker._get_bbox_and_child_offsets\u001B[1;34m(self, renderer)\u001B[0m\n\u001B[0;32m    508\u001B[0m pad \u001B[38;5;241m=\u001B[39m \u001B[38;5;28mself\u001B[39m\u001B[38;5;241m.\u001B[39mpad \u001B[38;5;241m*\u001B[39m dpicor\n\u001B[0;32m    509\u001B[0m sep \u001B[38;5;241m=\u001B[39m \u001B[38;5;28mself\u001B[39m\u001B[38;5;241m.\u001B[39msep \u001B[38;5;241m*\u001B[39m dpicor\n\u001B[1;32m--> 511\u001B[0m bboxes \u001B[38;5;241m=\u001B[39m [c\u001B[38;5;241m.\u001B[39mget_bbox(renderer) \u001B[38;5;28;01mfor\u001B[39;00m c \u001B[38;5;129;01min\u001B[39;00m \u001B[38;5;28mself\u001B[39m\u001B[38;5;241m.\u001B[39mget_visible_children()]\n\u001B[0;32m    512\u001B[0m \u001B[38;5;28;01mif\u001B[39;00m \u001B[38;5;129;01mnot\u001B[39;00m bboxes:\n\u001B[0;32m    513\u001B[0m     \u001B[38;5;28;01mreturn\u001B[39;00m Bbox\u001B[38;5;241m.\u001B[39mfrom_bounds(\u001B[38;5;241m0\u001B[39m, \u001B[38;5;241m0\u001B[39m, \u001B[38;5;241m0\u001B[39m, \u001B[38;5;241m0\u001B[39m)\u001B[38;5;241m.\u001B[39mpadded(pad), []\n",
      "File \u001B[1;32m~\\miniconda3\\envs\\pythonProject\\Lib\\site-packages\\matplotlib\\offsetbox.py:511\u001B[0m, in \u001B[0;36m<listcomp>\u001B[1;34m(.0)\u001B[0m\n\u001B[0;32m    508\u001B[0m pad \u001B[38;5;241m=\u001B[39m \u001B[38;5;28mself\u001B[39m\u001B[38;5;241m.\u001B[39mpad \u001B[38;5;241m*\u001B[39m dpicor\n\u001B[0;32m    509\u001B[0m sep \u001B[38;5;241m=\u001B[39m \u001B[38;5;28mself\u001B[39m\u001B[38;5;241m.\u001B[39msep \u001B[38;5;241m*\u001B[39m dpicor\n\u001B[1;32m--> 511\u001B[0m bboxes \u001B[38;5;241m=\u001B[39m [c\u001B[38;5;241m.\u001B[39mget_bbox(renderer) \u001B[38;5;28;01mfor\u001B[39;00m c \u001B[38;5;129;01min\u001B[39;00m \u001B[38;5;28mself\u001B[39m\u001B[38;5;241m.\u001B[39mget_visible_children()]\n\u001B[0;32m    512\u001B[0m \u001B[38;5;28;01mif\u001B[39;00m \u001B[38;5;129;01mnot\u001B[39;00m bboxes:\n\u001B[0;32m    513\u001B[0m     \u001B[38;5;28;01mreturn\u001B[39;00m Bbox\u001B[38;5;241m.\u001B[39mfrom_bounds(\u001B[38;5;241m0\u001B[39m, \u001B[38;5;241m0\u001B[39m, \u001B[38;5;241m0\u001B[39m, \u001B[38;5;241m0\u001B[39m)\u001B[38;5;241m.\u001B[39mpadded(pad), []\n",
      "File \u001B[1;32m~\\miniconda3\\envs\\pythonProject\\Lib\\site-packages\\matplotlib\\offsetbox.py:795\u001B[0m, in \u001B[0;36mTextArea.get_bbox\u001B[1;34m(self, renderer)\u001B[0m\n\u001B[0;32m    794\u001B[0m \u001B[38;5;28;01mdef\u001B[39;00m \u001B[38;5;21mget_bbox\u001B[39m(\u001B[38;5;28mself\u001B[39m, renderer):\n\u001B[1;32m--> 795\u001B[0m     _, h_, d_ \u001B[38;5;241m=\u001B[39m renderer\u001B[38;5;241m.\u001B[39mget_text_width_height_descent(\n\u001B[0;32m    796\u001B[0m         \u001B[38;5;124m\"\u001B[39m\u001B[38;5;124mlp\u001B[39m\u001B[38;5;124m\"\u001B[39m, \u001B[38;5;28mself\u001B[39m\u001B[38;5;241m.\u001B[39m_text\u001B[38;5;241m.\u001B[39m_fontproperties,\n\u001B[0;32m    797\u001B[0m         ismath\u001B[38;5;241m=\u001B[39m\u001B[38;5;124m\"\u001B[39m\u001B[38;5;124mTeX\u001B[39m\u001B[38;5;124m\"\u001B[39m \u001B[38;5;28;01mif\u001B[39;00m \u001B[38;5;28mself\u001B[39m\u001B[38;5;241m.\u001B[39m_text\u001B[38;5;241m.\u001B[39mget_usetex() \u001B[38;5;28;01melse\u001B[39;00m \u001B[38;5;28;01mFalse\u001B[39;00m)\n\u001B[0;32m    799\u001B[0m     bbox, info, yd \u001B[38;5;241m=\u001B[39m \u001B[38;5;28mself\u001B[39m\u001B[38;5;241m.\u001B[39m_text\u001B[38;5;241m.\u001B[39m_get_layout(renderer)\n\u001B[0;32m    800\u001B[0m     w, h \u001B[38;5;241m=\u001B[39m bbox\u001B[38;5;241m.\u001B[39msize\n",
      "File \u001B[1;32m~\\miniconda3\\envs\\pythonProject\\Lib\\site-packages\\matplotlib\\backends\\backend_agg.py:221\u001B[0m, in \u001B[0;36mRendererAgg.get_text_width_height_descent\u001B[1;34m(self, s, prop, ismath)\u001B[0m\n\u001B[0;32m    218\u001B[0m     \u001B[38;5;28;01mreturn\u001B[39;00m width, height, descent\n\u001B[0;32m    220\u001B[0m font \u001B[38;5;241m=\u001B[39m \u001B[38;5;28mself\u001B[39m\u001B[38;5;241m.\u001B[39m_prepare_font(prop)\n\u001B[1;32m--> 221\u001B[0m font\u001B[38;5;241m.\u001B[39mset_text(s, \u001B[38;5;241m0.0\u001B[39m, flags\u001B[38;5;241m=\u001B[39mget_hinting_flag())\n\u001B[0;32m    222\u001B[0m w, h \u001B[38;5;241m=\u001B[39m font\u001B[38;5;241m.\u001B[39mget_width_height()  \u001B[38;5;66;03m# width and height of unrotated string\u001B[39;00m\n\u001B[0;32m    223\u001B[0m d \u001B[38;5;241m=\u001B[39m font\u001B[38;5;241m.\u001B[39mget_descent()\n",
      "\u001B[1;31mKeyboardInterrupt\u001B[0m: "
     ]
    },
    {
     "data": {
      "text/plain": [
       "<Figure size 640x480 with 0 Axes>"
      ]
     },
     "metadata": {},
     "output_type": "display_data"
    }
   ],
   "execution_count": 5
  },
  {
   "metadata": {},
   "cell_type": "markdown",
   "source": [
    "\n",
    "## Option 2 - Build Pipelines"
   ]
  },
  {
   "cell_type": "code",
   "source": [
    "import matplotlib.cm as cm\n",
    "import rx.operators as ops\n",
    "import diart.operators as dops\n",
    "from diart.sources import MicrophoneAudioSource\n",
    "from diart.blocks import SpeakerSegmentation, OverlapAwareSpeakerEmbedding\n",
    "from pyannote.audio import Model"
   ],
   "metadata": {
    "execution": {
     "iopub.status.busy": "2024-05-16T15:20:13.662447Z",
     "iopub.execute_input": "2024-05-16T15:20:13.662828Z",
     "iopub.status.idle": "2024-05-16T15:20:13.668613Z",
     "shell.execute_reply.started": "2024-05-16T15:20:13.662798Z",
     "shell.execute_reply": "2024-05-16T15:20:13.667319Z"
    },
    "trusted": true,
    "id": "AbDOLWP7UR71",
    "ExecuteTime": {
     "end_time": "2024-05-22T12:36:21.012984Z",
     "start_time": "2024-05-22T12:36:08.678601Z"
    }
   },
   "outputs": [],
   "execution_count": 1
  },
  {
   "cell_type": "code",
   "source": [
    "# pipeline code\n",
    "segmentation = SpeakerSegmentation.from_pretrained(\"pyannote/segmentation\")\n",
    "embedding = OverlapAwareSpeakerEmbedding.from_pretrained(\"pyannote/embedding\")\n",
    "mic = MicrophoneAudioSource()"
   ],
   "metadata": {
    "colab": {
     "base_uri": "https://localhost:8080/",
     "height": 601,
     "referenced_widgets": [
      "5a1407207f444b4197c6a5faea5b3525",
      "dc82d3082a6a4882a53eed7bf49febab",
      "40ce5f4b8d0f4120aaaecc856de2c693",
      "d63b5292c2d3467dad62e4949a8955b2",
      "b521a3d175b647bf89cd5da49c3097e4",
      "2e6d1e4492154d4098d928dcb1a5a627",
      "0f4ae1a28b204594804bb57fd82da22d",
      "d5f60be52d244fad9dd360ee0189a769",
      "98cdd6a469de4e7eb250afa4d5d461e8",
      "898f2bf4a0a846788c60f5897fc4f321",
      "ea495457328e488cb09b623150958d31",
      "0c9cf22f93df4bee8720f943c5e4fdbb",
      "101709020ff741979b26c6d07d854985",
      "0a4c10949aa94b8f90feef5df9cebdb0",
      "56b59a6f2a9841c2b1c6725f15e86708",
      "6467aab8ae014b2d9377b43b7da7e9bf",
      "e4b1966476c245e4b58ce95fa898d08c",
      "5f8b02d22a9844d583040c7295994d50",
      "31b5fe642f3a44e0b48e82fde0d0feaa",
      "0f6918f97e7b49289bb620f3c6cf1db2",
      "c6db82325ebd461786b2c3a822f20d5b",
      "7de1467e6b4e43c8a660eda799057c0b",
      "98947ae12eea47a09e1214dc4992d87e",
      "e6273d2b85b74cbcb2cf43bbdb8c94e2",
      "cdc5c38d4c10424984cba85633b3b8ee",
      "838e5b1814d540e9b48a89084b0562a5",
      "7073f3af6d38447591df856dfc8066ec",
      "83d500dd24e647d98867d10b1108a213",
      "4f6a06133d27408cb76989e626950c2b",
      "1eea9ca52653466cb54052005fddfbea",
      "1e5d2bf554f5449c8953e3022048a1ab",
      "f278232b55484a7ba781b4935400773f",
      "b2a0994fbb0748b39202cf9895aefd2b",
      "3752bcf650504fac88e90d03e1f8ad5d",
      "d7448fa2ffd24d87ad50e6b6ee7e2081",
      "daf7f0af8f334635abc03d57cfdb69f3",
      "7ecac79b4df84d658ecaee774a76143c",
      "a1eecc37ad7a4135b249256886bf7b4f",
      "053b612f4fa64f89a88adedbbbd55162",
      "897282a156ea48119f5f85c3248ad565",
      "93f0c60358f643088d29b07ad604e91f",
      "a8b107ea72964a0185e4ddc00b8ffb9e",
      "90dc6bd2df054fb582a9fc3b2030be8e",
      "50d8d04d479d4b8c9ac145d5577bf84a"
     ]
    },
    "id": "pfGko_QQn0yI",
    "outputId": "30fb8da3-65b8-4f64-f8c2-b6adfa693f24"
   },
   "outputs": [],
   "execution_count": null
  },
  {
   "cell_type": "code",
   "source": [
    "stream = mic.stream.pipe(\n",
    "    # Reformat stream to 5s duration and 500ms shift\n",
    "    dops.rearrange_audio_stream(sample_rate=segmentation.model.sample_rate),\n",
    "    ops.map(lambda wav: (wav, segmentation(wav))),\n",
    "    ops.starmap(embedding)\n",
    ").subscribe(on_next=lambda emb: print(emb.shape))\n",
    "\n",
    "mic.read()"
   ],
   "metadata": {
    "execution": {
     "iopub.status.busy": "2024-05-16T16:23:10.886124Z",
     "iopub.execute_input": "2024-05-16T16:23:10.886545Z",
     "iopub.status.idle": "2024-05-16T16:23:11.112131Z",
     "shell.execute_reply.started": "2024-05-16T16:23:10.886513Z",
     "shell.execute_reply": "2024-05-16T16:23:11.110646Z"
    },
    "trusted": true,
    "colab": {
     "base_uri": "https://localhost:8080/",
     "height": 636,
     "referenced_widgets": [
      "ef74ba45e7924e0085dbf3d1b72b8db7",
      "9815f6ebdcf54fd9ad13859d371d06d3",
      "7638f3c1355e4810a0ad435412a8b299",
      "05080407cb1345a981a454867292d658",
      "573618a5c01b46c9a55fe09b3f67b35b",
      "34efbf224aa24a1097e89dcc0699adfd",
      "17febec68e8e49ecb9caf0adddc2f03e",
      "a4e594e6773641abbcf83c993fa127b7",
      "6e9ca084f2114d819757e3c985689c49",
      "c8a42f00412b404abf487a4b7c6799a4",
      "ad27325b1d7244fdbac87f2217d1e9f0",
      "7fdedc063c19409faa8ffe77950b0031",
      "e9ee604247c74084a7b42e842a25d923",
      "982628d13ec349c89d8e29b79e481f13",
      "62e2c97143ba4801bc30a3cebe743296",
      "888fc6d8eaf9452dba8093b3cf16dddc",
      "e993e071e611420983a6029723d3ca93",
      "a504ea279661433daee81f4ecf40aa09",
      "216bbe056d3940dfbb0179fc4d40b630",
      "de6dd34ee7ed4f1c95ad9cecd81ad998",
      "378b92730d584b1994d91f73496badd0",
      "010510598fed495ca757d2f09899a355",
      "0b7e96d9a17748eeb5080344ae37c1e1",
      "c6513fedb9554baa862c9e5ddded8445",
      "695668d6be624263abe0121f95659383",
      "8be1453e846c406d8151b7fd3faa34e1",
      "fd38061812ff43c4a39bf63d328758d3",
      "60bb9ee400884873aa6b68f924598ea4",
      "53f48626bbce477db07aa159462dbc36",
      "01f33e1facae4d12a701a4a8c58b732b",
      "8e95f11c1b5d4a4dbb312310e51be4de",
      "112806eaaca347a890f636bb4243bcf6",
      "7ce4275c288b40f2b9f3988e9f960fca",
      "0ca35fb3dedc4ede84a3c214579854f6",
      "8ecddc94a4da4a9b94bbd1f08317bf58",
      "f630d7806b894919a1c1528adc972fb4",
      "788ad0ac0645492f9cbc0c9f0b63a812",
      "87f5b5205a244419b3fcab6039700f1f",
      "e44060df6a6d40beb6e854aabfaeefe3",
      "49a18b9b827b4c27bc2d43e4452c69a7",
      "2934bb57d5064149be5d9ed6b6a6bc1e",
      "f472e6b962b1408aa451da0e6c42576a",
      "7dfcf6f5cc144851acf59208cac4199f",
      "7ab85e42e2694c4e9c945b3594b1c3e8"
     ]
    },
    "id": "z_IW-zU2UR72",
    "outputId": "289439a3-4793-46eb-a01e-a3774351a638"
   },
   "outputs": [],
   "execution_count": null
  }
 ]
}
